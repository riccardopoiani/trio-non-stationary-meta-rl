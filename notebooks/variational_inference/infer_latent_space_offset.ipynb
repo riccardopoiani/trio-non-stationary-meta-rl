{
 "cells": [
  {
   "cell_type": "code",
   "execution_count": 63,
   "metadata": {
    "pycharm": {
     "is_executing": false
    }
   },
   "outputs": [],
   "source": [
    "import torch\n",
    "import torch.nn.functional as F\n",
    "from task.TaskGenerator import SinTaskGenerator\n",
    "import matplotlib.pyplot as plt\n",
    "from network.regressors_network import RegressorNetwork\n",
    "from learner.MetaLearner import RegressorMAML"
   ]
  },
  {
   "cell_type": "code",
   "execution_count": 64,
   "metadata": {},
   "outputs": [],
   "source": [
    "class Model(torch.nn.Module):\n",
    "    def __init__(self):\n",
    "        super(Model, self).__init__()\n",
    "        self.enc1 = torch.nn.Linear(3, 32) # 3 input: x, f_t(x), f_(t-1)(x)\n",
    "        self.enc2 = torch.nn.GRU(input_size=32, hidden_size=16, num_layers=3, batch_first=True)\n",
    "        self.enc3 = torch.nn.Linear(16, 16)\n",
    "        self.enc4 = torch.nn.Linear(16, 3)\n",
    "        \n",
    "    def encode(self, context):\n",
    "        n_batch = context.shape[0]\n",
    "        seq_len = context.shape[1]\n",
    "        t = F.elu(self.enc1(context)).view(n_batch, seq_len, 32)\n",
    "        t = self.enc2(t)[0][:, -1, :] # we are interested only in the last output of the sequence\n",
    "        t = F.elu(t)\n",
    "        t = F.elu(self.enc3(t))\n",
    "        return  self.enc4(t)\n",
    "        \n",
    "        \n",
    "    def reparameterize(self, mu, logvar):\n",
    "        std = torch.exp(0.5*logvar)\n",
    "        eps = torch.randn_like(std)\n",
    "        return mu + eps*std\n",
    "    \n",
    "    def forward(self, context):\n",
    "        return self.encode(context)"
   ]
  },
  {
   "cell_type": "code",
   "execution_count": 65,
   "metadata": {},
   "outputs": [],
   "source": [
    "model = Model()\n",
    "optimizer = torch.optim.Adam(model.parameters())"
   ]
  },
  {
   "cell_type": "code",
   "execution_count": 66,
   "metadata": {},
   "outputs": [],
   "source": [
    "def loss_function(recon_f, f):\n",
    "    MSE = F.mse_loss(recon_f, f)\n",
    "    #KLD = -0.5 * torch.sum(1 + logvar - mu.pow(2) - logvar.exp())\n",
    "    \n",
    "    return MSE "
   ]
  },
  {
   "cell_type": "code",
   "execution_count": 67,
   "metadata": {},
   "outputs": [],
   "source": [
    "task_gen = SinTaskGenerator(x_min=-5, x_max=5)\n",
    "dataset = []\n",
    "\n",
    "# Task parameters range\n",
    "max_a = 0.1\n",
    "min_a = 10\n",
    "\n",
    "min_phase = -2\n",
    "max_phase = 2\n",
    "\n",
    "min_freq = 0.1\n",
    "max_freq = 10\n",
    "\n",
    "def sample_task(n_batches=10, test_perc=0, batch_size=128):\n",
    "    a = (min_a - max_a) * torch.rand(1) + max_a\n",
    "    phase = (min_phase - max_phase) * torch.rand(1) + max_phase\n",
    "    f = (min_freq - max_freq) * torch.rand(1) + max_freq\n",
    "    \n",
    "    \"\"\"\n",
    "    a_t2 = a_t1 + torch.rand(1) * offset_a_max\n",
    "    phase_t2 = phase_t1 + torch.rand(1) * offset_phase_max\n",
    "    f_t2 = f_t1 + torch.rand(1) * offset_f_max\n",
    "    \"\"\"\n",
    "    data = task_gen.get_data_loader(amplitude=a, \n",
    "                                    phase=phase,\n",
    "                                    frequency=f,\n",
    "                                    num_batches=n_batches,\n",
    "                                    test_perc=test_perc, \n",
    "                                    batch_size=batch_size)\n",
    "\n",
    "    return data, a, phase, f\n",
    "\n",
    "# Dataset creation\n",
    "n_tasks = 1000\n",
    "data_set = []\n",
    "a_set = []\n",
    "phase_set = []\n",
    "f_set = []\n",
    "param = []\n",
    "for _ in range(n_tasks):\n",
    "    data, a, phase, f = sample_task(n_batches=1, test_perc=0, batch_size=128)\n",
    "    data_set.append(data)\n",
    "    a_set.append(a)\n",
    "    phase_set.append(phase)\n",
    "    f_set.append(f)\n",
    "    param.append((a.item(), phase.item(), f.item()))"
   ]
  },
  {
   "cell_type": "code",
   "execution_count": 68,
   "metadata": {},
   "outputs": [],
   "source": [
    "offset = 2\n",
    "\n",
    "def batch_train_offset(epoch, n_batch=10):\n",
    "    train_loss = 0\n",
    "    n_batch = 32\n",
    "    batch_per_task = 1\n",
    "    task_idx = torch.randint(low=0, high=n_tasks, size=(n_batch,))\n",
    "    task_loader = [data_set[i] for i in task_idx]\n",
    "    curr_param = [param[i] for i in task_idx]\n",
    "\n",
    "    for k in range(batch_per_task):\n",
    "        num_data_context = torch.randint(low=5, high=25, size=(1,)).item()\n",
    "        idx = torch.randint(0, 128, (128,))\n",
    "        ctx_idx = idx[0:num_data_context]\n",
    "        \n",
    "        context = torch.empty(n_batch, num_data_context, 3)\n",
    "        target = torch.empty(n_batch, 3)\n",
    "\n",
    "        # Retrieving data to be fed to the network \n",
    "        i = 0\n",
    "        for t_idx, task in enumerate(task_loader):\n",
    "            # Creating new task\n",
    "            a_offset = torch.rand(1) * offset\n",
    "            p_offset = torch.rand(1) * offset\n",
    "            f_offset = torch.rand(1) * offset\n",
    "            offset_param = torch.Tensor([a_offset, p_offset, f_offset])\n",
    "            target[i] = offset_param\n",
    "\n",
    "            # Creating context to be fed to the network \n",
    "            batch = task[k]['train']\n",
    "            x = batch[0]\n",
    "            task_pred = (curr_param[t_idx][0]+a_offset) * torch.sin((curr_param[t_idx][2]+f_offset)*x+(curr_param[t_idx][1]+p_offset))\n",
    "            batch = torch.cat([batch[0], batch[1], task_pred], dim=1)\n",
    "            context[i] = batch[ctx_idx]\n",
    "            i+=1\n",
    "\n",
    "        optimizer.zero_grad()\n",
    "        z_hat = model(context)\n",
    "\n",
    "        # Compute reconstruction\n",
    "        loss = loss_function(z_hat, target)\n",
    "        loss.backward()\n",
    "\n",
    "        train_loss += loss.item()\n",
    "        optimizer.step()\n",
    "    \n",
    "    return train_loss / (batch_per_task)\n",
    "\n",
    "\n",
    "\n",
    "def batch_train(epoch, n_batch=10):\n",
    "    train_loss = 0\n",
    "    n_batch = 32\n",
    "    batch_per_task = 1\n",
    "    task_idx = torch.randint(low=0, high=n_tasks, size=(n_batch,))\n",
    "    task_loader = [data_set[i] for i in task_idx]\n",
    "    curr_param = [param[i] for i in task_idx]\n",
    "\n",
    "    for k in range(batch_per_task):\n",
    "        num_data_context = torch.randint(low=5, high=25, size=(1,)).item()\n",
    "        idx = torch.randint(0, 128, (128,))\n",
    "        ctx_idx = idx[0:num_data_context]\n",
    "        \n",
    "        context = torch.empty(n_batch, num_data_context, 3)\n",
    "        target = torch.empty(n_batch, 3)\n",
    "\n",
    "        # Retrieving data to be fed to the network \n",
    "        i = 0\n",
    "        for t_idx, task in enumerate(task_loader):\n",
    "            # Creating new task\n",
    "            a_offset = torch.rand(1) * offset\n",
    "            p_offset = torch.rand(1) * offset\n",
    "            f_offset = torch.rand(1) * offset\n",
    "            offset_param = torch.Tensor([curr_param[t_idx][0]+a_offset\n",
    "                                         ,curr_param[t_idx][1]+p_offset, curr_param[t_idx][2]+f_offset])\n",
    "            target[i] = offset_param\n",
    "\n",
    "            # Creating context to be fed to the network \n",
    "            batch = task[k]['train']\n",
    "            x = batch[0]\n",
    "            task_pred = (curr_param[t_idx][0]+a_offset) * torch.sin((curr_param[t_idx][2]+f_offset)*x+(curr_param[t_idx][1]+p_offset))\n",
    "            batch = torch.cat([batch[0], batch[1], task_pred], dim=1)\n",
    "            context[i] = batch[ctx_idx]\n",
    "            i+=1\n",
    "\n",
    "        optimizer.zero_grad()\n",
    "        z_hat = model(context)\n",
    "        print(target)\n",
    "        print(z_hat)\n",
    "\n",
    "        # Compute reconstruction\n",
    "        loss = loss_function(z_hat, target)\n",
    "        loss.backward()\n",
    "\n",
    "        train_loss += loss.item()\n",
    "        optimizer.step()\n",
    "    \n",
    "    return train_loss / (batch_per_task)"
   ]
  },
  {
   "cell_type": "code",
   "execution_count": 69,
   "metadata": {},
   "outputs": [
    {
     "name": "stdout",
     "output_type": "stream",
     "text": [
      "====> Epoch: 0 Average loss: 1.0886\n",
      "====> Epoch: 100 Average loss: 0.4665\n",
      "====> Epoch: 200 Average loss: 0.3976\n",
      "====> Epoch: 300 Average loss: 0.3755\n",
      "====> Epoch: 400 Average loss: 0.3633\n",
      "====> Epoch: 500 Average loss: 0.3547\n",
      "====> Epoch: 600 Average loss: 0.3465\n",
      "====> Epoch: 700 Average loss: 0.3411\n",
      "====> Epoch: 800 Average loss: 0.3361\n",
      "====> Epoch: 900 Average loss: 0.3324\n",
      "====> Epoch: 1000 Average loss: 0.3287\n",
      "====> Epoch: 1100 Average loss: 0.3257\n",
      "====> Epoch: 1200 Average loss: 0.3233\n",
      "====> Epoch: 1300 Average loss: 0.3206\n",
      "====> Epoch: 1400 Average loss: 0.3181\n",
      "====> Epoch: 1500 Average loss: 0.3161\n",
      "====> Epoch: 1600 Average loss: 0.3141\n",
      "====> Epoch: 1700 Average loss: 0.3127\n",
      "====> Epoch: 1800 Average loss: 0.3112\n",
      "====> Epoch: 1900 Average loss: 0.3095\n",
      "====> Epoch: 2000 Average loss: 0.3082\n",
      "====> Epoch: 2100 Average loss: 0.3070\n",
      "====> Epoch: 2200 Average loss: 0.3060\n",
      "====> Epoch: 2300 Average loss: 0.3048\n",
      "====> Epoch: 2400 Average loss: 0.3037\n",
      "====> Epoch: 2500 Average loss: 0.3025\n",
      "====> Epoch: 2600 Average loss: 0.3015\n",
      "====> Epoch: 2700 Average loss: 0.3005\n",
      "====> Epoch: 2800 Average loss: 0.2996\n",
      "====> Epoch: 2900 Average loss: 0.2988\n",
      "====> Epoch: 3000 Average loss: 0.2978\n",
      "====> Epoch: 3100 Average loss: 0.2970\n",
      "====> Epoch: 3200 Average loss: 0.2962\n",
      "====> Epoch: 3300 Average loss: 0.2955\n",
      "====> Epoch: 3400 Average loss: 0.2948\n",
      "====> Epoch: 3500 Average loss: 0.2941\n",
      "====> Epoch: 3600 Average loss: 0.2934\n",
      "====> Epoch: 3700 Average loss: 0.2928\n",
      "====> Epoch: 3800 Average loss: 0.2919\n",
      "====> Epoch: 3900 Average loss: 0.2912\n",
      "====> Epoch: 4000 Average loss: 0.2905\n",
      "====> Epoch: 4100 Average loss: 0.2899\n",
      "====> Epoch: 4200 Average loss: 0.2891\n",
      "====> Epoch: 4300 Average loss: 0.2885\n",
      "====> Epoch: 4400 Average loss: 0.2877\n",
      "====> Epoch: 4500 Average loss: 0.2871\n",
      "====> Epoch: 4600 Average loss: 0.2866\n",
      "====> Epoch: 4700 Average loss: 0.2861\n",
      "====> Epoch: 4800 Average loss: 0.2855\n",
      "====> Epoch: 4900 Average loss: 0.2848\n",
      "====> Epoch: 5000 Average loss: 0.2841\n",
      "====> Epoch: 5100 Average loss: 0.2836\n",
      "====> Epoch: 5200 Average loss: 0.2830\n",
      "====> Epoch: 5300 Average loss: 0.2826\n",
      "====> Epoch: 5400 Average loss: 0.2822\n",
      "====> Epoch: 5500 Average loss: 0.2817\n",
      "====> Epoch: 5600 Average loss: 0.2812\n",
      "====> Epoch: 5700 Average loss: 0.2806\n",
      "====> Epoch: 5800 Average loss: 0.2801\n",
      "====> Epoch: 5900 Average loss: 0.2796\n",
      "====> Epoch: 6000 Average loss: 0.2792\n",
      "====> Epoch: 6100 Average loss: 0.2788\n",
      "====> Epoch: 6200 Average loss: 0.2784\n",
      "====> Epoch: 6300 Average loss: 0.2780\n",
      "====> Epoch: 6400 Average loss: 0.2776\n",
      "====> Epoch: 6500 Average loss: 0.2772\n",
      "====> Epoch: 6600 Average loss: 0.2768\n",
      "====> Epoch: 6700 Average loss: 0.2763\n",
      "====> Epoch: 6800 Average loss: 0.2759\n",
      "====> Epoch: 6900 Average loss: 0.2755\n",
      "====> Epoch: 7000 Average loss: 0.2751\n",
      "====> Epoch: 7100 Average loss: 0.2748\n",
      "====> Epoch: 7200 Average loss: 0.2744\n",
      "====> Epoch: 7300 Average loss: 0.2740\n",
      "====> Epoch: 7400 Average loss: 0.2736\n",
      "====> Epoch: 7500 Average loss: 0.2733\n",
      "====> Epoch: 7600 Average loss: 0.2729\n",
      "====> Epoch: 7700 Average loss: 0.2725\n",
      "====> Epoch: 7800 Average loss: 0.2722\n",
      "====> Epoch: 7900 Average loss: 0.2719\n",
      "====> Epoch: 8000 Average loss: 0.2715\n",
      "====> Epoch: 8100 Average loss: 0.2711\n",
      "====> Epoch: 8200 Average loss: 0.2708\n",
      "====> Epoch: 8300 Average loss: 0.2704\n",
      "====> Epoch: 8400 Average loss: 0.2700\n",
      "====> Epoch: 8500 Average loss: 0.2697\n",
      "====> Epoch: 8600 Average loss: 0.2694\n",
      "====> Epoch: 8700 Average loss: 0.2691\n",
      "====> Epoch: 8800 Average loss: 0.2688\n",
      "====> Epoch: 8900 Average loss: 0.2685\n",
      "====> Epoch: 9000 Average loss: 0.2682\n",
      "====> Epoch: 9100 Average loss: 0.2679\n",
      "====> Epoch: 9200 Average loss: 0.2675\n",
      "====> Epoch: 9300 Average loss: 0.2674\n",
      "====> Epoch: 9400 Average loss: 0.2671\n",
      "====> Epoch: 9500 Average loss: 0.2668\n",
      "====> Epoch: 9600 Average loss: 0.2665\n",
      "====> Epoch: 9700 Average loss: 0.2663\n",
      "====> Epoch: 9800 Average loss: 0.2661\n",
      "====> Epoch: 9900 Average loss: 0.2658\n",
      "====> Epoch: 10000 Average loss: 0.2656\n",
      "====> Epoch: 10100 Average loss: 0.2654\n",
      "====> Epoch: 10200 Average loss: 0.2651\n",
      "====> Epoch: 10300 Average loss: 0.2649\n",
      "====> Epoch: 10400 Average loss: 0.2647\n",
      "====> Epoch: 10500 Average loss: 0.2644\n",
      "====> Epoch: 10600 Average loss: 0.2642\n",
      "====> Epoch: 10700 Average loss: 0.2639\n",
      "====> Epoch: 10800 Average loss: 0.2637\n",
      "====> Epoch: 10900 Average loss: 0.2636\n",
      "====> Epoch: 11000 Average loss: 0.2633\n",
      "====> Epoch: 11100 Average loss: 0.2630\n",
      "====> Epoch: 11200 Average loss: 0.2629\n",
      "====> Epoch: 11300 Average loss: 0.2627\n",
      "====> Epoch: 11400 Average loss: 0.2625\n",
      "====> Epoch: 11500 Average loss: 0.2623\n",
      "====> Epoch: 11600 Average loss: 0.2620\n",
      "====> Epoch: 11700 Average loss: 0.2617\n",
      "====> Epoch: 11800 Average loss: 0.2616\n",
      "====> Epoch: 11900 Average loss: 0.2614\n",
      "====> Epoch: 12000 Average loss: 0.2612\n",
      "====> Epoch: 12100 Average loss: 0.2609\n",
      "====> Epoch: 12200 Average loss: 0.2608\n",
      "====> Epoch: 12300 Average loss: 0.2606\n",
      "====> Epoch: 12400 Average loss: 0.2604\n",
      "====> Epoch: 12500 Average loss: 0.2602\n",
      "====> Epoch: 12600 Average loss: 0.2600\n",
      "====> Epoch: 12700 Average loss: 0.2597\n",
      "====> Epoch: 12800 Average loss: 0.2595\n",
      "====> Epoch: 12900 Average loss: 0.2593\n",
      "====> Epoch: 13000 Average loss: 0.2592\n",
      "====> Epoch: 13100 Average loss: 0.2590\n",
      "====> Epoch: 13200 Average loss: 0.2589\n",
      "====> Epoch: 13300 Average loss: 0.2587\n",
      "====> Epoch: 13400 Average loss: 0.2585\n",
      "====> Epoch: 13500 Average loss: 0.2583\n",
      "====> Epoch: 13600 Average loss: 0.2581\n",
      "====> Epoch: 13700 Average loss: 0.2579\n",
      "====> Epoch: 13800 Average loss: 0.2578\n",
      "====> Epoch: 13900 Average loss: 0.2576\n",
      "====> Epoch: 14000 Average loss: 0.2574\n",
      "====> Epoch: 14100 Average loss: 0.2572\n",
      "====> Epoch: 14200 Average loss: 0.2571\n",
      "====> Epoch: 14300 Average loss: 0.2569\n",
      "====> Epoch: 14400 Average loss: 0.2567\n",
      "====> Epoch: 14500 Average loss: 0.2566\n",
      "====> Epoch: 14600 Average loss: 0.2564\n",
      "====> Epoch: 14700 Average loss: 0.2562\n",
      "====> Epoch: 14800 Average loss: 0.2560\n",
      "====> Epoch: 14900 Average loss: 0.2559\n",
      "====> Epoch: 15000 Average loss: 0.2558\n",
      "====> Epoch: 15100 Average loss: 0.2556\n",
      "====> Epoch: 15200 Average loss: 0.2555\n",
      "====> Epoch: 15300 Average loss: 0.2554\n",
      "====> Epoch: 15400 Average loss: 0.2552\n",
      "====> Epoch: 15500 Average loss: 0.2550\n",
      "====> Epoch: 15600 Average loss: 0.2548\n",
      "====> Epoch: 15700 Average loss: 0.2547\n",
      "====> Epoch: 15800 Average loss: 0.2546\n",
      "====> Epoch: 15900 Average loss: 0.2544\n",
      "====> Epoch: 16000 Average loss: 0.2543\n",
      "====> Epoch: 16100 Average loss: 0.2542\n",
      "====> Epoch: 16200 Average loss: 0.2540\n",
      "====> Epoch: 16300 Average loss: 0.2539\n",
      "====> Epoch: 16400 Average loss: 0.2537\n",
      "====> Epoch: 16500 Average loss: 0.2536\n",
      "====> Epoch: 16600 Average loss: 0.2535\n",
      "====> Epoch: 16700 Average loss: 0.2534\n",
      "====> Epoch: 16800 Average loss: 0.2533\n",
      "====> Epoch: 16900 Average loss: 0.2531\n",
      "====> Epoch: 17000 Average loss: 0.2530\n",
      "====> Epoch: 17100 Average loss: 0.2529\n",
      "====> Epoch: 17200 Average loss: 0.2527\n",
      "====> Epoch: 17300 Average loss: 0.2526\n",
      "====> Epoch: 17400 Average loss: 0.2525\n",
      "====> Epoch: 17500 Average loss: 0.2524\n",
      "====> Epoch: 17600 Average loss: 0.2522\n",
      "====> Epoch: 17700 Average loss: 0.2521\n",
      "====> Epoch: 17800 Average loss: 0.2520\n",
      "====> Epoch: 17900 Average loss: 0.2519\n",
      "====> Epoch: 18000 Average loss: 0.2518\n",
      "====> Epoch: 18100 Average loss: 0.2517\n",
      "====> Epoch: 18200 Average loss: 0.2516\n",
      "====> Epoch: 18300 Average loss: 0.2514\n",
      "====> Epoch: 18400 Average loss: 0.2513\n",
      "====> Epoch: 18500 Average loss: 0.2512\n",
      "====> Epoch: 18600 Average loss: 0.2510\n",
      "====> Epoch: 18700 Average loss: 0.2510\n",
      "====> Epoch: 18800 Average loss: 0.2508\n",
      "====> Epoch: 18900 Average loss: 0.2507\n",
      "====> Epoch: 19000 Average loss: 0.2506\n",
      "====> Epoch: 19100 Average loss: 0.2505\n",
      "====> Epoch: 19200 Average loss: 0.2504\n",
      "====> Epoch: 19300 Average loss: 0.2502\n",
      "====> Epoch: 19400 Average loss: 0.2501\n",
      "====> Epoch: 19500 Average loss: 0.2500\n",
      "====> Epoch: 19600 Average loss: 0.2499\n",
      "====> Epoch: 19700 Average loss: 0.2498\n",
      "====> Epoch: 19800 Average loss: 0.2496\n",
      "====> Epoch: 19900 Average loss: 0.2495\n"
     ]
    }
   ],
   "source": [
    "n_epochs = 20000\n",
    "losses = []\n",
    "l_sum = 0\n",
    "for i in range(n_epochs):\n",
    "    l = batch_train_offset(i)\n",
    "    l_sum += l\n",
    "    losses.append(l)\n",
    "    if i % 100 == 0:\n",
    "        print('====> Epoch: {} Average loss: {:.4f}'.format(i, l_sum/(i+1)))"
   ]
  },
  {
   "cell_type": "code",
   "execution_count": 70,
   "metadata": {},
   "outputs": [
    {
     "data": {
      "image/png": "[encoded data removed]",
      "text/plain": [
       "<Figure size 432x288 with 1 Axes>"
      ]
     },
     "metadata": {
      "needs_background": "light"
     },
     "output_type": "display_data"
    }
   ],
   "source": [
    "import numpy as np\n",
    "from scipy.signal import savgol_filter\n",
    "y = np.array(losses)\n",
    "x = np.arange(len(y))\n",
    "yhat = savgol_filter(y,5, 3) \n",
    "\n",
    "plt.plot(x[500:], yhat[500:], color='red')\n",
    "plt.show()"
   ]
  },
  {
   "cell_type": "code",
   "execution_count": 51,
   "metadata": {},
   "outputs": [
    {
     "data": {
      "text/plain": [
       "0.40747663378715515"
      ]
     },
     "execution_count": 51,
     "metadata": {},
     "output_type": "execute_result"
    }
   ],
   "source": [
    "y[17500:].max()"
   ]
  },
  {
   "cell_type": "markdown",
   "metadata": {},
   "source": [
    "# Just an example of how we should transform things"
   ]
  },
  {
   "cell_type": "code",
   "execution_count": 52,
   "metadata": {},
   "outputs": [
    {
     "data": {
      "image/png": "[encoded data removed]",
      "text/plain": [
       "<Figure size 432x288 with 1 Axes>"
      ]
     },
     "metadata": {
      "needs_background": "light"
     },
     "output_type": "display_data"
    }
   ],
   "source": [
    "\"\"\"\n",
    "g(zy+d)=a*f(w(zx+d)+phi) = a * f(wzy+wd+phi) -> d = phi/w\n",
    "E poi shift sul coefficente moltiplicativo\n",
    "\n",
    "Ora ho tutto per generare la sequenza di sinusoidi dato lo spazio latente di shifting e l'accesso alla\n",
    "funzione precedente\n",
    "new_x = f_1 * x + ((phi_1-phi_0)/f_0)\n",
    "g_1 = (a_1/a_0) * g_0(new_x) \n",
    "\"\"\"\n",
    "p_0 = 5\n",
    "f_0 = 1\n",
    "a_0 = 3\n",
    "\n",
    "p_1 = 6\n",
    "f_1 = 2\n",
    "a_1 = 10\n",
    "\n",
    "def foo(x):\n",
    "    return a_0*torch.sin(f_0*x+p_0)\n",
    "\n",
    "def foo_2(x):\n",
    "    return a_1*torch.sin(f_1*x+p_1)\n",
    "\n",
    "x_space = torch.arange(0, 10, 0.1)\n",
    "\n",
    "f_original = foo(x_space)\n",
    "f_target = foo_2(x_space)\n",
    "\n",
    "new_space = f_1*x_space+((p_1-p_0)/f_0)\n",
    "new_f = (a_1/a_0)*foo(new_space)\n",
    "\n",
    "plt.plot(x_space, f_original, color='red')\n",
    "plt.plot(x_space, f_target, color='blue')\n",
    "plt.plot(x_space, new_f, color='green')\n",
    "plt.show()"
   ]
  },
  {
   "cell_type": "code",
   "execution_count": 53,
   "metadata": {},
   "outputs": [
    {
     "data": {
      "image/png": "[encoded data removed]",
      "text/plain": [
       "<Figure size 432x288 with 1 Axes>"
      ]
     },
     "metadata": {
      "needs_background": "light"
     },
     "output_type": "display_data"
    }
   ],
   "source": [
    "\"\"\"\n",
    "g(zy+d)=a*f(w(zx+d)+phi) = a * f(wzy+wd+phi) -> d = phi/w\n",
    "E poi shift sul coefficente moltiplicativo\n",
    "\n",
    "Ora ho tutto per generare la sequenza di sinusoidi dato lo spazio latente di shifting e l'accesso alla\n",
    "funzione precedente\n",
    "new_x = f_1 * x + ((phi_1-phi_0)/f_0)\n",
    "g_1 = (a_1/a_0) * g_0(new_x) \n",
    "\"\"\"\n",
    "p_0 = 5\n",
    "f_0 = 1\n",
    "a_0 = 3\n",
    "\n",
    "p_1 = 6\n",
    "f_1 = 2\n",
    "a_1 = 10\n",
    "\n",
    "off_p = p_1 - p_0 \n",
    "off_f = f_1 - f_0\n",
    "off_a = a_1 - a_0\n",
    "\n",
    "def foo(x):\n",
    "    return a_0*torch.sin(f_0*x+p_0)\n",
    "\n",
    "def foo_2(x):\n",
    "    return a_1*torch.sin(f_1*x+p_1)\n",
    "\n",
    "x_space = torch.arange(0, 10, 0.1)\n",
    "\n",
    "f_original = foo(x_space)\n",
    "f_target = foo_2(x_space)\n",
    "\n",
    "new_space = (f_0+off_f)*x_space+((off_p)/f_0)\n",
    "new_f = ((a_0+off_a)/a_0)*foo(new_space)\n",
    "\n",
    "plt.plot(x_space, f_original, color='red')\n",
    "plt.plot(x_space, f_target, color='blue')\n",
    "plt.plot(x_space, new_f, color='green')\n",
    "plt.show()"
   ]
  },
  {
   "cell_type": "markdown",
   "metadata": {},
   "source": [
    "# Now... Let's switch to the sequential setting"
   ]
  },
  {
   "cell_type": "code",
   "execution_count": 54,
   "metadata": {},
   "outputs": [],
   "source": [
    "class NewNetwork(torch.nn.Module):\n",
    "\n",
    "    def __init__(self, input_size, output_size, hidden_size):\n",
    "        super(NewNetwork, self).__init__()\n",
    "        self.layer_1 = torch.nn.Linear(input_size, hidden_size)\n",
    "        self.layer_2 = torch.nn.Linear(hidden_size, hidden_size)\n",
    "        self.layer_3 = torch.nn.Linear(hidden_size, hidden_size)\n",
    "        self.layer_4 = torch.nn.Linear(hidden_size, hidden_size)\n",
    "        self.layer_5 = torch.nn.Linear(hidden_size, output_size)\n",
    "\n",
    "    def forward(self, x):\n",
    "        x = torch.relu(self.layer_1(x))\n",
    "        x = torch.relu(self.layer_2(x))\n",
    "        x = torch.relu(self.layer_3(x))\n",
    "        x = torch.relu(self.layer_4(x))\n",
    "        x = self.layer_5(x)\n",
    "        return x\n",
    "\n",
    "class VaeMAML(RegressorMAML):\n",
    "\n",
    "    def __init__(self, network, vae_model, x_space, n_hallucination=15,\n",
    "                 n_batch_hallucination=5,\n",
    "                 device=\"cpu\", step_size=0.5, first_order=False,\n",
    "                 optimizer=None, learn_step_size=False, per_param_step_size=False,\n",
    "                 num_adaptation_step=1, scheduler=None, loss_function=F.mse_loss):\n",
    "        super(VaeMAML, self).__init__(network,\n",
    "                                      device=device,\n",
    "                                      step_size=step_size,\n",
    "                                      first_order=first_order,\n",
    "                                      optimizer=optimizer,\n",
    "                                      learn_step_size=learn_step_size,\n",
    "                                      per_param_step_size=per_param_step_size,\n",
    "                                      num_adaptation_step=num_adaptation_step,\n",
    "                                      scheduler=scheduler,\n",
    "                                      loss_function=loss_function)\n",
    "        self.vae_model = vae_model\n",
    "        self.x_space = x_space\n",
    "        self.n_hallucination = n_hallucination\n",
    "        self.n_batch_hallucination = n_batch_hallucination\n",
    "        self.curr_z = None\n",
    "        \n",
    "    def init_learner(self, data_loader, max_batches, init_z, verbose=True):\n",
    "        # Train the learner on the given dataset\n",
    "        self.train(data_loader=data_loader, max_batches=max_batches, verbose=verbose)\n",
    "        \n",
    "        # Store the latent space of the learner\n",
    "        self.curr_z = init_z\n",
    "\n",
    "    def meta_testing(self, data):\n",
    "        \"\"\"\n",
    "        During meta testing:\n",
    "        - Analyze the current data used with VAE in order to infer the latent parameters\n",
    "        - Use the current network and the inferred parameter in order to generate data for the adaptation\n",
    "        - Adapt the model\n",
    "        \"\"\"\n",
    "        # Enhance dataset\n",
    "        # TODO\n",
    "        \n",
    "        # Analyze the current data with VAE to infer the latent parameters\n",
    "        z = self.vae_model(self.network, data)\n",
    "\n",
    "        # Use the current network and the inferred parameters in order to generate data for adaptation\n",
    "        hallucinated_dataset = []\n",
    "        for b in range(self.n_batch_hallucination):\n",
    "            new_idx = torch.randint(low=0, high=self.x_space[-1], size=(self.n_hallucination,))\n",
    "            new_x = self.x_space[new_idx]\n",
    "            new_t = z[0] * self.network(z[1] * new_x - z[2])\n",
    "            hallucinated_dataset.append([new_x, new_t])\n",
    "\n",
    "        # Adapt the model using the new dataset\n",
    "        optim = torch.optim.SGD(self.network.parameters(), lr=self.step_size, momentum=0.)\n",
    "\n",
    "        for batch in hallucinated_dataset:\n",
    "            batch = tensors_to_device(batch, device=self.device)\n",
    "\n",
    "            for i in range(self.num_adaptation_steps):\n",
    "                inputs = batch[0]\n",
    "                target = batch[1]\n",
    "                optim.zero_grad()\n",
    "                pred = self.network(inputs)\n",
    "                loss = self.loss_function(pred, target)\n",
    "                loss.backward()\n",
    "                optim.step()"
   ]
  },
  {
   "cell_type": "code",
   "execution_count": 55,
   "metadata": {},
   "outputs": [],
   "source": [
    "# Create the learner\n",
    "network = NewNetwork(input_size=1, output_size=1, hidden_size=64)\n",
    "loss_learner = torch.nn.MSELoss()\n",
    "optimizer_learner = torch.optim.Adam(network.parameters(), lr=0.01)\n",
    "x_space = task_gen.x_space\n",
    "\n",
    "learner = VaeMAML(network=network, vae_model=model, x_space=x_space, n_hallucination=15,\n",
    "                  n_batch_hallucination=5,\n",
    "                  device=\"cpu\", step_size=0.5, first_order=False,\n",
    "                  optimizer=optimizer_learner, learn_step_size=False, per_param_step_size=False,\n",
    "                  num_adaptation_step=1, scheduler=None, loss_function=loss_learner)"
   ]
  },
  {
   "cell_type": "code",
   "execution_count": 56,
   "metadata": {},
   "outputs": [
    {
     "name": "stderr",
     "output_type": "stream",
     "text": [
      "5001it [00:35, 140.15it/s, loss=0.0129]                          \n"
     ]
    }
   ],
   "source": [
    "# Now that we learnt the first task, we should give the learner a sequence of tasks to see how it reacts \n",
    "# and how it adapts to the goal \n",
    "AMPLITUDE_LIST = [1, 1.4, 1.8, 2.2, 2.8, 3.2, 3.6, 4.0, 4.4, 4.0, 3.6, 3.2, 3.6, 3.2, 3.2, 2.8]\n",
    "PHASE_LIST = [0, 0.3, 0.6, 0.8, 1.0, 1.3, 1.6, 1.3, 1.6, 1.3, 1.0, 1.5, 1.8, 1.4, 1.5, 1.3]\n",
    "F_LIST = [1, 1, 1, 1, 1, 1, 1, 1, 1, 1, 1, 1, 1, 1, 1, 1]\n",
    "\n",
    "# First task\n",
    "init_z = torch.Tensor([AMPLITUDE_LIST[0], PHASE_LIST[0], F_LIST[0]])\n",
    "data_loader_task_0 = task_gen.get_data_loader(amplitude=AMPLITUDE_LIST[0], test_perc=0,phase=PHASE_LIST[0], num_batches=3000, batch_size=128)\n",
    "learner.init_learner(data_loader_task_0, 5000, init_z)"
   ]
  },
  {
   "cell_type": "code",
   "execution_count": 80,
   "metadata": {},
   "outputs": [
    {
     "data": {
      "text/plain": [
       "torch.Size([128, 3])"
      ]
     },
     "execution_count": 80,
     "metadata": {},
     "output_type": "execute_result"
    }
   ],
   "source": [
    "# Now we have the first task\n",
    "data_first_task = task_gen.get_data_loader(amplitude=AMPLITUDE_LIST[1], test_perc=0, phase=PHASE_LIST[1], num_batches=1, batch_size=128)\n",
    "\n",
    "# Now we have to reshape the data to use the VAE network\n",
    "batch = data_first_task[0]['train']\n",
    "x = batch[0]\n",
    "old_pred = learner.network(x)\n",
    "batch = torch.cat([batch[0], old_pred, batch[1]], dim=1)\n",
    "batch.shape"
   ]
  },
  {
   "cell_type": "code",
   "execution_count": 81,
   "metadata": {},
   "outputs": [
    {
     "data": {
      "text/plain": [
       "tensor([[0.3072, 1.0353, 0.1823]], grad_fn=<AddmmBackward>)"
      ]
     },
     "execution_count": 81,
     "metadata": {},
     "output_type": "execute_result"
    }
   ],
   "source": [
    "z_inferred = model(batch.unsqueeze(0))\n",
    "z_inferred"
   ]
  },
  {
   "cell_type": "code",
   "execution_count": 82,
   "metadata": {},
   "outputs": [],
   "source": [
    "z_0 = torch.tensor([1., 0., 1.])\n",
    "z = z_0+z_inferred\n",
    "z = z.detach()"
   ]
  },
  {
   "cell_type": "code",
   "execution_count": 83,
   "metadata": {},
   "outputs": [
    {
     "data": {
      "text/plain": [
       "[<matplotlib.lines.Line2D at 0x1596dc4b6c8>]"
      ]
     },
     "execution_count": 83,
     "metadata": {},
     "output_type": "execute_result"
    },
    {
     "data": {
      "image/png": "[encoded data removed]",
      "text/plain": [
       "<Figure size 432x288 with 1 Axes>"
      ]
     },
     "metadata": {
      "needs_background": "light"
     },
     "output_type": "display_data"
    }
   ],
   "source": [
    "plt.plot(x_space[0], torch.sin(x_space[0] * z[0, 2] + z[0,1]) * z[0,0], color=\"red\")\n",
    "plt.plot(x_space[0], torch.sin(x_space[0] * F_LIST[1] + PHASE_LIST[1]) * AMPLITUDE_LIST[1], color=\"blue\")"
   ]
  },
  {
   "cell_type": "code",
   "execution_count": 79,
   "metadata": {},
   "outputs": [
    {
     "data": {
      "text/plain": [
       "tensor([[ 4.5500],\n",
       "        [ 3.2000],\n",
       "        [-0.7000],\n",
       "        [ 2.7600],\n",
       "        [-3.9500],\n",
       "        [ 4.2800],\n",
       "        [ 1.1600],\n",
       "        [ 2.8100],\n",
       "        [ 2.9700],\n",
       "        [-2.1600],\n",
       "        [-1.5800],\n",
       "        [ 0.0600],\n",
       "        [-3.3100],\n",
       "        [ 4.0700],\n",
       "        [-4.5300],\n",
       "        [ 4.7700],\n",
       "        [-2.8100],\n",
       "        [ 1.2800],\n",
       "        [ 4.8100],\n",
       "        [-1.2600]])"
      ]
     },
     "execution_count": 79,
     "metadata": {},
     "output_type": "execute_result"
    }
   ],
   "source": [
    "data_first_task[0]['train'][0]"
   ]
  },
  {
   "cell_type": "code",
   "execution_count": null,
   "metadata": {},
   "outputs": [],
   "source": []
  }
 ],
 "metadata": {
  "kernelspec": {
   "display_name": "Python 3",
   "language": "python",
   "name": "python3"
  },
  "language_info": {
   "codemirror_mode": {
    "name": "ipython",
    "version": 3
   },
   "file_extension": ".py",
   "mimetype": "text/x-python",
   "name": "python",
   "nbconvert_exporter": "python",
   "pygments_lexer": "ipython3",
   "version": "3.7.6"
  }
 },
 "nbformat": 4,
 "nbformat_minor": 1
}
