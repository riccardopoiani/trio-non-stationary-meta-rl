{
 "cells": [
  {
   "cell_type": "code",
   "execution_count": 10,
   "metadata": {
    "pycharm": {
     "is_executing": false
    }
   },
   "outputs": [],
   "source": [
    "import torch\n",
    "import torch.nn.functional as F\n",
    "from task.TaskGenerator import SinTaskGenerator\n",
    "import matplotlib.pyplot as plt\n",
    "from network.regressors_network import RegressorNetwork\n",
    "from learner.MetaLearner import RegressorMAML"
   ]
  },
  {
   "cell_type": "code",
   "execution_count": 11,
   "metadata": {},
   "outputs": [],
   "source": [
    "class ModelZPrevInput(torch.nn.Module):\n",
    "    def __init__(self):\n",
    "        super(ModelZPrevInput, self).__init__()\n",
    "        self.enc1 = torch.nn.Linear(6, 32) # 3 input: x, f_t(x), f_(t-1)(x)\n",
    "        self.enc2 = torch.nn.GRU(input_size=32, hidden_size=32, num_layers=4, batch_first=True)\n",
    "        self.enc3 = torch.nn.Linear(32, 16)\n",
    "        self.enc4 = torch.nn.Linear(16, 3)\n",
    "        \n",
    "    def encode(self, context, prev_z):\n",
    "        n_batch = context.shape[0]\n",
    "        seq_len = context.shape[1]\n",
    "        \n",
    "        prev_z = prev_z.reshape(n_batch, 1, 3)\n",
    "        prev_z = prev_z.repeat(1, seq_len, 1)\n",
    "        \n",
    "        context = torch.cat([context, prev_z], dim=2)\n",
    "        t = F.elu(self.enc1(context)).view(n_batch, seq_len, 32)\n",
    "        t = self.enc2(t)[0][:, -1, :] # we are interested only in the last output of the sequence\n",
    "        t = F.elu(t)\n",
    "        t = F.elu(self.enc3(t))\n",
    "        return  self.enc4(t)\n",
    "        \n",
    "        \n",
    "    def reparameterize(self, mu, logvar):\n",
    "        std = torch.exp(0.5*logvar)\n",
    "        eps = torch.randn_like(std)\n",
    "        return mu + eps*std\n",
    "    \n",
    "    def forward(self, context, prev_z):\n",
    "        return self.encode(context, prev_z)\n",
    "\n",
    "\n",
    "class Model(torch.nn.Module):\n",
    "    def __init__(self):\n",
    "        super(Model, self).__init__()\n",
    "        self.enc1 = torch.nn.Linear(3, 32) # 3 input: x, f_t(x), f_(t-1)(x)\n",
    "        self.enc2 = torch.nn.GRU(input_size=32, hidden_size=16, num_layers=3, batch_first=True)\n",
    "        self.enc3 = torch.nn.Linear(19, 16)\n",
    "        self.enc4 = torch.nn.Linear(16, 3)\n",
    "        \n",
    "    def encode(self, context, prev_z):\n",
    "        n_batch = context.shape[0]\n",
    "        seq_len = context.shape[1]\n",
    "        t = F.elu(self.enc1(context)).view(n_batch, seq_len, 32)\n",
    "        t = self.enc2(t)[0][:, -1, :] # we are interested only in the last output of the sequence\n",
    "        t = torch.cat([t, prev_z], dim=1)\n",
    "        t = F.elu(t)\n",
    "        t = F.elu(self.enc3(t))\n",
    "        return  self.enc4(t)\n",
    "        \n",
    "        \n",
    "    def reparameterize(self, mu, logvar):\n",
    "        std = torch.exp(0.5*logvar)\n",
    "        eps = torch.randn_like(std)\n",
    "        return mu + eps*std\n",
    "    \n",
    "    def forward(self, context, prev_z):\n",
    "        return self.encode(context, prev_z)"
   ]
  },
  {
   "cell_type": "code",
   "execution_count": 12,
   "metadata": {},
   "outputs": [],
   "source": [
    "model = ModelZPrevInput()\n",
    "optimizer = torch.optim.Adam(model.parameters())"
   ]
  },
  {
   "cell_type": "code",
   "execution_count": 57,
   "metadata": {},
   "outputs": [],
   "source": [
    "def loss_function(recon_f, f):\n",
    "    #MSE = F.mse_loss(recon_f, f)\n",
    "    #KLD = -0.5 * torch.sum(1 + logvar - mu.pow(2) - logvar.exp())\n",
    "    l1 = F.l1_loss(recon_f, f)\n",
    "    return l1 "
   ]
  },
  {
   "cell_type": "code",
   "execution_count": 6,
   "metadata": {},
   "outputs": [],
   "source": [
    "task_gen = SinTaskGenerator(x_min=-5, x_max=5)\n",
    "dataset = []\n",
    "\n",
    "# Task parameters range\n",
    "max_a = 0.1\n",
    "min_a = 10\n",
    "\n",
    "min_phase = -2\n",
    "max_phase = 2\n",
    "\n",
    "min_freq = 0.1\n",
    "max_freq = 10\n",
    "\n",
    "def sample_task(n_batches=10, test_perc=0, batch_size=128):\n",
    "    a = (min_a - max_a) * torch.rand(1) + max_a\n",
    "    phase = (min_phase - max_phase) * torch.rand(1) + max_phase\n",
    "    f = (min_freq - max_freq) * torch.rand(1) + max_freq\n",
    "    \n",
    "    \"\"\"\n",
    "    a_t2 = a_t1 + torch.rand(1) * offset_a_max\n",
    "    phase_t2 = phase_t1 + torch.rand(1) * offset_phase_max\n",
    "    f_t2 = f_t1 + torch.rand(1) * offset_f_max\n",
    "    \"\"\"\n",
    "    data = task_gen.get_data_loader(amplitude=a, \n",
    "                                    phase=phase,\n",
    "                                    frequency=f,\n",
    "                                    num_batches=n_batches,\n",
    "                                    test_perc=test_perc, \n",
    "                                    batch_size=batch_size)\n",
    "\n",
    "    return data, a, phase, f\n",
    "\n",
    "# Dataset creation\n",
    "n_tasks = 1000\n",
    "data_set = []\n",
    "a_set = []\n",
    "phase_set = []\n",
    "f_set = []\n",
    "param = []\n",
    "for _ in range(n_tasks):\n",
    "    data, a, phase, f = sample_task(n_batches=1, test_perc=0, batch_size=128)\n",
    "    data_set.append(data)\n",
    "    a_set.append(a)\n",
    "    phase_set.append(phase)\n",
    "    f_set.append(f)\n",
    "    param.append((a.item(), phase.item(), f.item()))"
   ]
  },
  {
   "cell_type": "code",
   "execution_count": 55,
   "metadata": {},
   "outputs": [],
   "source": [
    "offset = 2\n",
    "\n",
    "def batch_train_offset(epoch, n_batch=10):\n",
    "    train_loss = 0\n",
    "    n_batch = 32\n",
    "    batch_per_task = 1\n",
    "    task_idx = torch.randint(low=0, high=n_tasks, size=(n_batch,))\n",
    "    task_loader = [data_set[i] for i in task_idx]\n",
    "    curr_param = [param[i] for i in task_idx]\n",
    "\n",
    "    for k in range(batch_per_task):\n",
    "        num_data_context = torch.randint(low=25, high=100, size=(1,)).item()\n",
    "        idx = torch.randint(0, 128, (128,))\n",
    "        ctx_idx = idx[0:num_data_context]\n",
    "        \n",
    "        context = torch.empty(n_batch, num_data_context, 3)\n",
    "        target = torch.empty(n_batch, 3)\n",
    "\n",
    "        # Retrieving data to be fed to the network \n",
    "        i = 0\n",
    "        for t_idx, task in enumerate(task_loader):\n",
    "            # Creating new task\n",
    "            a_offset = torch.rand(1) * offset\n",
    "            p_offset = torch.rand(1) * offset\n",
    "            f_offset = torch.rand(1) * offset\n",
    "            offset_param = torch.Tensor([a_offset, p_offset, f_offset])\n",
    "            target[i] = offset_param\n",
    "\n",
    "            # Creating context to be fed to the network \n",
    "            batch = task[k]['train']\n",
    "            x = batch[0]\n",
    "            task_pred = (curr_param[t_idx][0]+a_offset) * torch.sin((curr_param[t_idx][2]+f_offset)*x+(curr_param[t_idx][1]+p_offset))\n",
    "            batch = torch.cat([batch[0], batch[1], task_pred], dim=1)\n",
    "            context[i] = batch[ctx_idx]\n",
    "            i+=1\n",
    "\n",
    "        optimizer.zero_grad()\n",
    "        curr_param = torch.Tensor(curr_param)\n",
    "        z_hat = model(context, curr_param)\n",
    "\n",
    "        # Compute reconstruction\n",
    "        loss = loss_function(z_hat, target)\n",
    "        loss.backward()\n",
    "\n",
    "        train_loss += loss.item()\n",
    "        optimizer.step()\n",
    "    \n",
    "    return train_loss / (batch_per_task)\n",
    "\n",
    "\n"
   ]
  },
  {
   "cell_type": "code",
   "execution_count": 58,
   "metadata": {},
   "outputs": [
    {
     "name": "stdout",
     "output_type": "stream",
     "text": [
      "====> Epoch: 0 Average loss: 0.1020\n",
      "====> Epoch: 100 Average loss: 0.2094\n",
      "====> Epoch: 200 Average loss: 0.1745\n",
      "====> Epoch: 300 Average loss: 0.1571\n",
      "====> Epoch: 400 Average loss: 0.1460\n",
      "====> Epoch: 500 Average loss: 0.1391\n",
      "====> Epoch: 600 Average loss: 0.1343\n",
      "====> Epoch: 700 Average loss: 0.1310\n",
      "====> Epoch: 800 Average loss: 0.1280\n",
      "====> Epoch: 900 Average loss: 0.1254\n",
      "====> Epoch: 1000 Average loss: 0.1230\n",
      "====> Epoch: 1100 Average loss: 0.1213\n",
      "====> Epoch: 1200 Average loss: 0.1197\n",
      "====> Epoch: 1300 Average loss: 0.1184\n",
      "====> Epoch: 1400 Average loss: 0.1171\n",
      "====> Epoch: 1500 Average loss: 0.1162\n",
      "====> Epoch: 1600 Average loss: 0.1150\n",
      "====> Epoch: 1700 Average loss: 0.1140\n",
      "====> Epoch: 1800 Average loss: 0.1131\n",
      "====> Epoch: 1900 Average loss: 0.1122\n",
      "====> Epoch: 2000 Average loss: 0.1116\n",
      "====> Epoch: 2100 Average loss: 0.1109\n",
      "====> Epoch: 2200 Average loss: 0.1103\n",
      "====> Epoch: 2300 Average loss: 0.1097\n",
      "====> Epoch: 2400 Average loss: 0.1093\n",
      "====> Epoch: 2500 Average loss: 0.1087\n",
      "====> Epoch: 2600 Average loss: 0.1082\n",
      "====> Epoch: 2700 Average loss: 0.1078\n",
      "====> Epoch: 2800 Average loss: 0.1072\n",
      "====> Epoch: 2900 Average loss: 0.1068\n",
      "====> Epoch: 3000 Average loss: 0.1064\n",
      "====> Epoch: 3100 Average loss: 0.1060\n",
      "====> Epoch: 3200 Average loss: 0.1055\n",
      "====> Epoch: 3300 Average loss: 0.1050\n",
      "====> Epoch: 3400 Average loss: 0.1046\n",
      "====> Epoch: 3500 Average loss: 0.1042\n",
      "====> Epoch: 3600 Average loss: 0.1037\n",
      "====> Epoch: 3700 Average loss: 0.1034\n",
      "====> Epoch: 3800 Average loss: 0.1031\n",
      "====> Epoch: 3900 Average loss: 0.1029\n",
      "====> Epoch: 4000 Average loss: 0.1026\n",
      "====> Epoch: 4100 Average loss: 0.1023\n",
      "====> Epoch: 4200 Average loss: 0.1021\n",
      "====> Epoch: 4300 Average loss: 0.1019\n",
      "====> Epoch: 4400 Average loss: 0.1016\n",
      "====> Epoch: 4500 Average loss: 0.1014\n",
      "====> Epoch: 4600 Average loss: 0.1012\n",
      "====> Epoch: 4700 Average loss: 0.1010\n",
      "====> Epoch: 4800 Average loss: 0.1007\n",
      "====> Epoch: 4900 Average loss: 0.1005\n",
      "====> Epoch: 5000 Average loss: 0.1003\n",
      "====> Epoch: 5100 Average loss: 0.1001\n",
      "====> Epoch: 5200 Average loss: 0.0999\n",
      "====> Epoch: 5300 Average loss: 0.0998\n",
      "====> Epoch: 5400 Average loss: 0.0997\n",
      "====> Epoch: 5500 Average loss: 0.0995\n",
      "====> Epoch: 5600 Average loss: 0.0994\n",
      "====> Epoch: 5700 Average loss: 0.0992\n",
      "====> Epoch: 5800 Average loss: 0.0991\n",
      "====> Epoch: 5900 Average loss: 0.0990\n",
      "====> Epoch: 6000 Average loss: 0.0988\n",
      "====> Epoch: 6100 Average loss: 0.0987\n",
      "====> Epoch: 6200 Average loss: 0.0986\n",
      "====> Epoch: 6300 Average loss: 0.0984\n",
      "====> Epoch: 6400 Average loss: 0.0983\n",
      "====> Epoch: 6500 Average loss: 0.0982\n",
      "====> Epoch: 6600 Average loss: 0.0981\n",
      "====> Epoch: 6700 Average loss: 0.0980\n",
      "====> Epoch: 6800 Average loss: 0.0979\n",
      "====> Epoch: 6900 Average loss: 0.0979\n",
      "====> Epoch: 7000 Average loss: 0.0978\n",
      "====> Epoch: 7100 Average loss: 0.0978\n",
      "====> Epoch: 7200 Average loss: 0.0977\n",
      "====> Epoch: 7300 Average loss: 0.0977\n",
      "====> Epoch: 7400 Average loss: 0.0977\n",
      "====> Epoch: 7500 Average loss: 0.0977\n",
      "====> Epoch: 7600 Average loss: 0.0976\n",
      "====> Epoch: 7700 Average loss: 0.0975\n",
      "====> Epoch: 7800 Average loss: 0.0975\n",
      "====> Epoch: 7900 Average loss: 0.0975\n",
      "====> Epoch: 8000 Average loss: 0.0974\n",
      "====> Epoch: 8100 Average loss: 0.0974\n",
      "====> Epoch: 8200 Average loss: 0.0974\n",
      "====> Epoch: 8300 Average loss: 0.0974\n",
      "====> Epoch: 8400 Average loss: 0.0974\n",
      "====> Epoch: 8500 Average loss: 0.0973\n",
      "====> Epoch: 8600 Average loss: 0.0974\n",
      "====> Epoch: 8700 Average loss: 0.0973\n",
      "====> Epoch: 8800 Average loss: 0.0972\n",
      "====> Epoch: 8900 Average loss: 0.0972\n",
      "====> Epoch: 9000 Average loss: 0.0971\n",
      "====> Epoch: 9100 Average loss: 0.0971\n",
      "====> Epoch: 9200 Average loss: 0.0970\n",
      "====> Epoch: 9300 Average loss: 0.0970\n",
      "====> Epoch: 9400 Average loss: 0.0969\n",
      "====> Epoch: 9500 Average loss: 0.0969\n",
      "====> Epoch: 9600 Average loss: 0.0969\n",
      "====> Epoch: 9700 Average loss: 0.0969\n",
      "====> Epoch: 9800 Average loss: 0.0969\n",
      "====> Epoch: 9900 Average loss: 0.0969\n",
      "====> Epoch: 10000 Average loss: 0.0969\n",
      "====> Epoch: 10100 Average loss: 0.0969\n",
      "====> Epoch: 10200 Average loss: 0.0968\n",
      "====> Epoch: 10300 Average loss: 0.0968\n",
      "====> Epoch: 10400 Average loss: 0.0970\n",
      "====> Epoch: 10500 Average loss: 0.0970\n",
      "====> Epoch: 10600 Average loss: 0.0970\n",
      "====> Epoch: 10700 Average loss: 0.0969\n",
      "====> Epoch: 10800 Average loss: 0.0970\n",
      "====> Epoch: 10900 Average loss: 0.0969\n",
      "====> Epoch: 11000 Average loss: 0.0969\n",
      "====> Epoch: 11100 Average loss: 0.0969\n",
      "====> Epoch: 11200 Average loss: 0.0968\n",
      "====> Epoch: 11300 Average loss: 0.0968\n",
      "====> Epoch: 11400 Average loss: 0.0968\n",
      "====> Epoch: 11500 Average loss: 0.0968\n",
      "====> Epoch: 11600 Average loss: 0.0968\n",
      "====> Epoch: 11700 Average loss: 0.0967\n",
      "====> Epoch: 11800 Average loss: 0.0967\n",
      "====> Epoch: 11900 Average loss: 0.0967\n",
      "====> Epoch: 12000 Average loss: 0.0967\n",
      "====> Epoch: 12100 Average loss: 0.0966\n",
      "====> Epoch: 12200 Average loss: 0.0966\n",
      "====> Epoch: 12300 Average loss: 0.0965\n",
      "====> Epoch: 12400 Average loss: 0.0965\n",
      "====> Epoch: 12500 Average loss: 0.0965\n",
      "====> Epoch: 12600 Average loss: 0.0964\n",
      "====> Epoch: 12700 Average loss: 0.0964\n",
      "====> Epoch: 12800 Average loss: 0.0963\n",
      "====> Epoch: 12900 Average loss: 0.0964\n",
      "====> Epoch: 13000 Average loss: 0.0964\n",
      "====> Epoch: 13100 Average loss: 0.0964\n",
      "====> Epoch: 13200 Average loss: 0.0964\n",
      "====> Epoch: 13300 Average loss: 0.0964\n",
      "====> Epoch: 13400 Average loss: 0.0963\n",
      "====> Epoch: 13500 Average loss: 0.0963\n",
      "====> Epoch: 13600 Average loss: 0.0962\n",
      "====> Epoch: 13700 Average loss: 0.0962\n",
      "====> Epoch: 13800 Average loss: 0.0962\n",
      "====> Epoch: 13900 Average loss: 0.0961\n",
      "====> Epoch: 14000 Average loss: 0.0961\n",
      "====> Epoch: 14100 Average loss: 0.0961\n",
      "====> Epoch: 14200 Average loss: 0.0960\n",
      "====> Epoch: 14300 Average loss: 0.0960\n",
      "====> Epoch: 14400 Average loss: 0.0960\n",
      "====> Epoch: 14500 Average loss: 0.0959\n",
      "====> Epoch: 14600 Average loss: 0.0959\n",
      "====> Epoch: 14700 Average loss: 0.0959\n",
      "====> Epoch: 14800 Average loss: 0.0960\n",
      "====> Epoch: 14900 Average loss: 0.0959\n",
      "====> Epoch: 15000 Average loss: 0.0959\n",
      "====> Epoch: 15100 Average loss: 0.0959\n",
      "====> Epoch: 15200 Average loss: 0.0958\n",
      "====> Epoch: 15300 Average loss: 0.0958\n",
      "====> Epoch: 15400 Average loss: 0.0958\n",
      "====> Epoch: 15500 Average loss: 0.0957\n",
      "====> Epoch: 15600 Average loss: 0.0957\n",
      "====> Epoch: 15700 Average loss: 0.0956\n",
      "====> Epoch: 15800 Average loss: 0.0956\n",
      "====> Epoch: 15900 Average loss: 0.0956\n",
      "====> Epoch: 16000 Average loss: 0.0955\n",
      "====> Epoch: 16100 Average loss: 0.0955\n",
      "====> Epoch: 16200 Average loss: 0.0955\n",
      "====> Epoch: 16300 Average loss: 0.0955\n",
      "====> Epoch: 16400 Average loss: 0.0955\n",
      "====> Epoch: 16500 Average loss: 0.0955\n",
      "====> Epoch: 16600 Average loss: 0.0954\n",
      "====> Epoch: 16700 Average loss: 0.0954\n",
      "====> Epoch: 16800 Average loss: 0.0954\n",
      "====> Epoch: 16900 Average loss: 0.0954\n",
      "====> Epoch: 17000 Average loss: 0.0955\n",
      "====> Epoch: 17100 Average loss: 0.0954\n",
      "====> Epoch: 17200 Average loss: 0.0954\n",
      "====> Epoch: 17300 Average loss: 0.0954\n",
      "====> Epoch: 17400 Average loss: 0.0954\n",
      "====> Epoch: 17500 Average loss: 0.0953\n",
      "====> Epoch: 17600 Average loss: 0.0953\n",
      "====> Epoch: 17700 Average loss: 0.0953\n",
      "====> Epoch: 17800 Average loss: 0.0953\n",
      "====> Epoch: 17900 Average loss: 0.0953\n",
      "====> Epoch: 18000 Average loss: 0.0952\n",
      "====> Epoch: 18100 Average loss: 0.0952\n",
      "====> Epoch: 18200 Average loss: 0.0951\n",
      "====> Epoch: 18300 Average loss: 0.0951\n",
      "====> Epoch: 18400 Average loss: 0.0951\n",
      "====> Epoch: 18500 Average loss: 0.0951\n",
      "====> Epoch: 18600 Average loss: 0.0950\n",
      "====> Epoch: 18700 Average loss: 0.0950\n",
      "====> Epoch: 18800 Average loss: 0.0950\n",
      "====> Epoch: 18900 Average loss: 0.0949\n",
      "====> Epoch: 19000 Average loss: 0.0949\n",
      "====> Epoch: 19100 Average loss: 0.0949\n",
      "====> Epoch: 19200 Average loss: 0.0948\n",
      "====> Epoch: 19300 Average loss: 0.0948\n",
      "====> Epoch: 19400 Average loss: 0.0948\n",
      "====> Epoch: 19500 Average loss: 0.0948\n",
      "====> Epoch: 19600 Average loss: 0.0947\n",
      "====> Epoch: 19700 Average loss: 0.0947\n",
      "====> Epoch: 19800 Average loss: 0.0947\n",
      "====> Epoch: 19900 Average loss: 0.0946\n"
     ]
    }
   ],
   "source": [
    "n_epochs = 20000\n",
    "losses = []\n",
    "l_sum = 0\n",
    "for i in range(n_epochs):\n",
    "    l = batch_train_offset(i)\n",
    "    l_sum += l\n",
    "    losses.append(l)\n",
    "    if i % 100 == 0:\n",
    "        print('====> Epoch: {} Average loss: {:.4f}'.format(i, l_sum/(i+1)))"
   ]
  },
  {
   "cell_type": "code",
   "execution_count": 61,
   "metadata": {},
   "outputs": [
    {
     "data": {
      "image/png": "[encoded data removed]",
      "text/plain": [
       "<Figure size 432x288 with 1 Axes>"
      ]
     },
     "metadata": {
      "needs_background": "light"
     },
     "output_type": "display_data"
    }
   ],
   "source": [
    "import numpy as np\n",
    "from scipy.signal import savgol_filter\n",
    "y = np.array(losses)\n",
    "x = np.arange(len(y))\n",
    "yhat = savgol_filter(y,5001, 3) \n",
    "\n",
    "plt.plot(x[200:], yhat[200:], color='red')\n",
    "plt.show()"
   ]
  },
  {
   "cell_type": "code",
   "execution_count": 18,
   "metadata": {},
   "outputs": [
    {
     "data": {
      "text/plain": [
       "0.007142011076211929"
      ]
     },
     "execution_count": 18,
     "metadata": {},
     "output_type": "execute_result"
    }
   ],
   "source": [
    "y[4000:].min()"
   ]
  },
  {
   "cell_type": "code",
   "execution_count": null,
   "metadata": {},
   "outputs": [],
   "source": []
  },
  {
   "cell_type": "code",
   "execution_count": null,
   "metadata": {},
   "outputs": [],
   "source": []
  },
  {
   "cell_type": "code",
   "execution_count": null,
   "metadata": {},
   "outputs": [],
   "source": []
  },
  {
   "cell_type": "markdown",
   "metadata": {},
   "source": [
    "# sequential case"
   ]
  },
  {
   "cell_type": "code",
   "execution_count": 62,
   "metadata": {},
   "outputs": [],
   "source": [
    "class NewNetwork(torch.nn.Module):\n",
    "\n",
    "    def __init__(self, input_size, output_size, hidden_size):\n",
    "        super(NewNetwork, self).__init__()\n",
    "        self.layer_1 = torch.nn.Linear(input_size, hidden_size)\n",
    "        self.layer_2 = torch.nn.Linear(hidden_size, hidden_size)\n",
    "        self.layer_3 = torch.nn.Linear(hidden_size, hidden_size)\n",
    "        self.layer_4 = torch.nn.Linear(hidden_size, hidden_size)\n",
    "        self.layer_5 = torch.nn.Linear(hidden_size, output_size)\n",
    "\n",
    "    def forward(self, x):\n",
    "        x = torch.relu(self.layer_1(x))\n",
    "        x = torch.relu(self.layer_2(x))\n",
    "        x = torch.relu(self.layer_3(x))\n",
    "        x = torch.relu(self.layer_4(x))\n",
    "        x = self.layer_5(x)\n",
    "        return x\n",
    "\n",
    "class VaeMAML(RegressorMAML):\n",
    "\n",
    "    def __init__(self, network, vae_model, x_space, n_hallucination=15,\n",
    "                 n_batch_hallucination=5,\n",
    "                 device=\"cpu\", step_size=0.5, first_order=False,\n",
    "                 optimizer=None, learn_step_size=False, per_param_step_size=False,\n",
    "                 num_adaptation_step=1, scheduler=None, loss_function=F.mse_loss):\n",
    "        super(VaeMAML, self).__init__(network,\n",
    "                                      device=device,\n",
    "                                      step_size=step_size,\n",
    "                                      first_order=first_order,\n",
    "                                      optimizer=optimizer,\n",
    "                                      learn_step_size=learn_step_size,\n",
    "                                      per_param_step_size=per_param_step_size,\n",
    "                                      num_adaptation_step=num_adaptation_step,\n",
    "                                      scheduler=scheduler,\n",
    "                                      loss_function=loss_function)\n",
    "        self.vae_model = vae_model\n",
    "        self.x_space = x_space\n",
    "        self.n_hallucination = n_hallucination\n",
    "        self.n_batch_hallucination = n_batch_hallucination\n",
    "        self.curr_z = None\n",
    "        \n",
    "    def init_learner(self, data_loader, max_batches, init_z, verbose=True):\n",
    "        # Train the learner on the given dataset\n",
    "        self.train(data_loader=data_loader, max_batches=max_batches, verbose=verbose)\n",
    "        \n",
    "        # Store the latent space of the learner\n",
    "        self.curr_z = init_z\n",
    "\n",
    "    def meta_testing(self, data):\n",
    "        \"\"\"\n",
    "        During meta testing:\n",
    "        - Analyze the current data used with VAE in order to infer the latent parameters\n",
    "        - Use the current network and the inferred parameter in order to generate data for the adaptation\n",
    "        - Adapt the model\n",
    "        \"\"\"\n",
    "        # Enhance dataset\n",
    "        # TODO\n",
    "        \n",
    "        # Analyze the current data with VAE to infer the latent parameters\n",
    "        z = self.vae_model(self.network, data)\n",
    "\n",
    "        # Use the current network and the inferred parameters in order to generate data for adaptation\n",
    "        hallucinated_dataset = []\n",
    "        for b in range(self.n_batch_hallucination):\n",
    "            new_idx = torch.randint(low=0, high=self.x_space[-1], size=(self.n_hallucination,))\n",
    "            new_x = self.x_space[new_idx]\n",
    "            new_t = z[0] * self.network(z[1] * new_x - z[2])\n",
    "            hallucinated_dataset.append([new_x, new_t])\n",
    "\n",
    "        # Adapt the model using the new dataset\n",
    "        optim = torch.optim.SGD(self.network.parameters(), lr=self.step_size, momentum=0.)\n",
    "\n",
    "        for batch in hallucinated_dataset:\n",
    "            batch = tensors_to_device(batch, device=self.device)\n",
    "\n",
    "            for i in range(self.num_adaptation_steps):\n",
    "                inputs = batch[0]\n",
    "                target = batch[1]\n",
    "                optim.zero_grad()\n",
    "                pred = self.network(inputs)\n",
    "                loss = self.loss_function(pred, target)\n",
    "                loss.backward()\n",
    "                optim.step()"
   ]
  },
  {
   "cell_type": "code",
   "execution_count": 63,
   "metadata": {},
   "outputs": [],
   "source": [
    "# Create the learner\n",
    "network = NewNetwork(input_size=1, output_size=1, hidden_size=64)\n",
    "loss_learner = torch.nn.MSELoss()\n",
    "optimizer_learner = torch.optim.Adam(network.parameters(), lr=0.01)\n",
    "x_space = task_gen.x_space\n",
    "\n",
    "learner = VaeMAML(network=network, vae_model=model, x_space=x_space, n_hallucination=15,\n",
    "                  n_batch_hallucination=5,\n",
    "                  device=\"cpu\", step_size=0.5, first_order=False,\n",
    "                  optimizer=optimizer_learner, learn_step_size=False, per_param_step_size=False,\n",
    "                  num_adaptation_step=1, scheduler=None, loss_function=loss_learner)"
   ]
  },
  {
   "cell_type": "code",
   "execution_count": 64,
   "metadata": {},
   "outputs": [
    {
     "name": "stderr",
     "output_type": "stream",
     "text": [
      "5001it [00:47, 104.74it/s, loss=0.0130]                          \n"
     ]
    }
   ],
   "source": [
    "# Now that we learnt the first task, we should give the learner a sequence of tasks to see how it reacts \n",
    "# and how it adapts to the goal \n",
    "AMPLITUDE_LIST = [1, 1.4, 1.8, 2.2, 2.8, 3.2, 3.6, 4.0, 4.4, 4.0, 3.6, 3.2, 3.6, 3.2, 3.2, 2.8]\n",
    "PHASE_LIST = [0, 0.3, 0.6, 0.8, 1.0, 1.3, 1.6, 1.3, 1.6, 1.3, 1.0, 1.5, 1.8, 1.4, 1.5, 1.3]\n",
    "F_LIST = [1, 1, 1, 1, 1, 1, 1, 1, 1, 1, 1, 1, 1, 1, 1, 1]\n",
    "\n",
    "# First task\n",
    "init_z = torch.Tensor([AMPLITUDE_LIST[0], PHASE_LIST[0], F_LIST[0]])\n",
    "data_loader_task_0 = task_gen.get_data_loader(amplitude=AMPLITUDE_LIST[0], test_perc=0,phase=PHASE_LIST[0], num_batches=3000, batch_size=128)\n",
    "learner.init_learner(data_loader_task_0, 5000, init_z)"
   ]
  },
  {
   "cell_type": "code",
   "execution_count": 65,
   "metadata": {},
   "outputs": [
    {
     "data": {
      "text/plain": [
       "torch.Size([90, 3])"
      ]
     },
     "execution_count": 65,
     "metadata": {},
     "output_type": "execute_result"
    }
   ],
   "source": [
    "# Now we have the first task\n",
    "data_first_task = task_gen.get_data_loader(amplitude=AMPLITUDE_LIST[1], test_perc=0, phase=PHASE_LIST[1], num_batches=1, batch_size=90)\n",
    "\n",
    "# Now we have to reshape the data to use the VAE network\n",
    "batch = data_first_task[0]['train']\n",
    "x = batch[0]\n",
    "old_pred = learner.network(x)\n",
    "batch = torch.cat([batch[0], old_pred, batch[1]], dim=1)\n",
    "batch.shape"
   ]
  },
  {
   "cell_type": "code",
   "execution_count": 66,
   "metadata": {},
   "outputs": [
    {
     "data": {
      "text/plain": [
       "tensor([[ 0.5000, -0.0025,  0.1279]], grad_fn=<AddmmBackward>)"
      ]
     },
     "execution_count": 66,
     "metadata": {},
     "output_type": "execute_result"
    }
   ],
   "source": [
    "z_0 = torch.tensor([1., 0., 1.])\n",
    "z_inferred = model(batch.unsqueeze(0), prev_z=init_z)\n",
    "z_inferred"
   ]
  },
  {
   "cell_type": "code",
   "execution_count": 67,
   "metadata": {},
   "outputs": [
    {
     "data": {
      "text/plain": [
       "tensor([[ 1.5000, -0.0025,  1.1279]])"
      ]
     },
     "execution_count": 67,
     "metadata": {},
     "output_type": "execute_result"
    }
   ],
   "source": [
    "z_0 = torch.tensor([1., 0., 1.])\n",
    "z = init_z+z_inferred\n",
    "z = z.detach()\n",
    "z"
   ]
  },
  {
   "cell_type": "code",
   "execution_count": 68,
   "metadata": {},
   "outputs": [
    {
     "name": "stderr",
     "output_type": "stream",
     "text": [
      "C:\\Users\\Riccardo\\Anaconda3\\envs\\sequential-transfer-rl\\lib\\site-packages\\ipykernel_launcher.py:2: UserWarning: Using a target size (torch.Size([1, 3])) that is different to the input size (torch.Size([3])). This will likely lead to incorrect results due to broadcasting. Please ensure they have the same size.\n",
      "  \n"
     ]
    },
    {
     "data": {
      "text/plain": [
       "tensor(0.0393)"
      ]
     },
     "execution_count": 68,
     "metadata": {},
     "output_type": "execute_result"
    }
   ],
   "source": [
    "z_real = torch.Tensor([AMPLITUDE_LIST[1], PHASE_LIST[1], F_LIST[1]])\n",
    "F.mse_loss(z_real, z)"
   ]
  },
  {
   "cell_type": "code",
   "execution_count": 69,
   "metadata": {},
   "outputs": [
    {
     "data": {
      "text/plain": [
       "tensor([1.4000, 0.3000, 1.0000])"
      ]
     },
     "execution_count": 69,
     "metadata": {},
     "output_type": "execute_result"
    }
   ],
   "source": [
    "z_real"
   ]
  },
  {
   "cell_type": "code",
   "execution_count": 70,
   "metadata": {},
   "outputs": [
    {
     "data": {
      "text/plain": [
       "tensor([ 1.5000, -0.0025,  1.1279])"
      ]
     },
     "execution_count": 70,
     "metadata": {},
     "output_type": "execute_result"
    }
   ],
   "source": [
    "z.squeeze(0)"
   ]
  },
  {
   "cell_type": "code",
   "execution_count": 71,
   "metadata": {},
   "outputs": [
    {
     "data": {
      "text/plain": [
       "tensor(0.0393)"
      ]
     },
     "execution_count": 71,
     "metadata": {},
     "output_type": "execute_result"
    }
   ],
   "source": [
    "torch.sum((z_real-z)**2)/3"
   ]
  },
  {
   "cell_type": "code",
   "execution_count": 72,
   "metadata": {},
   "outputs": [
    {
     "data": {
      "text/plain": [
       "tensor(0.0393)"
      ]
     },
     "execution_count": 72,
     "metadata": {},
     "output_type": "execute_result"
    }
   ],
   "source": [
    "F.mse_loss(z.squeeze(0), z_real)"
   ]
  },
  {
   "cell_type": "code",
   "execution_count": 73,
   "metadata": {},
   "outputs": [
    {
     "data": {
      "text/plain": [
       "[<matplotlib.lines.Line2D at 0x23aa7694508>]"
      ]
     },
     "execution_count": 73,
     "metadata": {},
     "output_type": "execute_result"
    },
    {
     "data": {
      "image/png": "[encoded data removed]",
      "text/plain": [
       "<Figure size 432x288 with 1 Axes>"
      ]
     },
     "metadata": {
      "needs_background": "light"
     },
     "output_type": "display_data"
    }
   ],
   "source": [
    "plt.plot(x_space[0], torch.sin(x_space[0] * z[0, 2] + z[0,1]) * z[0,0], color=\"red\")\n",
    "plt.plot(x_space[0], torch.sin(x_space[0] * F_LIST[1] + PHASE_LIST[1]) * AMPLITUDE_LIST[1], color=\"blue\")"
   ]
  },
  {
   "cell_type": "code",
   "execution_count": null,
   "metadata": {},
   "outputs": [],
   "source": []
  }
 ],
 "metadata": {
  "kernelspec": {
   "display_name": "Python 3",
   "language": "python",
   "name": "python3"
  },
  "language_info": {
   "codemirror_mode": {
    "name": "ipython",
    "version": 3
   },
   "file_extension": ".py",
   "mimetype": "text/x-python",
   "name": "python",
   "nbconvert_exporter": "python",
   "pygments_lexer": "ipython3",
   "version": "3.7.6"
  }
 },
 "nbformat": 4,
 "nbformat_minor": 2
}
