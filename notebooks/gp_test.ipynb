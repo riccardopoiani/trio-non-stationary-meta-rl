{
 "cells": [
  {
   "cell_type": "code",
   "execution_count": 27,
   "metadata": {
    "pycharm": {
     "is_executing": false
    }
   },
   "outputs": [],
   "source": [
    "import torch\n",
    "import numpy as np\n",
    "from sklearn.gaussian_process import GaussianProcessRegressor\n",
    "from sklearn.gaussian_process.kernels import RBF, Product, ConstantKernel as C\n",
    "import matplotlib.pyplot as plt"
   ]
  },
  {
   "cell_type": "code",
   "execution_count": 4,
   "metadata": {},
   "outputs": [],
   "source": [
    "latent_dim = 2\n",
    "num_proc = 6\n",
    "\n",
    "posterior = torch.rand((num_proc, 2 * latent_dim))"
   ]
  },
  {
   "cell_type": "code",
   "execution_count": 5,
   "metadata": {},
   "outputs": [
    {
     "data": {
      "text/plain": [
       "tensor([[8.2759e-01, 1.2114e-01, 2.2203e-01, 6.1244e-01],\n",
       "        [2.9089e-01, 3.1902e-01, 9.9600e-01, 2.1384e-01],\n",
       "        [8.0842e-01, 5.1573e-01, 3.8194e-01, 9.7683e-01],\n",
       "        [1.2689e-01, 1.4311e-01, 7.2004e-01, 1.6600e-01],\n",
       "        [4.7110e-02, 6.4944e-01, 3.0490e-01, 7.8194e-01],\n",
       "        [8.8066e-04, 9.6077e-01, 9.0394e-01, 5.2614e-01]])"
      ]
     },
     "execution_count": 5,
     "metadata": {},
     "output_type": "execute_result"
    }
   ],
   "source": [
    "posterior"
   ]
  },
  {
   "cell_type": "code",
   "execution_count": 168,
   "metadata": {},
   "outputs": [],
   "source": [
    "kernel = C(1.0, (1e-5, 1e5)) * RBF(1, (1e-5, 1e5))\n",
    "alpha = 0.25\n",
    "n_restart = 10\n",
    "\n",
    "gp_list = [GaussianProcessRegressor(kernel=kernel, \n",
    "                              alpha=alpha ** 2,\n",
    "                              normalize_y=True,\n",
    "                              n_restarts_optimizer=n_restart)\n",
    "          for _ in range(num_proc)\n",
    "          ]"
   ]
  },
  {
   "cell_type": "code",
   "execution_count": 174,
   "metadata": {},
   "outputs": [],
   "source": [
    "gp = gp_list[0]\n",
    "x = np.arange(100)\n",
    "y = np.arange(100)\n",
    "\n",
    "\n",
    "x = np.atleast_2d(x).T\n",
    "y = np.atleast_2d(y).T"
   ]
  },
  {
   "cell_type": "code",
   "execution_count": 175,
   "metadata": {},
   "outputs": [
    {
     "data": {
      "text/plain": [
       "GaussianProcessRegressor(alpha=0.0625, copy_X_train=True,\n",
       "                         kernel=1**2 * RBF(length_scale=1),\n",
       "                         n_restarts_optimizer=10, normalize_y=True,\n",
       "                         optimizer='fmin_l_bfgs_b', random_state=None)"
      ]
     },
     "execution_count": 175,
     "metadata": {},
     "output_type": "execute_result"
    }
   ],
   "source": [
    "gp.fit(x, y)"
   ]
  },
  {
   "cell_type": "code",
   "execution_count": 176,
   "metadata": {},
   "outputs": [],
   "source": [
    "x = np.arange(50)\n",
    "x = np.atleast_2d(x).T\n",
    "y_pred, sigma = gp.predict(x, return_std=True)"
   ]
  },
  {
   "cell_type": "code",
   "execution_count": 138,
   "metadata": {},
   "outputs": [
    {
     "data": {
      "text/plain": [
       "(-10, 50)"
      ]
     },
     "execution_count": 138,
     "metadata": {},
     "output_type": "execute_result"
    },
    {
     "data": {
      "image/png": "[encoded data removed]",
      "text/plain": [
       "<Figure size 432x288 with 1 Axes>"
      ]
     },
     "metadata": {
      "needs_background": "light"
     },
     "output_type": "display_data"
    }
   ],
   "source": [
    "plt.figure()\n",
    "plt.plot(x[0:20], y, 'r.', markersize=10, label='Observations')\n",
    "plt.plot(x, y_pred, 'b-', label='Prediction')\n",
    "plt.fill(np.concatenate([x, x[::-1]]),\n",
    "         np.concatenate([y_pred - 1.9600 * sigma,\n",
    "                        (y_pred + 1.9600 * sigma)[::-1]]),\n",
    "         alpha=.5, fc='b', ec='None', label='95% confidence interval')\n",
    "plt.ylim(-10, 50)"
   ]
  },
  {
   "cell_type": "code",
   "execution_count": 145,
   "metadata": {},
   "outputs": [
    {
     "data": {
      "text/plain": [
       "array([20.93104583])"
      ]
     },
     "execution_count": 145,
     "metadata": {},
     "output_type": "execute_result"
    }
   ],
   "source": [
    "y_pred[21]"
   ]
  },
  {
   "cell_type": "code",
   "execution_count": 146,
   "metadata": {},
   "outputs": [
    {
     "data": {
      "text/plain": [
       "0.21674038316479433"
      ]
     },
     "execution_count": 146,
     "metadata": {},
     "output_type": "execute_result"
    }
   ],
   "source": [
    "sigma[21]"
   ]
  },
  {
   "cell_type": "code",
   "execution_count": null,
   "metadata": {},
   "outputs": [],
   "source": []
  },
  {
   "cell_type": "code",
   "execution_count": null,
   "metadata": {},
   "outputs": [],
   "source": []
  },
  {
   "cell_type": "code",
   "execution_count": null,
   "metadata": {},
   "outputs": [],
   "source": []
  },
  {
   "cell_type": "code",
   "execution_count": 208,
   "metadata": {},
   "outputs": [],
   "source": [
    "kernel = C(1.0, (1e-5, 1e5)) * RBF(1, (1e-5, 1e5))\n",
    "alpha = 0.25\n",
    "n_restart = 1\n",
    "\n",
    "gp_list = []\n",
    "for i in range(latent_dim):\n",
    "    gp_list.append([GaussianProcessRegressor(kernel=kernel, \n",
    "                              alpha=alpha ** 2,\n",
    "                              normalize_y=True,\n",
    "                              n_restarts_optimizer=n_restart)\n",
    "              for _ in range(num_proc)\n",
    "              ])"
   ]
  },
  {
   "cell_type": "code",
   "execution_count": 215,
   "metadata": {},
   "outputs": [],
   "source": [
    "num_task = 30\n",
    "sw_size = 10\n",
    "posterior_history = torch.empty(num_task, num_proc, 2 * latent_dim)\n",
    "for t in range(num_task):\n",
    "    posterior = t * torch.ones((num_proc, 2 * latent_dim))\n",
    "    posterior_history[t, :, :] = posterior\n",
    "    x = np.arange(t+1)\n",
    "    x = np.atleast_2d(x).T\n",
    "    for dim in range(latent_dim):\n",
    "        for proc in range(num_proc):\n",
    "            if t > sw_size:\n",
    "                gp_list[dim][proc].fit(x[-sw_size:], np.atleast_2d(posterior_history[t+1-sw_size:t+1, proc, dim].numpy()).T)\n",
    "            else:\n",
    "                gp_list[dim][proc].fit(x, np.atleast_2d(posterior_history[0:t+1, proc, dim].numpy()).T)"
   ]
  },
  {
   "cell_type": "code",
   "execution_count": 246,
   "metadata": {},
   "outputs": [],
   "source": []
  },
  {
   "cell_type": "code",
   "execution_count": 247,
   "metadata": {},
   "outputs": [
    {
     "data": {
      "text/plain": [
       "[tensor([[14.9892,  0.0387],\n",
       "         [14.9892,  0.0387]]), tensor([[14.9892,  0.0387],\n",
       "         [14.9892,  0.0387]]), tensor([[14.9892,  0.0387],\n",
       "         [14.9892,  0.0387]]), tensor([[14.9892,  0.0387],\n",
       "         [14.9892,  0.0387]]), tensor([[14.9892,  0.0387],\n",
       "         [14.9892,  0.0387]]), tensor([[14.9892,  0.0387],\n",
       "         [14.9892,  0.0387]])]"
      ]
     },
     "execution_count": 247,
     "metadata": {},
     "output_type": "execute_result"
    }
   ],
   "source": []
  },
  {
   "cell_type": "code",
   "execution_count": null,
   "metadata": {},
   "outputs": [],
   "source": []
  },
  {
   "cell_type": "code",
   "execution_count": null,
   "metadata": {},
   "outputs": [],
   "source": []
  },
  {
   "cell_type": "code",
   "execution_count": null,
   "metadata": {},
   "outputs": [],
   "source": []
  }
 ],
 "metadata": {
  "kernelspec": {
   "display_name": "Python 3",
   "language": "python",
   "name": "python3"
  },
  "language_info": {
   "codemirror_mode": {
    "name": "ipython",
    "version": 3
   },
   "file_extension": ".py",
   "mimetype": "text/x-python",
   "name": "python",
   "nbconvert_exporter": "python",
   "pygments_lexer": "ipython3",
   "version": "3.7.6"
  }
 },
 "nbformat": 4,
 "nbformat_minor": 1
}
