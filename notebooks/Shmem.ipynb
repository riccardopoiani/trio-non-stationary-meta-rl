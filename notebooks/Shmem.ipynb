{
 "cells": [
  {
   "cell_type": "code",
   "execution_count": 1,
   "metadata": {
    "pycharm": {
     "is_executing": false
    }
   },
   "outputs": [
    {
     "ename": "ModuleNotFoundError",
     "evalue": "No module named 'learner.posterior_multi_task'",
     "output_type": "error",
     "traceback": [
      "\u001b[1;31m---------------------------------------------------------------------------\u001b[0m",
      "\u001b[1;31mModuleNotFoundError\u001b[0m                       Traceback (most recent call last)",
      "\u001b[1;32m<ipython-input-1-10bbb6def283>\u001b[0m in \u001b[0;36m<module>\u001b[1;34m\u001b[0m\n\u001b[0;32m     11\u001b[0m \u001b[1;33m\u001b[0m\u001b[0m\n\u001b[0;32m     12\u001b[0m \u001b[1;32mfrom\u001b[0m \u001b[0mutilities\u001b[0m\u001b[1;33m.\u001b[0m\u001b[0marguments\u001b[0m \u001b[1;32mimport\u001b[0m \u001b[0mget_args\u001b[0m\u001b[1;33m\u001b[0m\u001b[1;33m\u001b[0m\u001b[0m\n\u001b[1;32m---> 13\u001b[1;33m \u001b[1;32mfrom\u001b[0m \u001b[0mlearner\u001b[0m\u001b[1;33m.\u001b[0m\u001b[0mposterior_multi_task\u001b[0m \u001b[1;32mimport\u001b[0m \u001b[0mPosteriorMTAgent\u001b[0m\u001b[1;33m\u001b[0m\u001b[1;33m\u001b[0m\u001b[0m\n\u001b[0m\u001b[0;32m     14\u001b[0m \u001b[1;32mfrom\u001b[0m \u001b[0minference\u001b[0m\u001b[1;33m.\u001b[0m\u001b[0minference_network\u001b[0m \u001b[1;32mimport\u001b[0m \u001b[0mInferenceNetwork\u001b[0m\u001b[1;33m\u001b[0m\u001b[1;33m\u001b[0m\u001b[0m\n\u001b[0;32m     15\u001b[0m \u001b[1;32mfrom\u001b[0m \u001b[0mppo_a2c\u001b[0m\u001b[1;33m.\u001b[0m\u001b[0menvs\u001b[0m \u001b[1;32mimport\u001b[0m \u001b[0mmake_vec_envs_multi_task\u001b[0m\u001b[1;33m,\u001b[0m \u001b[0mget_vec_envs_multi_task\u001b[0m\u001b[1;33m\u001b[0m\u001b[1;33m\u001b[0m\u001b[0m\n",
      "\u001b[1;31mModuleNotFoundError\u001b[0m: No module named 'learner.posterior_multi_task'"
     ]
    }
   ],
   "source": [
    "import torch\n",
    "import numpy as np\n",
    "import pickle\n",
    "\n",
    "from sklearn.gaussian_process import GaussianProcessRegressor\n",
    "from sklearn.gaussian_process.kernels import RBF, Product, ConstantKernel as C\n",
    "\n",
    "import matplotlib.pyplot as plt\n",
    "import gym_sin\n",
    "from gym import spaces\n",
    "\n",
    "from utilities.arguments import get_args\n",
    "from learner.posterior_multi_task import PosteriorMTAgent\n",
    "from inference.inference_network import InferenceNetwork\n",
    "from ppo_a2c.envs import make_vec_envs_multi_task, get_vec_envs_multi_task\n",
    "from task.GuassianTaskGenerator import GaussianTaskGenerator\n",
    "from utilities.folder_management import handle_folder_creation\n"
   ]
  },
  {
   "cell_type": "code",
   "execution_count": 429,
   "metadata": {},
   "outputs": [],
   "source": [
    "def get_sin_task_sequence(alpha, n_restarts, num_test_processes, std=0.00000001):\n",
    "    kernel = C(1.0, (1e-8, 1e8)) * RBF(1, (1e-8, 1e8))\n",
    "\n",
    "    gp_list = []\n",
    "    for i in range(num_test_processes):\n",
    "        gp_list.append([GaussianProcessRegressor(kernel=kernel,\n",
    "                                                 alpha=alpha ** 2,\n",
    "                                                 normalize_y=False,\n",
    "                                                 n_restarts_optimizer=n_restarts)\n",
    "                        for _ in range(num_test_processes)])\n",
    "\n",
    "    f = 0.1\n",
    "    offset = 0\n",
    "    a = 0.9\n",
    "\n",
    "    init_prior_test = [torch.tensor([[a * np.sin(0) + offset], [std]], dtype=torch.float32)\n",
    "                       for _ in range(num_test_processes)]\n",
    "\n",
    "    prior_seq = []\n",
    "    for idx in range(100):\n",
    "        friction = a * np.sin(f * idx) + offset\n",
    "        prior_seq.append(torch.tensor([[friction], [std]], dtype=torch.float32))\n",
    "\n",
    "    return gp_list, prior_seq, init_prior_test\n",
    "\n",
    "\n",
    "def get_const_task_sequence(alpha, n_restarts, num_test_processes, std=0.00000001):\n",
    "    kernel = C(1.0, (1e-8, 1e8)) * RBF(1, (1e-8, 1e8))\n",
    "\n",
    "    gp_list = []\n",
    "    for i in range(num_test_processes):\n",
    "        gp_list.append([GaussianProcessRegressor(kernel=kernel,\n",
    "                                                 alpha=alpha ** 2,\n",
    "                                                 normalize_y=False,\n",
    "                                                 n_restarts_optimizer=n_restarts)\n",
    "                        for _ in range(num_test_processes)])\n",
    "\n",
    "    init_prior_test = [torch.tensor([[0.08], [0.05]], dtype=torch.float32)\n",
    "                       for _ in range(num_test_processes)]\n",
    "    friction = 0.1\n",
    "    prior_seq = []\n",
    "    for idx in range(10):\n",
    "        prior_seq.append(torch.tensor([[friction], [std]], dtype=torch.float32))\n",
    "\n",
    "    return gp_list, prior_seq, init_prior_test"
   ]
  },
  {
   "cell_type": "code",
   "execution_count": 381,
   "metadata": {},
   "outputs": [
    {
     "data": {
      "text/plain": [
       "<matplotlib.legend.Legend at 0x1a736c27888>"
      ]
     },
     "execution_count": 381,
     "metadata": {},
     "output_type": "execute_result"
    },
    {
     "data": {
      "image/png": "[encoded data removed]",
      "text/plain": [
       "<Figure size 432x288 with 1 Axes>"
      ]
     },
     "metadata": {
      "needs_background": "light"
     },
     "output_type": "display_data"
    }
   ],
   "source": [
    "for _ in range(50):\n",
    "    num_test_processes = 1\n",
    "    gp_list, _, _ = get_sin_task_sequence(1, 1, num_test_processes, 0.1)\n",
    "\n",
    "    x_train = np.arange(40)\n",
    "    y_train = np.arange(40)\n",
    "    gp_list[0][0].fit(np.atleast_2d(x_train).T, np.atleast_2d(y_train).T)\n",
    "\n",
    "    x_points = np.atleast_2d(np.arange(100)).T\n",
    "    pred, sigma = gp_list[0][0].predict(x_points, return_std=True)\n",
    "\n",
    "plt.plot(x_points, pred, label=\"pred\")\n",
    "plt.plot(x_points, np.arange(100), label=\"true\")\n",
    "plt.legend()"
   ]
  },
  {
   "cell_type": "code",
   "execution_count": 190,
   "metadata": {},
   "outputs": [],
   "source": [
    "for _ in range(10):\n",
    "    num_test_processes = 1\n",
    "    gp_list, _, _ = get_sin_task_sequence(1, 1, num_test_processes, 0.1)\n",
    "\n",
    "    x_train = np.arange(40)\n",
    "    y_train = np.arange(40)\n",
    "    gp_list[0][0].fit(np.atleast_2d(x_train).T, np.atleast_2d(y_train).T)\n",
    "\n",
    "    x_points = np.atleast_2d(np.arange(100)).T\n",
    "    pred, sigma = gp_list[0][0].predict(x_points, return_std=True)\n",
    "\n",
    "plt.plot(x_points, pred, label=\"pred\")\n",
    "plt.plot(x_points, np.arange(100), label=\"true\")\n",
    "plt.legend()"
   ]
  },
  {
   "cell_type": "code",
   "execution_count": 475,
   "metadata": {},
   "outputs": [
    {
     "data": {
      "image/png": "[encoded data removed]",
      "text/plain": [
       "<Figure size 432x288 with 1 Axes>"
      ]
     },
     "metadata": {
      "needs_background": "light"
     },
     "output_type": "display_data"
    },
    {
     "data": {
      "image/png": "[encoded data removed]",
      "text/plain": [
       "<Figure size 432x288 with 1 Axes>"
      ]
     },
     "metadata": {
      "needs_background": "light"
     },
     "output_type": "display_data"
    }
   ],
   "source": [
    "f = 0.1\n",
    "a = 0.9\n",
    "offset = 0. \n",
    "num_train_x = 10\n",
    "num_horizon = 100\n",
    "\n",
    "gp_list, _, _ = get_sin_task_sequence(0.001, 1, num_test_processes, 0.1)\n",
    "\n",
    "x_train = np.arange(num_train_x)\n",
    "y_train = a * np.sin(f*x_train)\n",
    "gp_list[0][0].fit(np.atleast_2d(x_train).T, np.atleast_2d(y_train).T)\n",
    "\n",
    "x_points = np.atleast_2d(np.arange(num_horizon)).T\n",
    "pred, sigma = gp_list[0][0].predict(x_points, return_std=True)\n",
    "\n",
    "plt.plot(x_points, pred, label=\"pred\")\n",
    "plt.plot(x_points, a*np.sin(f*np.arange(num_horizon)), label=\"true\")\n",
    "plt.legend()\n",
    "plt.title(\"Whole task prediction\")\n",
    "plt.show()\n",
    "\n",
    "plt.plot(x_points[num_train_x:], pred[num_train_x:], label=\"pred\")\n",
    "plt.plot(x_points[num_train_x:], a*np.sin(f*np.arange(num_horizon))[num_train_x:], label=\"true\")\n",
    "plt.legend()\n",
    "plt.title(\"Future\")\n",
    "plt.show()"
   ]
  },
  {
   "cell_type": "code",
   "execution_count": null,
   "metadata": {},
   "outputs": [],
   "source": []
  },
  {
   "cell_type": "code",
   "execution_count": 474,
   "metadata": {},
   "outputs": [
    {
     "ename": "AttributeError",
     "evalue": "module 'gym.envs.box2d' has no attribute 'CarRacing'",
     "output_type": "error",
     "traceback": [
      "\u001b[1;31m---------------------------------------------------------------------------\u001b[0m",
      "\u001b[1;31mAttributeError\u001b[0m                            Traceback (most recent call last)",
      "\u001b[1;32m<ipython-input-474-a135d2b2b5b7>\u001b[0m in \u001b[0;36m<module>\u001b[1;34m\u001b[0m\n\u001b[1;32m----> 1\u001b[1;33m \u001b[0menv\u001b[0m \u001b[1;33m=\u001b[0m \u001b[0mgym\u001b[0m\u001b[1;33m.\u001b[0m\u001b[0mmake\u001b[0m\u001b[1;33m(\u001b[0m\u001b[1;34m\"CarRacing-v0\"\u001b[0m\u001b[1;33m)\u001b[0m\u001b[1;33m\u001b[0m\u001b[1;33m\u001b[0m\u001b[0m\n\u001b[0m",
      "\u001b[1;32mC:\\Users\\Riccardo\\Anaconda3\\envs\\sequential-transfer-rl\\lib\\site-packages\\gym\\envs\\registration.py\u001b[0m in \u001b[0;36mmake\u001b[1;34m(id, **kwargs)\u001b[0m\n\u001b[0;32m    154\u001b[0m \u001b[1;33m\u001b[0m\u001b[0m\n\u001b[0;32m    155\u001b[0m \u001b[1;32mdef\u001b[0m \u001b[0mmake\u001b[0m\u001b[1;33m(\u001b[0m\u001b[0mid\u001b[0m\u001b[1;33m,\u001b[0m \u001b[1;33m**\u001b[0m\u001b[0mkwargs\u001b[0m\u001b[1;33m)\u001b[0m\u001b[1;33m:\u001b[0m\u001b[1;33m\u001b[0m\u001b[1;33m\u001b[0m\u001b[0m\n\u001b[1;32m--> 156\u001b[1;33m     \u001b[1;32mreturn\u001b[0m \u001b[0mregistry\u001b[0m\u001b[1;33m.\u001b[0m\u001b[0mmake\u001b[0m\u001b[1;33m(\u001b[0m\u001b[0mid\u001b[0m\u001b[1;33m,\u001b[0m \u001b[1;33m**\u001b[0m\u001b[0mkwargs\u001b[0m\u001b[1;33m)\u001b[0m\u001b[1;33m\u001b[0m\u001b[1;33m\u001b[0m\u001b[0m\n\u001b[0m\u001b[0;32m    157\u001b[0m \u001b[1;33m\u001b[0m\u001b[0m\n\u001b[0;32m    158\u001b[0m \u001b[1;32mdef\u001b[0m \u001b[0mspec\u001b[0m\u001b[1;33m(\u001b[0m\u001b[0mid\u001b[0m\u001b[1;33m)\u001b[0m\u001b[1;33m:\u001b[0m\u001b[1;33m\u001b[0m\u001b[1;33m\u001b[0m\u001b[0m\n",
      "\u001b[1;32mC:\\Users\\Riccardo\\Anaconda3\\envs\\sequential-transfer-rl\\lib\\site-packages\\gym\\envs\\registration.py\u001b[0m in \u001b[0;36mmake\u001b[1;34m(self, path, **kwargs)\u001b[0m\n\u001b[0;32m     99\u001b[0m             \u001b[0mlogger\u001b[0m\u001b[1;33m.\u001b[0m\u001b[0minfo\u001b[0m\u001b[1;33m(\u001b[0m\u001b[1;34m'Making new env: %s'\u001b[0m\u001b[1;33m,\u001b[0m \u001b[0mpath\u001b[0m\u001b[1;33m)\u001b[0m\u001b[1;33m\u001b[0m\u001b[1;33m\u001b[0m\u001b[0m\n\u001b[0;32m    100\u001b[0m         \u001b[0mspec\u001b[0m \u001b[1;33m=\u001b[0m \u001b[0mself\u001b[0m\u001b[1;33m.\u001b[0m\u001b[0mspec\u001b[0m\u001b[1;33m(\u001b[0m\u001b[0mpath\u001b[0m\u001b[1;33m)\u001b[0m\u001b[1;33m\u001b[0m\u001b[1;33m\u001b[0m\u001b[0m\n\u001b[1;32m--> 101\u001b[1;33m         \u001b[0menv\u001b[0m \u001b[1;33m=\u001b[0m \u001b[0mspec\u001b[0m\u001b[1;33m.\u001b[0m\u001b[0mmake\u001b[0m\u001b[1;33m(\u001b[0m\u001b[1;33m**\u001b[0m\u001b[0mkwargs\u001b[0m\u001b[1;33m)\u001b[0m\u001b[1;33m\u001b[0m\u001b[1;33m\u001b[0m\u001b[0m\n\u001b[0m\u001b[0;32m    102\u001b[0m         \u001b[1;31m# We used to have people override _reset/_step rather than\u001b[0m\u001b[1;33m\u001b[0m\u001b[1;33m\u001b[0m\u001b[1;33m\u001b[0m\u001b[0m\n\u001b[0;32m    103\u001b[0m         \u001b[1;31m# reset/step. Set _gym_disable_underscore_compat = True on\u001b[0m\u001b[1;33m\u001b[0m\u001b[1;33m\u001b[0m\u001b[1;33m\u001b[0m\u001b[0m\n",
      "\u001b[1;32mC:\\Users\\Riccardo\\Anaconda3\\envs\\sequential-transfer-rl\\lib\\site-packages\\gym\\envs\\registration.py\u001b[0m in \u001b[0;36mmake\u001b[1;34m(self, **kwargs)\u001b[0m\n\u001b[0;32m     70\u001b[0m             \u001b[0menv\u001b[0m \u001b[1;33m=\u001b[0m \u001b[0mself\u001b[0m\u001b[1;33m.\u001b[0m\u001b[0mentry_point\u001b[0m\u001b[1;33m(\u001b[0m\u001b[1;33m**\u001b[0m\u001b[0m_kwargs\u001b[0m\u001b[1;33m)\u001b[0m\u001b[1;33m\u001b[0m\u001b[1;33m\u001b[0m\u001b[0m\n\u001b[0;32m     71\u001b[0m         \u001b[1;32melse\u001b[0m\u001b[1;33m:\u001b[0m\u001b[1;33m\u001b[0m\u001b[1;33m\u001b[0m\u001b[0m\n\u001b[1;32m---> 72\u001b[1;33m             \u001b[0mcls\u001b[0m \u001b[1;33m=\u001b[0m \u001b[0mload\u001b[0m\u001b[1;33m(\u001b[0m\u001b[0mself\u001b[0m\u001b[1;33m.\u001b[0m\u001b[0mentry_point\u001b[0m\u001b[1;33m)\u001b[0m\u001b[1;33m\u001b[0m\u001b[1;33m\u001b[0m\u001b[0m\n\u001b[0m\u001b[0;32m     73\u001b[0m             \u001b[0menv\u001b[0m \u001b[1;33m=\u001b[0m \u001b[0mcls\u001b[0m\u001b[1;33m(\u001b[0m\u001b[1;33m**\u001b[0m\u001b[0m_kwargs\u001b[0m\u001b[1;33m)\u001b[0m\u001b[1;33m\u001b[0m\u001b[1;33m\u001b[0m\u001b[0m\n\u001b[0;32m     74\u001b[0m \u001b[1;33m\u001b[0m\u001b[0m\n",
      "\u001b[1;32mC:\\Users\\Riccardo\\Anaconda3\\envs\\sequential-transfer-rl\\lib\\site-packages\\gym\\envs\\registration.py\u001b[0m in \u001b[0;36mload\u001b[1;34m(name)\u001b[0m\n\u001b[0;32m     16\u001b[0m     \u001b[0mmod_name\u001b[0m\u001b[1;33m,\u001b[0m \u001b[0mattr_name\u001b[0m \u001b[1;33m=\u001b[0m \u001b[0mname\u001b[0m\u001b[1;33m.\u001b[0m\u001b[0msplit\u001b[0m\u001b[1;33m(\u001b[0m\u001b[1;34m\":\"\u001b[0m\u001b[1;33m)\u001b[0m\u001b[1;33m\u001b[0m\u001b[1;33m\u001b[0m\u001b[0m\n\u001b[0;32m     17\u001b[0m     \u001b[0mmod\u001b[0m \u001b[1;33m=\u001b[0m \u001b[0mimportlib\u001b[0m\u001b[1;33m.\u001b[0m\u001b[0mimport_module\u001b[0m\u001b[1;33m(\u001b[0m\u001b[0mmod_name\u001b[0m\u001b[1;33m)\u001b[0m\u001b[1;33m\u001b[0m\u001b[1;33m\u001b[0m\u001b[0m\n\u001b[1;32m---> 18\u001b[1;33m     \u001b[0mfn\u001b[0m \u001b[1;33m=\u001b[0m \u001b[0mgetattr\u001b[0m\u001b[1;33m(\u001b[0m\u001b[0mmod\u001b[0m\u001b[1;33m,\u001b[0m \u001b[0mattr_name\u001b[0m\u001b[1;33m)\u001b[0m\u001b[1;33m\u001b[0m\u001b[1;33m\u001b[0m\u001b[0m\n\u001b[0m\u001b[0;32m     19\u001b[0m     \u001b[1;32mreturn\u001b[0m \u001b[0mfn\u001b[0m\u001b[1;33m\u001b[0m\u001b[1;33m\u001b[0m\u001b[0m\n\u001b[0;32m     20\u001b[0m \u001b[1;33m\u001b[0m\u001b[0m\n",
      "\u001b[1;31mAttributeError\u001b[0m: module 'gym.envs.box2d' has no attribute 'CarRacing'"
     ]
    }
   ],
   "source": [
    "env = gym.make(\"CarRacing-v0\")"
   ]
  },
  {
   "cell_type": "code",
   "execution_count": null,
   "metadata": {},
   "outputs": [],
   "source": []
  },
  {
   "cell_type": "code",
   "execution_count": null,
   "metadata": {},
   "outputs": [],
   "source": []
  },
  {
   "cell_type": "code",
   "execution_count": null,
   "metadata": {},
   "outputs": [],
   "source": []
  },
  {
   "cell_type": "code",
   "execution_count": 126,
   "metadata": {},
   "outputs": [],
   "source": [
    "import torch\n",
    "import numpy as np\n",
    "import pickle\n",
    "\n",
    "from sklearn.gaussian_process import GaussianProcessRegressor\n",
    "from sklearn.gaussian_process.kernels import RBF, Product, ConstantKernel as C\n",
    "\n",
    "import gym_sin\n",
    "from gym import spaces\n",
    "\n",
    "from utilities.arguments import get_args\n",
    "from learner.posterior_multi_task import PosteriorMTAgent\n",
    "from inference.inference_network import InferenceNetwork\n",
    "from task.ExploitTaskGenerator import ExploitTaskGenerator\n",
    "from utilities.folder_management import handle_folder_creation\n"
   ]
  },
  {
   "cell_type": "code",
   "execution_count": 127,
   "metadata": {},
   "outputs": [],
   "source": [
    "env_name = \"exploit-v0\"\n",
    "action_space = spaces.Discrete(3)\n",
    "latent_dim = 1\n",
    "theta_min = -0.1\n",
    "theta_max = 0.1\n",
    "noise_var = 0.01\n",
    "\n",
    "device = \"cpu\"\n",
    "task_generator = ExploitTaskGenerator(noise_var=noise_var, theta_min=theta_min, theta_max=theta_max)\n",
    "f = task_generator.create_task_family(n_tasks=5000, n_batches=1, test_perc=0, batch_size=1)"
   ]
  },
  {
   "cell_type": "code",
   "execution_count": null,
   "metadata": {},
   "outputs": [],
   "source": []
  },
  {
   "cell_type": "code",
   "execution_count": 139,
   "metadata": {},
   "outputs": [
    {
     "data": {
      "text/plain": [
       "([{'noise_var': 0.01, 'theta': -0.10000000149011612}], None, [tensor([[0.0000],\n",
       "          [0.1000]])], tensor([[-0.1000]]))"
      ]
     },
     "execution_count": 139,
     "metadata": {},
     "output_type": "execute_result"
    }
   ],
   "source": [
    "task_generator.sample_pair_tasks(1)"
   ]
  },
  {
   "cell_type": "code",
   "execution_count": 218,
   "metadata": {},
   "outputs": [],
   "source": [
    "logvar_hat = (torch.ones(32, 1) * 0.4).log()\n",
    "logvar_prior = (torch.ones(32, 1) * 20).log() \n",
    "\n",
    "mu_hat = torch.rand(32, 1)\n",
    "mu_prior = mu_hat - 0.1"
   ]
  },
  {
   "cell_type": "code",
   "execution_count": 219,
   "metadata": {},
   "outputs": [
    {
     "data": {
      "text/plain": [
       "tensor([3.9120, 3.9120, 3.9120, 3.9120, 3.9120, 3.9120, 3.9120, 3.9120, 3.9120,\n",
       "        3.9120, 3.9120, 3.9120, 3.9120, 3.9120, 3.9120, 3.9120, 3.9120, 3.9120,\n",
       "        3.9120, 3.9120, 3.9120, 3.9120, 3.9120, 3.9120, 3.9120, 3.9120, 3.9120,\n",
       "        3.9120, 3.9120, 3.9120, 3.9120, 3.9120])"
      ]
     },
     "execution_count": 219,
     "metadata": {},
     "output_type": "execute_result"
    }
   ],
   "source": [
    "(torch.log(torch.prod(logvar_prior.exp(), 1) / torch.prod(logvar_hat.exp(), 1)))"
   ]
  },
  {
   "cell_type": "code",
   "execution_count": 220,
   "metadata": {},
   "outputs": [
    {
     "data": {
      "text/plain": [
       "tensor([-0.9795, -0.9795, -0.9795, -0.9795, -0.9795, -0.9795, -0.9795, -0.9795,\n",
       "        -0.9795, -0.9795, -0.9795, -0.9795, -0.9795, -0.9795, -0.9795, -0.9795,\n",
       "        -0.9795, -0.9795, -0.9795, -0.9795, -0.9795, -0.9795, -0.9795, -0.9795,\n",
       "        -0.9795, -0.9795, -0.9795, -0.9795, -0.9795, -0.9795, -0.9795, -0.9795])"
      ]
     },
     "execution_count": 220,
     "metadata": {},
     "output_type": "execute_result"
    }
   ],
   "source": [
    "(torch.sum(\n",
    "        -1 + (mu_hat - mu_prior).pow(2) * (1 / logvar_prior.exp()) + (logvar_hat.exp() * (1 / logvar_prior.exp())), 1))\n"
   ]
  },
  {
   "cell_type": "code",
   "execution_count": 233,
   "metadata": {},
   "outputs": [
    {
     "data": {
      "text/plain": [
       "39"
      ]
     },
     "execution_count": 233,
     "metadata": {},
     "output_type": "execute_result"
    }
   ],
   "source": [
    "c = 0\n",
    "for _ in range(5000):\n",
    "    r = torch.normal(torch.tensor([50.]), torch.tensor([20.])).item()\n",
    "    if r < 0:\n",
    "        c += 1\n",
    "c"
   ]
  },
  {
   "cell_type": "code",
   "execution_count": 240,
   "metadata": {},
   "outputs": [
    {
     "name": "stdout",
     "output_type": "stream",
     "text": [
      "0\n",
      "1\n",
      "2\n",
      "3\n",
      "4\n",
      "5\n",
      "6\n",
      "7\n",
      "8\n"
     ]
    }
   ],
   "source": [
    "for i in range(10):\n",
    "    if i < 10 - 1:\n",
    "        print(i)\n",
    "        "
   ]
  },
  {
   "cell_type": "code",
   "execution_count": 241,
   "metadata": {},
   "outputs": [
    {
     "name": "stdout",
     "output_type": "stream",
     "text": [
      "0\n",
      "1\n",
      "2\n",
      "3\n",
      "4\n",
      "5\n",
      "6\n",
      "7\n",
      "8\n",
      "9\n"
     ]
    }
   ],
   "source": [
    "for i in range(10):\n",
    "    print(i)\n",
    "        "
   ]
  },
  {
   "cell_type": "code",
   "execution_count": 242,
   "metadata": {},
   "outputs": [
    {
     "name": "stdout",
     "output_type": "stream",
     "text": [
      "0\n",
      "1\n",
      "2\n",
      "3\n",
      "4\n",
      "5\n",
      "6\n",
      "7\n",
      "8\n",
      "9\n",
      "10\n",
      "11\n",
      "12\n",
      "13\n",
      "14\n",
      "15\n",
      "16\n",
      "17\n",
      "18\n",
      "19\n"
     ]
    }
   ],
   "source": [
    "for iter in range(20):\n",
    "    print(iter)"
   ]
  },
  {
   "cell_type": "code",
   "execution_count": 244,
   "metadata": {},
   "outputs": [
    {
     "ename": "NameError",
     "evalue": "name 'envs' is not defined",
     "output_type": "error",
     "traceback": [
      "\u001b[1;31m---------------------------------------------------------------------------\u001b[0m",
      "\u001b[1;31mNameError\u001b[0m                                 Traceback (most recent call last)",
      "\u001b[1;32m<ipython-input-244-618a808949e9>\u001b[0m in \u001b[0;36m<module>\u001b[1;34m\u001b[0m\n\u001b[1;32m----> 1\u001b[1;33m \u001b[0menvs\u001b[0m\u001b[1;33m\u001b[0m\u001b[1;33m\u001b[0m\u001b[0m\n\u001b[0m",
      "\u001b[1;31mNameError\u001b[0m: name 'envs' is not defined"
     ]
    }
   ],
   "source": [
    "envs"
   ]
  },
  {
   "cell_type": "code",
   "execution_count": null,
   "metadata": {},
   "outputs": [],
   "source": []
  },
  {
   "cell_type": "code",
   "execution_count": null,
   "metadata": {},
   "outputs": [],
   "source": []
  },
  {
   "cell_type": "code",
   "execution_count": 268,
   "metadata": {},
   "outputs": [],
   "source": [
    "min_friction = 0.065\n",
    "max_friction = 0.196\n",
    "prior_std_min = 0.001\n",
    "prior_std_max = 0.05\n",
    "\n",
    "num_processes = 4"
   ]
  },
  {
   "cell_type": "code",
   "execution_count": 280,
   "metadata": {},
   "outputs": [],
   "source": [
    "ok = True\n",
    "while ok:\n",
    "    mu = (min_friction - max_friction) * torch.rand(num_processes) + max_friction\n",
    "    std = (prior_std_min - prior_std_max) * torch.rand(num_processes) + prior_std_max\n",
    "\n",
    "    new_tasks = torch.normal(mu, std).reshape(num_processes, 1)\n",
    "\n",
    "    if torch.sum(new_tasks > max_friction) + torch.sum(new_tasks < min_friction) == 0:\n",
    "        ok = False\n",
    "\n",
    "prior = [torch.tensor([[mu[i]],[std[i]]]) for i in range(num_processes)]"
   ]
  },
  {
   "cell_type": "code",
   "execution_count": 291,
   "metadata": {},
   "outputs": [],
   "source": []
  },
  {
   "cell_type": "code",
   "execution_count": 297,
   "metadata": {},
   "outputs": [
    {
     "data": {
      "text/plain": [
       "tensor([[0.1735],\n",
       "        [0.0039]])"
      ]
     },
     "execution_count": 297,
     "metadata": {},
     "output_type": "execute_result"
    }
   ],
   "source": [
    "prior[3]"
   ]
  },
  {
   "cell_type": "code",
   "execution_count": 298,
   "metadata": {},
   "outputs": [],
   "source": [
    "c = torch.zeros(32, 14, 5)\n",
    "obs = torch.ones((32, 3))"
   ]
  },
  {
   "cell_type": "code",
   "execution_count": 302,
   "metadata": {},
   "outputs": [],
   "source": [
    "c[:, 0, 2:] = obs"
   ]
  },
  {
   "cell_type": "code",
   "execution_count": 304,
   "metadata": {},
   "outputs": [
    {
     "data": {
      "text/plain": [
       "tensor([[0., 0., 1., 1., 1.],\n",
       "        [0., 0., 1., 1., 1.],\n",
       "        [0., 0., 1., 1., 1.],\n",
       "        [0., 0., 1., 1., 1.],\n",
       "        [0., 0., 1., 1., 1.],\n",
       "        [0., 0., 1., 1., 1.],\n",
       "        [0., 0., 1., 1., 1.],\n",
       "        [0., 0., 1., 1., 1.],\n",
       "        [0., 0., 1., 1., 1.],\n",
       "        [0., 0., 1., 1., 1.],\n",
       "        [0., 0., 1., 1., 1.],\n",
       "        [0., 0., 1., 1., 1.],\n",
       "        [0., 0., 1., 1., 1.],\n",
       "        [0., 0., 1., 1., 1.],\n",
       "        [0., 0., 1., 1., 1.],\n",
       "        [0., 0., 1., 1., 1.],\n",
       "        [0., 0., 1., 1., 1.],\n",
       "        [0., 0., 1., 1., 1.],\n",
       "        [0., 0., 1., 1., 1.],\n",
       "        [0., 0., 1., 1., 1.],\n",
       "        [0., 0., 1., 1., 1.],\n",
       "        [0., 0., 1., 1., 1.],\n",
       "        [0., 0., 1., 1., 1.],\n",
       "        [0., 0., 1., 1., 1.],\n",
       "        [0., 0., 1., 1., 1.],\n",
       "        [0., 0., 1., 1., 1.],\n",
       "        [0., 0., 1., 1., 1.],\n",
       "        [0., 0., 1., 1., 1.],\n",
       "        [0., 0., 1., 1., 1.],\n",
       "        [0., 0., 1., 1., 1.],\n",
       "        [0., 0., 1., 1., 1.],\n",
       "        [0., 0., 1., 1., 1.]])"
      ]
     },
     "execution_count": 304,
     "metadata": {},
     "output_type": "execute_result"
    }
   ],
   "source": [
    "c[:, 0]"
   ]
  },
  {
   "cell_type": "code",
   "execution_count": null,
   "metadata": {},
   "outputs": [],
   "source": [
    "import torch\n",
    "import torch.nn.functional as F\n",
    "\n",
    "\n",
    "class InferenceNetworkNew(torch.nn.Module):\n",
    "    \"\"\"\n",
    "    Input:\n",
    "        Previous latent space\n",
    "        sequence of data from the current task and old task at that point\n",
    "        prior over the current task (expressed as vector mu and c)\n",
    "\n",
    "    Output:\n",
    "        - sample from the probability distribution over the latent space\n",
    "        - mu and logvar from the posterior distribution\n",
    "    \"\"\"\n",
    "\n",
    "    def __init__(self, n_in, z_dim):\n",
    "        super(InferenceNetwork, self).__init__()\n",
    "        self.z_dim = z_dim\n",
    "        self.n_in = n_in\n",
    "\n",
    "        self.enc2 = torch.nn.GRU(input_size=n_in, hidden_size=32, num_layers=1, batch_first=True)\n",
    "        self.enc3 = torch.nn.Linear(32 + z_dim * 2 + 1, 16)  # hidden + the prior + seq_len\n",
    "        self.enc41 = torch.nn.Linear(16, z_dim)\n",
    "        self.enc42 = torch.nn.Linear(16, z_dim)\n",
    "\n",
    "        self.h = None\n",
    "        self.seq_len = 0\n",
    "\n",
    "    def encode(self, context, prior, use_prev_state):\n",
    "        # Compute batch number and lenght of the sequence\n",
    "        n_batch = context.shape[0]\n",
    "        seq_len = context.shape[1]\n",
    "\n",
    "        # Data preparation\n",
    "        original_prior = prior\n",
    "        if len(original_prior.shape) == 1:\n",
    "            original_prior = original_prior.unsqueeze(0)\n",
    "        prior = prior.reshape(n_batch, 1, 2)\n",
    "        prior = prior.repeat(1, seq_len, 1)\n",
    "\n",
    "        context = torch.cat([context, prior], dim=2).view(n_batch, seq_len, self.n_in)\n",
    "\n",
    "        # Data processing\n",
    "        if use_prev_state and self.h is not None:\n",
    "            t, self.h = self.enc2(context, self.h)\n",
    "        else:\n",
    "            t, self.h = self.enc2(context)\n",
    "        t = t[:, -1, :]  # we are interested only in the last output of the sequence\n",
    "        t = F.elu(t)\n",
    "\n",
    "        self.seq_len += seq_len\n",
    "        trust = torch.tensor([self.seq_len], dtype=t.dtype).repeat(n_batch, 1)\n",
    "        t = torch.cat([t, original_prior, trust], 1)\n",
    "        t = F.elu(self.enc3(t))\n",
    "\n",
    "        # Return encoded mu and logvar\n",
    "        return self.enc41(t), self.enc42(t)\n",
    "\n",
    "    def reparameterize(self, mu, logvar):\n",
    "        # Re-parametrization trick\n",
    "        std = torch.exp(0.5 * logvar)\n",
    "        eps = torch.randn_like(std)\n",
    "        return mu + eps * std\n",
    "\n",
    "    def forward(self, context, prior, use_prev_state):\n",
    "        if not use_prev_state:\n",
    "            self.h = None\n",
    "            self.seq_len = 0\n",
    "\n",
    "        mu, logvar = self.encode(context, prior, use_prev_state)\n",
    "        z = self.reparameterize(mu=mu, logvar=logvar)\n",
    "        return z, mu, logvar\n"
   ]
  },
  {
   "cell_type": "code",
   "execution_count": 316,
   "metadata": {},
   "outputs": [],
   "source": [
    "prev_state = torch.ones((16, 1), dtype=torch.bool)\n",
    "for i in range(16):\n",
    "    prev_state[i, 0] = np.random.binomial(n=1, p=0.5)"
   ]
  },
  {
   "cell_type": "code",
   "execution_count": 317,
   "metadata": {},
   "outputs": [],
   "source": [
    "hn = torch.rand(1, 16, 32)"
   ]
  },
  {
   "cell_type": "code",
   "execution_count": 323,
   "metadata": {},
   "outputs": [],
   "source": [
    "hn[0, prev_state.squeeze(1), :] = 0"
   ]
  },
  {
   "cell_type": "code",
   "execution_count": 326,
   "metadata": {},
   "outputs": [
    {
     "data": {
      "text/plain": [
       "tensor([0., 0., 0., 0., 0., 0., 0., 0., 0., 0., 0., 0., 0., 0., 0., 0., 0., 0., 0., 0., 0., 0., 0., 0.,\n",
       "        0., 0., 0., 0., 0., 0., 0., 0.])"
      ]
     },
     "execution_count": 326,
     "metadata": {},
     "output_type": "execute_result"
    }
   ],
   "source": [
    "hn[0,0,:]"
   ]
  },
  {
   "cell_type": "code",
   "execution_count": 330,
   "metadata": {},
   "outputs": [
    {
     "data": {
      "text/plain": [
       "tensor([[False],\n",
       "        [ True],\n",
       "        [False],\n",
       "        [False],\n",
       "        [False],\n",
       "        [False],\n",
       "        [False],\n",
       "        [ True],\n",
       "        [ True],\n",
       "        [ True],\n",
       "        [ True],\n",
       "        [False],\n",
       "        [ True],\n",
       "        [ True],\n",
       "        [False],\n",
       "        [ True]])"
      ]
     },
     "execution_count": 330,
     "metadata": {},
     "output_type": "execute_result"
    }
   ],
   "source": [
    "torch.logical_not(prev_state)"
   ]
  },
  {
   "cell_type": "code",
   "execution_count": 336,
   "metadata": {},
   "outputs": [],
   "source": []
  },
  {
   "cell_type": "code",
   "execution_count": 337,
   "metadata": {},
   "outputs": [
    {
     "data": {
      "text/plain": [
       "array([-0.03587684, -0.03410754,  0.01189814,  0.00200269])"
      ]
     },
     "execution_count": 337,
     "metadata": {},
     "output_type": "execute_result"
    }
   ],
   "source": []
  },
  {
   "cell_type": "code",
   "execution_count": 343,
   "metadata": {},
   "outputs": [
    {
     "name": "stdout",
     "output_type": "stream",
     "text": [
      "8\n",
      "[ 0.16927955  1.77576953 -0.24055599 -2.80429097]\n",
      "16\n",
      "[ 0.06704088  1.54581166 -0.21277598 -2.56989173]\n",
      "25\n",
      "[ 0.15901013  1.74361873 -0.22855912 -2.79840056]\n",
      "35\n",
      "[ 0.19894737  1.94736322 -0.21946133 -2.97884809]\n",
      "44\n",
      "[ 0.09704584  1.76173197 -0.24635658 -2.86659514]\n",
      "54\n",
      "[ 0.14127871  1.998918   -0.2146721  -2.9805171 ]\n",
      "63\n",
      "[ 0.14988865  1.77636818 -0.22454883 -2.80868439]\n",
      "73\n",
      "[ 0.20888934  1.9390127  -0.21817536 -2.99627614]\n",
      "82\n",
      "[ 0.17824009  1.73757791 -0.2232052  -2.81098757]\n",
      "92\n",
      "[ 0.15609591  1.97811273 -0.22621691 -3.01417999]\n",
      "101\n",
      "[ 0.10704379  1.77330509 -0.25256855 -2.85539394]\n",
      "110\n",
      "[ 0.14873064  1.72538509 -0.25905524 -2.89337132]\n",
      "119\n",
      "[ 0.10381458  1.74486331 -0.2273765  -2.77223515]\n",
      "129\n",
      "[ 0.15396771  1.94965583 -0.23940368 -3.04990413]\n",
      "138\n",
      "[ 0.10628405  1.73487182 -0.24729505 -2.84932096]\n",
      "148\n",
      "[ 0.19655252  1.93603939 -0.25165039 -3.05892511]\n"
     ]
    }
   ],
   "source": [
    "import gym\n",
    "env = gym.make(\"CartPole-v0\")\n",
    "env.reset()\n",
    "for i in range(150):\n",
    "    a, r, d, _ = env.step(1)\n",
    "    if d == True:\n",
    "        env.reset()\n",
    "        print(i)\n",
    "        print(a)"
   ]
  },
  {
   "cell_type": "code",
   "execution_count": 344,
   "metadata": {},
   "outputs": [
    {
     "data": {
      "text/plain": [
       "0.8377280415990496"
      ]
     },
     "execution_count": 344,
     "metadata": {},
     "output_type": "execute_result"
    }
   ],
   "source": [
    "np.random.rand()"
   ]
  },
  {
   "cell_type": "code",
   "execution_count": 345,
   "metadata": {},
   "outputs": [],
   "source": [
    "layer = torch.nn.GRU(input_size=3, hidden_size=32, num_layers=1, batch_first=True)"
   ]
  },
  {
   "cell_type": "code",
   "execution_count": 347,
   "metadata": {},
   "outputs": [],
   "source": [
    "t = torch.rand(15, 10, 3)"
   ]
  },
  {
   "cell_type": "code",
   "execution_count": 375,
   "metadata": {},
   "outputs": [],
   "source": [
    "#ended = torch.zeros(32, dtype=torch.bool)\n",
    "done = torch.zeros((32, 1), dtype=torch.bool)\n",
    "done[3] = True\n",
    "done[6] = True\n",
    "done[10] = True\n",
    "done[15] = True"
   ]
  },
  {
   "cell_type": "code",
   "execution_count": 368,
   "metadata": {},
   "outputs": [
    {
     "data": {
      "text/plain": [
       "tensor([False, False, False, False, False, False, False, False, False, False,\n",
       "        False, False, False, False, False, False, False, False, False, False,\n",
       "        False, False, False, False, False, False, False, False, False, False,\n",
       "        False, False])"
      ]
     },
     "execution_count": 368,
     "metadata": {},
     "output_type": "execute_result"
    }
   ],
   "source": [
    "ended = (~torch.eq(ended, done.squeeze(1))) & (~torch.eq(ended, done.squeeze(1)))\n",
    "ended"
   ]
  },
  {
   "cell_type": "code",
   "execution_count": 376,
   "metadata": {},
   "outputs": [],
   "source": [
    "ended = ended | done.squeeze(1)"
   ]
  },
  {
   "cell_type": "code",
   "execution_count": 377,
   "metadata": {},
   "outputs": [
    {
     "data": {
      "text/plain": [
       "tensor([True, True, True, True, True, True, True, True, True, True, True, True,\n",
       "        True, True, True, True, True, True, True, True, True, True, True, True,\n",
       "        True, True, True, True, True, True, True, True])"
      ]
     },
     "execution_count": 377,
     "metadata": {},
     "output_type": "execute_result"
    }
   ],
   "source": [
    "ended"
   ]
  },
  {
   "cell_type": "code",
   "execution_count": 423,
   "metadata": {},
   "outputs": [
    {
     "data": {
      "text/plain": [
       "[<matplotlib.lines.Line2D at 0x1a7373df088>]"
      ]
     },
     "execution_count": 423,
     "metadata": {},
     "output_type": "execute_result"
    },
    {
     "data": {
      "image/png": "[encoded data removed]",
      "text/plain": [
       "<Figure size 432x288 with 1 Axes>"
      ]
     },
     "metadata": {
      "needs_background": "light"
     },
     "output_type": "display_data"
    }
   ],
   "source": [
    "x = np.arange(100)\n",
    "min_friction = 0.065\n",
    "max_friction = 0.196\n",
    "\n",
    "f = 0.1\n",
    "a = 0.0655\n",
    "offset = 0.14\n",
    "a=0.05\n",
    "y = a * np.sin(f * x) + offset\n",
    "\n",
    "plt.plot(x, y)"
   ]
  },
  {
   "cell_type": "code",
   "execution_count": 424,
   "metadata": {},
   "outputs": [
    {
     "data": {
      "text/plain": [
       "0.18997868015207528"
      ]
     },
     "execution_count": 424,
     "metadata": {},
     "output_type": "execute_result"
    }
   ],
   "source": [
    "y.max()"
   ]
  },
  {
   "cell_type": "code",
   "execution_count": 422,
   "metadata": {},
   "outputs": [
    {
     "data": {
      "text/plain": [
       "0.0655"
      ]
     },
     "execution_count": 422,
     "metadata": {},
     "output_type": "execute_result"
    }
   ],
   "source": []
  },
  {
   "cell_type": "code",
   "execution_count": 425,
   "metadata": {},
   "outputs": [
    {
     "data": {
      "text/plain": [
       "100.0"
      ]
     },
     "execution_count": 425,
     "metadata": {},
     "output_type": "execute_result"
    }
   ],
   "source": [
    "25000/250"
   ]
  },
  {
   "cell_type": "code",
   "execution_count": 426,
   "metadata": {},
   "outputs": [
    {
     "data": {
      "text/plain": [
       "50.0"
      ]
     },
     "execution_count": 426,
     "metadata": {},
     "output_type": "execute_result"
    }
   ],
   "source": [
    "12500/250"
   ]
  },
  {
   "cell_type": "code",
   "execution_count": 427,
   "metadata": {},
   "outputs": [
    {
     "data": {
      "text/plain": [
       "100.0"
      ]
     },
     "execution_count": 427,
     "metadata": {},
     "output_type": "execute_result"
    }
   ],
   "source": [
    "12500/125"
   ]
  },
  {
   "cell_type": "code",
   "execution_count": 442,
   "metadata": {},
   "outputs": [
    {
     "data": {
      "text/plain": [
       "(array([ 1.,  0.,  0.,  6.,  7., 11., 14.,  5.,  4.,  2.]),\n",
       " array([-0.99171233, -0.83254737, -0.67338241, -0.51421746, -0.3550525 ,\n",
       "        -0.19588754, -0.03672259,  0.12244237,  0.28160733,  0.44077229,\n",
       "         0.59993724]),\n",
       " <a list of 10 Patch objects>)"
      ]
     },
     "execution_count": 442,
     "metadata": {},
     "output_type": "execute_result"
    },
    {
     "data": {
      "image/png": "[encoded data removed]",
      "text/plain": [
       "<Figure size 432x288 with 1 Axes>"
      ]
     },
     "metadata": {
      "needs_background": "light"
     },
     "output_type": "display_data"
    }
   ],
   "source": [
    "t = np.random.normal(0, 0.3, size=50)\n",
    "plt.hist(t)"
   ]
  },
  {
   "cell_type": "code",
   "execution_count": 469,
   "metadata": {},
   "outputs": [
    {
     "data": {
      "text/plain": [
       "0.196"
      ]
     },
     "execution_count": 469,
     "metadata": {},
     "output_type": "execute_result"
    }
   ],
   "source": [
    "(0.196 - 0.065) / (1 - (-1)) * (1 - 1) + 0.196"
   ]
  },
  {
   "cell_type": "code",
   "execution_count": 465,
   "metadata": {},
   "outputs": [],
   "source": [
    "def _rescale_action(action, max_new, min_new):\n",
    "    if max_new is not None or min_new is not None:\n",
    "        return (max_new - min_new) / (1 - (-1)) * (action - 1) + max_new\n",
    "    else:\n",
    "        return action"
   ]
  },
  {
   "cell_type": "code",
   "execution_count": 466,
   "metadata": {},
   "outputs": [
    {
     "data": {
      "text/plain": [
       "0.196"
      ]
     },
     "execution_count": 466,
     "metadata": {},
     "output_type": "execute_result"
    }
   ],
   "source": [
    "_rescale_action(1, 0.196, 0.065)"
   ]
  },
  {
   "cell_type": "code",
   "execution_count": 476,
   "metadata": {},
   "outputs": [],
   "source": [
    "from gym import spaces"
   ]
  },
  {
   "cell_type": "code",
   "execution_count": 481,
   "metadata": {},
   "outputs": [],
   "source": [
    "\n",
    "high_act = np.array([\n",
    "    1,\n",
    "    np.pi,\n",
    "], dtype=np.float32)\n",
    "\n",
    "low_act = np.array([\n",
    "    0,\n",
    "    -np.pi\n",
    "], dtype=np.float32)\n",
    "\n",
    "action_space = spaces.Box(low=low_act, high=high_act)"
   ]
  },
  {
   "cell_type": "code",
   "execution_count": 479,
   "metadata": {},
   "outputs": [
    {
     "data": {
      "text/plain": [
       "Box(2,)"
      ]
     },
     "execution_count": 479,
     "metadata": {},
     "output_type": "execute_result"
    }
   ],
   "source": [
    "action_space"
   ]
  },
  {
   "cell_type": "code",
   "execution_count": 484,
   "metadata": {},
   "outputs": [
    {
     "data": {
      "text/plain": [
       "(0.08983764436808706, -1.282557881132746, 0.8915582422171423)"
      ]
     },
     "execution_count": 484,
     "metadata": {},
     "output_type": "execute_result"
    }
   ],
   "source": [
    "size = 10\n",
    "state_x = np.random.uniform(low=-size, high=size, size=1)[0]\n",
    "state_y = np.random.uniform(low=-size, high=size, size=1)[0]\n",
    "direction = np.random.uniform(low=0, high=np.pi, size=1)[0]\n",
    "(state_x, state_y, direction)"
   ]
  },
  {
   "cell_type": "code",
   "execution_count": null,
   "metadata": {},
   "outputs": [],
   "source": []
  },
  {
   "cell_type": "code",
   "execution_count": null,
   "metadata": {},
   "outputs": [],
   "source": []
  },
  {
   "cell_type": "code",
   "execution_count": null,
   "metadata": {},
   "outputs": [],
   "source": []
  },
  {
   "cell_type": "code",
   "execution_count": 3,
   "metadata": {},
   "outputs": [],
   "source": [
    "import numpy as np"
   ]
  },
  {
   "cell_type": "code",
   "execution_count": 2,
   "metadata": {},
   "outputs": [],
   "source": [
    "action = (1, 5)"
   ]
  },
  {
   "cell_type": "code",
   "execution_count": 4,
   "metadata": {},
   "outputs": [
    {
     "data": {
      "text/plain": [
       "0.22360679774997896"
      ]
     },
     "execution_count": 4,
     "metadata": {},
     "output_type": "execute_result"
    }
   ],
   "source": [
    "np.sqrt(0.05)"
   ]
  },
  {
   "cell_type": "code",
   "execution_count": 5,
   "metadata": {},
   "outputs": [],
   "source": [
    "import torch"
   ]
  },
  {
   "cell_type": "code",
   "execution_count": null,
   "metadata": {},
   "outputs": [],
   "source": []
  },
  {
   "cell_type": "code",
   "execution_count": 13,
   "metadata": {},
   "outputs": [],
   "source": [
    "min_v = torch.zeros(5)\n",
    "max_v = torch.ones(5)\n",
    "\n",
    "sample = torch.rand(3, 5)"
   ]
  },
  {
   "cell_type": "code",
   "execution_count": 14,
   "metadata": {},
   "outputs": [
    {
     "data": {
      "text/plain": [
       "tensor([[0.8644, 0.3661, 0.4337, 0.7655, 0.0068],\n",
       "        [0.9592, 0.3910, 0.7011, 0.2496, 0.7226],\n",
       "        [0.4816, 0.9849, 0.3614, 0.4741, 0.8491]])"
      ]
     },
     "execution_count": 14,
     "metadata": {},
     "output_type": "execute_result"
    }
   ],
   "source": [
    "sample"
   ]
  },
  {
   "cell_type": "code",
   "execution_count": 15,
   "metadata": {},
   "outputs": [
    {
     "data": {
      "text/plain": [
       "tensor([[0.1356, 0.6339, 0.5663, 0.2345, 0.9932],\n",
       "        [0.0408, 0.6090, 0.2989, 0.7504, 0.2774],\n",
       "        [0.5184, 0.0151, 0.6386, 0.5259, 0.1509]])"
      ]
     },
     "execution_count": 15,
     "metadata": {},
     "output_type": "execute_result"
    }
   ],
   "source": [
    "(min_v - max_v) * sample + max_v"
   ]
  },
  {
   "cell_type": "code",
   "execution_count": 254,
   "metadata": {},
   "outputs": [],
   "source": [
    "import torch\n",
    "\n",
    "from task.task_generator import TaskGenerator\n",
    "\n",
    "\n",
    "class GridWorldTaskGenerator(TaskGenerator):\n",
    "\n",
    "    def __init__(self, size, goal_radius, charge_forward_min, charge_forward_max,\n",
    "                 charge_rotation_min, charge_rotation_max, prior_goal_std_min,\n",
    "                 prior_goal_std_max, prior_charge_std_min, prior_charge_std_max):\n",
    "        super(GridWorldTaskGenerator, self).__init__()\n",
    "\n",
    "        self.latent_dim = 5\n",
    "\n",
    "        # Fixed env setting\n",
    "        self.size = size\n",
    "        self.goal_radius = goal_radius\n",
    "\n",
    "        # Env latent space\n",
    "        goal_max = size / 2\n",
    "        goal_min = -size / 2\n",
    "\n",
    "        self.latent_min_mean = torch.tensor([goal_min, goal_min, charge_forward_min,\n",
    "                                             charge_rotation_min, charge_rotation_min], dtype=torch.float32)\n",
    "        self.latent_max_mean = torch.tensor([goal_max, goal_max, charge_forward_max,\n",
    "                                             charge_rotation_max, charge_rotation_max], dtype=torch.float32)\n",
    "        self.latent_min_std = torch.tensor([prior_goal_std_min, prior_goal_std_min, prior_charge_std_min,\n",
    "                                            prior_charge_std_min, prior_charge_std_max], dtype=torch.float32)\n",
    "        self.latent_max_std = torch.tensor([prior_goal_std_max, prior_goal_std_max, prior_charge_std_max,\n",
    "                                            prior_charge_std_max, prior_charge_std_max], dtype=torch.float32)\n",
    "\n",
    "    def create_task_family(self, n_tasks, n_batches=1, test_perc=0, batch_size=160):\n",
    "        raise NotImplemented\n",
    "\n",
    "    def sample_task_from_prior(self, prior):\n",
    "        ok = True\n",
    "        while ok:\n",
    "            mu = prior[0].clone().detach()\n",
    "            var = prior[1].clone().detach()\n",
    "\n",
    "            task_param = torch.normal(mu, var)\n",
    "\n",
    "            if torch.sum(task_param > self.latent_max_mean) + torch.sum(task_param < self.latent_min_mean) == 0:\n",
    "                ok = False\n",
    "\n",
    "        envs_kwargs = {'size': self.size,\n",
    "                       'goal_x': task_param[0].item(),\n",
    "                       'goal_y': task_param[1].item(),\n",
    "                       'goal_radius': self.goal_radius,\n",
    "                       'charge_forward': task_param[2].item(),\n",
    "                       'charge_left': task_param[3].item(),\n",
    "                       'charge_right': task_param[4].item()}\n",
    "\n",
    "        return envs_kwargs\n",
    "\n",
    "    def sample_pair_tasks(self, num_p):\n",
    "        mu = (self.latent_min_mean - self.latent_max_mean) * torch.rand(num_p, self.latent_dim) + self.latent_max_mean\n",
    "        std = (self.latent_min_std - self.latent_max_std) * torch.rand(num_p, self.latent_dim) + self.latent_max_std\n",
    "        new_tasks = torch.normal(mu, std).reshape(num_p, self.latent_dim)\n",
    "        not_ok_task = torch.any(new_tasks > self.latent_max_mean, 1) | torch.any(new_tasks < self.latent_min_mean, 1)\n",
    "\n",
    "        while torch.sum(not_ok_task) != 0:\n",
    "            temp_new_tasks = torch.normal(mu, std).reshape(num_p, self.latent_dim)\n",
    "\n",
    "            new_tasks[not_ok_task, :] = temp_new_tasks[not_ok_task]\n",
    "            not_ok_task = (\n",
    "                        torch.any(new_tasks > self.latent_max_mean, 1) | torch.any(new_tasks < self.latent_min_mean, 1))\n",
    "\n",
    "        prior = [torch.tensor([mu[i].tolist(), std[i].tolist()]) for i in range(1)]\n",
    "\n",
    "        envs_kwargs = [{'size': self.size,\n",
    "                        'goal_x': new_tasks[i][0].item(),\n",
    "                        'goal_y': new_tasks[i][1].item(),\n",
    "                        'goal_radius': self.goal_radius,\n",
    "                        'charge_forward': new_tasks[i][2].item(),\n",
    "                        'charge_left': new_tasks[i][3].item(),\n",
    "                        'charge_right': new_tasks[i][4].item()}\n",
    "                       for i in range(num_p)]\n",
    "\n",
    "        return envs_kwargs, None, prior, new_tasks\n"
   ]
  },
  {
   "cell_type": "code",
   "execution_count": null,
   "metadata": {},
   "outputs": [],
   "source": []
  },
  {
   "cell_type": "code",
   "execution_count": 255,
   "metadata": {},
   "outputs": [],
   "source": [
    "task_gen = GridWorldTaskGenerator(size=8,\n",
    "                                      goal_radius=0.2, \n",
    "                                      charge_forward_min=0.5, \n",
    "                                      charge_forward_max=1,\n",
    "                                      charge_rotation_min=0.2, \n",
    "                                      charge_rotation_max=1, \n",
    "                                      prior_goal_std_min=0.1,\n",
    "                                      prior_goal_std_max=2,\n",
    "                                      prior_charge_std_min=0.01,\n",
    "                                      prior_charge_std_max=0.1)"
   ]
  },
  {
   "cell_type": "code",
   "execution_count": 256,
   "metadata": {},
   "outputs": [],
   "source": [
    "p = task_gen.sample_pair_tasks(1)[2]"
   ]
  },
  {
   "cell_type": "code",
   "execution_count": 257,
   "metadata": {
    "scrolled": true
   },
   "outputs": [
    {
     "data": {
      "text/plain": [
       "{'size': 8,\n",
       " 'goal_x': 0.39852774143218994,\n",
       " 'goal_y': -1.3080995082855225,\n",
       " 'goal_radius': 0.2,\n",
       " 'charge_forward': 0.8743904232978821,\n",
       " 'charge_left': 0.48559799790382385,\n",
       " 'charge_right': 0.4825255572795868}"
      ]
     },
     "execution_count": 257,
     "metadata": {},
     "output_type": "execute_result"
    }
   ],
   "source": [
    "task_gen.sample_task_from_prior(p[0])"
   ]
  },
  {
   "cell_type": "code",
   "execution_count": 1,
   "metadata": {},
   "outputs": [],
   "source": [
    "import gym\n",
    "import gym_sin\n",
    "import numpy as np"
   ]
  },
  {
   "cell_type": "code",
   "execution_count": 25,
   "metadata": {},
   "outputs": [],
   "source": [
    "env = gym.make(\"navigation-v0\", goal_theta=-1, signals_dim=0, mean_x_vec=np.array([]), mean_y_vec=np.array([]))"
   ]
  },
  {
   "cell_type": "code",
   "execution_count": 26,
   "metadata": {},
   "outputs": [
    {
     "data": {
      "text/plain": [
       "array([[0, 0]])"
      ]
     },
     "execution_count": 26,
     "metadata": {},
     "output_type": "execute_result"
    }
   ],
   "source": [
    "env.reset()"
   ]
  },
  {
   "cell_type": "code",
   "execution_count": 39,
   "metadata": {},
   "outputs": [
    {
     "data": {
      "text/plain": [
       "(array([[0.90364917, 0.        ]]), 10, True, {})"
      ]
     },
     "execution_count": 39,
     "metadata": {},
     "output_type": "execute_result"
    }
   ],
   "source": [
    "env.step([1, -1])"
   ]
  },
  {
   "cell_type": "code",
   "execution_count": 14,
   "metadata": {},
   "outputs": [
    {
     "data": {
      "text/plain": [
       "0.0"
      ]
     },
     "execution_count": 14,
     "metadata": {},
     "output_type": "execute_result"
    }
   ],
   "source": [
    "env.x_balance_lvl"
   ]
  },
  {
   "cell_type": "code",
   "execution_count": 15,
   "metadata": {},
   "outputs": [
    {
     "data": {
      "text/plain": [
       "1.042801200900255"
      ]
     },
     "execution_count": 15,
     "metadata": {},
     "output_type": "execute_result"
    }
   ],
   "source": [
    "np.array([env.state])[0,0]"
   ]
  },
  {
   "cell_type": "markdown",
   "metadata": {},
   "source": [
    "# Check policy"
   ]
  },
  {
   "cell_type": "code",
   "execution_count": 1,
   "metadata": {},
   "outputs": [],
   "source": [
    "import numpy as np\n",
    "from gym import spaces\n",
    "import torch\n",
    "import os\n",
    "from learner.ours import OursAgent\n",
    "from task.gridworld_task_generator import GridWorldTaskGenerator\n",
    "import gym_sin\n",
    "import matplotlib.pyplot as plt\n",
    "\n",
    "size = 8\n",
    "goal_radius = 0.5\n",
    "prior_goal_std_min = 0.001\n",
    "prior_goal_std_max = 0.1\n",
    "prior_charge_std_min = 0.001\n",
    "prior_charge_std_max = 0.1\n",
    "latent_dim = 5\n",
    "\n",
    "task_generator = GridWorldTaskGenerator(size=size,\n",
    "                                            goal_radius=goal_radius,\n",
    "                                            prior_goal_std_min=prior_goal_std_min,\n",
    "                                            prior_goal_std_max=prior_goal_std_max,\n",
    "                                            prior_charge_std_min=prior_charge_std_min,\n",
    "                                            prior_charge_std_max=prior_charge_std_max)"
   ]
  },
  {
   "cell_type": "code",
   "execution_count": 2,
   "metadata": {},
   "outputs": [
    {
     "name": "stdout",
     "output_type": "stream",
     "text": [
      "Evaluation...\n",
      "Evaluation using 512 tasks. Mean reward: -24.832283673828126\n"
     ]
    }
   ],
   "source": [
    "f = \"../result/gridwolrdv0/temp/\"\n",
    "env_name=\"gridworld-v0\"\n",
    "seed = 0\n",
    "log_dir = \".\"\n",
    "use_env_obs = True\n",
    "\n",
    "high_act = np.array([\n",
    "        1,\n",
    "        np.pi / 2,\n",
    "    ], dtype=np.float32)\n",
    "\n",
    "low_act = np.array([\n",
    "        0,\n",
    "        -np.pi / 2\n",
    "    ], dtype=np.float32)\n",
    "\n",
    "action_space = spaces.Box(low=low_act, high=high_act)\n",
    "\n",
    "res_list = []\n",
    "\n",
    "model_list = []\n",
    "vi_list = []\n",
    "dirs_containing_res = os.listdir(f)\n",
    "\n",
    "for d in dirs_containing_res:\n",
    "    model_list.append(torch.load(f + d + \"/agent_ac\"))\n",
    "    vi_list.append(torch.load(f + d + \"/agent_vi\"))\n",
    "\n",
    "for model, vi in zip(model_list, vi_list):\n",
    "    agent = OursAgent(action_space=action_space, device=\"cpu\", gamma=0.99,\n",
    "                          num_steps=30, num_processes=32,\n",
    "                          clip_param=0.2, ppo_epoch=4,\n",
    "                          num_mini_batch=8,\n",
    "                          value_loss_coef=0.5,\n",
    "                          entropy_coef=0,\n",
    "                          lr=0.00005,\n",
    "                          eps=1e-6, max_grad_norm=0.5,\n",
    "                          use_linear_lr_decay=False,\n",
    "                          use_gae=False,\n",
    "                          gae_lambda=0.95,\n",
    "                          use_proper_time_limits=False,\n",
    "                          obs_shape=(13, ),\n",
    "                          latent_dim=5,\n",
    "                          recurrent_policy=False,\n",
    "                          hidden_size=16,\n",
    "                          use_elu=True,\n",
    "                          variational_model=None,\n",
    "                          vae_optim=None,\n",
    "                          rescale_obs=False,\n",
    "                          max_old=None,\n",
    "                          min_old=None,\n",
    "                          vae_min_seq=1,\n",
    "                          vae_max_seq=30,\n",
    "                          max_action=None,\n",
    "                          min_action=None,\n",
    "                          max_sigma=None,\n",
    "                          use_decay_kld=True,\n",
    "                          decay_kld_rate=1,\n",
    "                          env_dim=3,\n",
    "                          action_dim=2\n",
    "                          )\n",
    "\n",
    "    agent.actor_critic = model\n",
    "    agent.vae = vi\n",
    "    \n",
    "    agent.evaluate_debug(512, task_generator,\".\", 0,True,'gridworld-v0')"
   ]
  },
  {
   "cell_type": "code",
   "execution_count": 3,
   "metadata": {},
   "outputs": [
    {
     "name": "stdout",
     "output_type": "stream",
     "text": [
      "Evaluation...\n",
      "Evaluation using 2048 tasks. Mean reward: -24.156289963378907\n"
     ]
    }
   ],
   "source": [
    "_, infos, bad_goals  =agent.evaluate_debug(2048, task_generator,\".\", 0,True,'gridworld-v0')"
   ]
  },
  {
   "cell_type": "code",
   "execution_count": 4,
   "metadata": {},
   "outputs": [],
   "source": [
    "l_list = [elem['l'] for elem in infos]\n",
    "r_list = [elem['r'] for elem in infos]"
   ]
  },
  {
   "cell_type": "code",
   "execution_count": 5,
   "metadata": {},
   "outputs": [
    {
     "data": {
      "text/plain": [
       "(array([347., 568., 395., 236.,  63.,  78.,  34.,  39.,  28., 260.]),\n",
       " array([ 2. ,  4.8,  7.6, 10.4, 13.2, 16. , 18.8, 21.6, 24.4, 27.2, 30. ]),\n",
       " <a list of 10 Patch objects>)"
      ]
     },
     "execution_count": 5,
     "metadata": {},
     "output_type": "execute_result"
    },
    {
     "data": {
      "image/png": "[encoded data removed]",
      "text/plain": [
       "<Figure size 432x288 with 1 Axes>"
      ]
     },
     "metadata": {
      "needs_background": "light"
     },
     "output_type": "display_data"
    }
   ],
   "source": [
    "t = np.array(l_list)\n",
    "plt.hist(t)"
   ]
  },
  {
   "cell_type": "code",
   "execution_count": 6,
   "metadata": {},
   "outputs": [
    {
     "data": {
      "text/plain": [
       "(array([  1.,   1.,   5.,  10.,  42., 135., 323., 345., 564., 622.]),\n",
       " array([-118.383726 , -106.6415541,  -94.8993822,  -83.1572103,\n",
       "         -71.4150384,  -59.6728665,  -47.9306946,  -36.1885227,\n",
       "         -24.4463508,  -12.7041789,   -0.962007 ]),\n",
       " <a list of 10 Patch objects>)"
      ]
     },
     "execution_count": 6,
     "metadata": {},
     "output_type": "execute_result"
    },
    {
     "data": {
      "image/png": "[encoded data removed]",
      "text/plain": [
       "<Figure size 432x288 with 1 Axes>"
      ]
     },
     "metadata": {
      "needs_background": "light"
     },
     "output_type": "display_data"
    }
   ],
   "source": [
    "t = np.array(r_list)\n",
    "plt.hist(t)"
   ]
  },
  {
   "cell_type": "code",
   "execution_count": 7,
   "metadata": {},
   "outputs": [],
   "source": [
    "joint = np.array([r_list, l_list])"
   ]
  },
  {
   "cell_type": "code",
   "execution_count": 8,
   "metadata": {},
   "outputs": [
    {
     "data": {
      "text/plain": [
       "(array([[  0.,   0.,   0.,   0.,   0.,   0.,   0.,   0.,   0.,   1.],\n",
       "        [  0.,   0.,   0.,   0.,   0.,   0.,   0.,   0.,   0.,   1.],\n",
       "        [  0.,   0.,   0.,   0.,   0.,   1.,   0.,   2.,   0.,   2.],\n",
       "        [  0.,   0.,   0.,   0.,   3.,   2.,   0.,   1.,   0.,   4.],\n",
       "        [  0.,   0.,   0.,   8.,   9.,   0.,   4.,   1.,   2.,  18.],\n",
       "        [  0.,   0.,   0.,  59.,   2.,   9.,   7.,   2.,   8.,  48.],\n",
       "        [  0.,   0.,  44.,  62.,   7.,  22.,   1.,  16.,  10., 161.],\n",
       "        [  0.,   0., 193.,  28.,  21.,  34.,  19.,  17.,   8.,  25.],\n",
       "        [  0., 312., 139.,  79.,  21.,  10.,   3.,   0.,   0.,   0.],\n",
       "        [347., 256.,  19.,   0.,   0.,   0.,   0.,   0.,   0.,   0.]]),\n",
       " array([-118.383726 , -106.6415541,  -94.8993822,  -83.1572103,\n",
       "         -71.4150384,  -59.6728665,  -47.9306946,  -36.1885227,\n",
       "         -24.4463508,  -12.7041789,   -0.962007 ]),\n",
       " array([ 2. ,  4.8,  7.6, 10.4, 13.2, 16. , 18.8, 21.6, 24.4, 27.2, 30. ]),\n",
       " <matplotlib.collections.QuadMesh at 0x21cda2758c8>)"
      ]
     },
     "execution_count": 8,
     "metadata": {},
     "output_type": "execute_result"
    },
    {
     "data": {
      "image/png": "[encoded data removed]",
      "text/plain": [
       "<Figure size 432x288 with 1 Axes>"
      ]
     },
     "metadata": {
      "needs_background": "light"
     },
     "output_type": "display_data"
    }
   ],
   "source": [
    "plt.hist2d(joint[0], joint[1]) "
   ]
  },
  {
   "cell_type": "code",
   "execution_count": 11,
   "metadata": {},
   "outputs": [],
   "source": [
    "x_list = [elem['goal_x'] for elem in bad_goals]\n",
    "y_list = [elem['goal_y'] for elem in bad_goals]"
   ]
  },
  {
   "cell_type": "code",
   "execution_count": 13,
   "metadata": {},
   "outputs": [
    {
     "data": {
      "text/plain": [
       "(array([30., 25., 19., 17., 21., 31., 23., 32., 24., 28.]),\n",
       " array([-0.90633309, -0.72945936, -0.55258563, -0.37571189, -0.19883816,\n",
       "        -0.02196443,  0.1549093 ,  0.33178303,  0.50865676,  0.6855305 ,\n",
       "         0.86240423]),\n",
       " <a list of 10 Patch objects>)"
      ]
     },
     "execution_count": 13,
     "metadata": {},
     "output_type": "execute_result"
    },
    {
     "data": {
      "image/png": "[encoded data removed]",
      "text/plain": [
       "<Figure size 432x288 with 1 Axes>"
      ]
     },
     "metadata": {
      "needs_background": "light"
     },
     "output_type": "display_data"
    }
   ],
   "source": [
    "plt.hist(x_list)"
   ]
  },
  {
   "cell_type": "code",
   "execution_count": 14,
   "metadata": {},
   "outputs": [
    {
     "data": {
      "text/plain": [
       "(array([22., 28., 18., 24., 28., 22., 18., 30., 31., 29.]),\n",
       " array([-0.87750477, -0.70116133, -0.5248179 , -0.34847446, -0.17213103,\n",
       "         0.00421241,  0.18055584,  0.35689928,  0.53324271,  0.70958615,\n",
       "         0.88592958]),\n",
       " <a list of 10 Patch objects>)"
      ]
     },
     "execution_count": 14,
     "metadata": {},
     "output_type": "execute_result"
    },
    {
     "data": {
      "image/png": "[encoded data removed]",
      "text/plain": [
       "<Figure size 432x288 with 1 Axes>"
      ]
     },
     "metadata": {
      "needs_background": "light"
     },
     "output_type": "display_data"
    }
   ],
   "source": [
    "plt.hist(y_list)"
   ]
  },
  {
   "cell_type": "code",
   "execution_count": 15,
   "metadata": {},
   "outputs": [
    {
     "data": {
      "text/plain": [
       "(array([[3., 2., 3., 4., 2., 4., 1., 4., 2., 5.],\n",
       "        [2., 1., 5., 0., 5., 1., 2., 3., 5., 1.],\n",
       "        [2., 1., 2., 2., 3., 2., 2., 2., 0., 3.],\n",
       "        [0., 3., 1., 4., 0., 1., 2., 3., 1., 2.],\n",
       "        [2., 4., 1., 2., 1., 3., 2., 4., 2., 0.],\n",
       "        [1., 5., 1., 2., 7., 2., 2., 2., 5., 4.],\n",
       "        [4., 2., 0., 3., 3., 3., 1., 2., 1., 4.],\n",
       "        [1., 5., 3., 1., 5., 3., 3., 6., 2., 3.],\n",
       "        [1., 2., 1., 2., 0., 0., 1., 3., 9., 5.],\n",
       "        [6., 3., 1., 4., 2., 3., 2., 1., 4., 2.]]),\n",
       " array([-0.90633309, -0.72945936, -0.55258563, -0.37571189, -0.19883816,\n",
       "        -0.02196443,  0.1549093 ,  0.33178303,  0.50865676,  0.6855305 ,\n",
       "         0.86240423]),\n",
       " array([-0.87750477, -0.70116133, -0.5248179 , -0.34847446, -0.17213103,\n",
       "         0.00421241,  0.18055584,  0.35689928,  0.53324271,  0.70958615,\n",
       "         0.88592958]),\n",
       " <matplotlib.collections.QuadMesh at 0x21cda8a1588>)"
      ]
     },
     "execution_count": 15,
     "metadata": {},
     "output_type": "execute_result"
    },
    {
     "data": {
      "image/png": "[encoded data removed]",
      "text/plain": [
       "<Figure size 432x288 with 1 Axes>"
      ]
     },
     "metadata": {
      "needs_background": "light"
     },
     "output_type": "display_data"
    }
   ],
   "source": [
    "plt.hist2d(x_list, y_list)"
   ]
  },
  {
   "cell_type": "code",
   "execution_count": 20,
   "metadata": {},
   "outputs": [
    {
     "data": {
      "text/plain": [
       "11.33837890625"
      ]
     },
     "execution_count": 20,
     "metadata": {},
     "output_type": "execute_result"
    }
   ],
   "source": [
    "joint[1].mean()"
   ]
  },
  {
   "cell_type": "code",
   "execution_count": 21,
   "metadata": {},
   "outputs": [
    {
     "data": {
      "text/plain": [
       "-24.156289963378907"
      ]
     },
     "execution_count": 21,
     "metadata": {},
     "output_type": "execute_result"
    }
   ],
   "source": [
    "joint[0].mean()"
   ]
  },
  {
   "cell_type": "code",
   "execution_count": null,
   "metadata": {},
   "outputs": [],
   "source": []
  },
  {
   "cell_type": "code",
   "execution_count": null,
   "metadata": {},
   "outputs": [],
   "source": []
  },
  {
   "cell_type": "code",
   "execution_count": null,
   "metadata": {},
   "outputs": [],
   "source": []
  },
  {
   "cell_type": "code",
   "execution_count": 2,
   "metadata": {},
   "outputs": [],
   "source": [
    "import numpy as np"
   ]
  },
  {
   "cell_type": "code",
   "execution_count": 64,
   "metadata": {},
   "outputs": [
    {
     "data": {
      "text/plain": [
       "array([[0.00033546]])"
      ]
     },
     "execution_count": 64,
     "metadata": {},
     "output_type": "execute_result"
    }
   ],
   "source": [
    "cov = np.array([[0.5,0], [0, 0.5]])\n",
    "mean = np.array([[0, 0]])\n",
    "x = np.array([2,2])\n",
    "np.exp(-0.5 * np.dot(np.dot(mean - x, np.linalg.inv(cov)), (mean - x).transpose()))"
   ]
  },
  {
   "cell_type": "code",
   "execution_count": 54,
   "metadata": {},
   "outputs": [
    {
     "data": {
      "text/plain": [
       "array([[0.15915494]])"
      ]
     },
     "execution_count": 54,
     "metadata": {},
     "output_type": "execute_result"
    }
   ],
   "source": [
    "np.power(np.linalg.det(2 * np.pi * sigma), -0.5) * "
   ]
  },
  {
   "cell_type": "code",
   "execution_count": 55,
   "metadata": {},
   "outputs": [
    {
     "data": {
      "text/plain": [
       "array([[1.]])"
      ]
     },
     "execution_count": 55,
     "metadata": {},
     "output_type": "execute_result"
    }
   ],
   "source": [
    "np.exp(-0.5 * np.dot(np.dot(mean - x, np.linalg.inv(cov)), (mean - x).transpose()))"
   ]
  },
  {
   "cell_type": "code",
   "execution_count": 53,
   "metadata": {},
   "outputs": [
    {
     "data": {
      "text/plain": [
       "0.15915494309189535"
      ]
     },
     "execution_count": 53,
     "metadata": {},
     "output_type": "execute_result"
    }
   ],
   "source": [
    "from scipy.stats import multivariate_normal\n",
    "var = multivariate_normal(mean=[0,0], cov=[[1,0],[0,1]])\n",
    "var.pdf([0,0])"
   ]
  },
  {
   "cell_type": "code",
   "execution_count": 67,
   "metadata": {},
   "outputs": [
    {
     "data": {
      "text/plain": [
       "array([[1, 0],\n",
       "       [0, 1]])"
      ]
     },
     "execution_count": 67,
     "metadata": {},
     "output_type": "execute_result"
    }
   ],
   "source": [
    "np.diag([1,1])"
   ]
  },
  {
   "cell_type": "code",
   "execution_count": 14,
   "metadata": {},
   "outputs": [],
   "source": [
    "cov = np.eye(2)"
   ]
  },
  {
   "cell_type": "code",
   "execution_count": 15,
   "metadata": {},
   "outputs": [
    {
     "data": {
      "text/plain": [
       "(3, 1)"
      ]
     },
     "execution_count": 15,
     "metadata": {},
     "output_type": "execute_result"
    }
   ],
   "source": [
    "m1.shape"
   ]
  },
  {
   "cell_type": "code",
   "execution_count": 16,
   "metadata": {},
   "outputs": [],
   "source": [
    "m1 = np.expand_dims(np.array([1,2,3]), 1)\n",
    "m2 = np.expand_dims(np.array([1,2,3]), 1)\n",
    "m = np.concatenate([m1, m2], 1)"
   ]
  },
  {
   "cell_type": "code",
   "execution_count": 17,
   "metadata": {},
   "outputs": [],
   "source": [
    "s = np.array([3,3])"
   ]
  },
  {
   "cell_type": "code",
   "execution_count": 18,
   "metadata": {},
   "outputs": [
    {
     "data": {
      "text/plain": [
       "array([0.01831564, 0.36787944, 1.        ])"
      ]
     },
     "execution_count": 18,
     "metadata": {},
     "output_type": "execute_result"
    }
   ],
   "source": [
    "np.exp(-0.5 * np.dot(np.dot(m-s, np.linalg.inv(cov)), (m-s).transpose()).diagonal())"
   ]
  },
  {
   "cell_type": "code",
   "execution_count": 135,
   "metadata": {},
   "outputs": [
    {
     "data": {
      "text/plain": [
       "(1, 2, 4, 5, 6)"
      ]
     },
     "execution_count": 135,
     "metadata": {},
     "output_type": "execute_result"
    }
   ],
   "source": [
    "(1,2)+(4,5,6)"
   ]
  },
  {
   "cell_type": "code",
   "execution_count": 136,
   "metadata": {},
   "outputs": [],
   "source": [
    "t = np.array([11,22,33,44,55])"
   ]
  },
  {
   "cell_type": "code",
   "execution_count": 138,
   "metadata": {},
   "outputs": [
    {
     "data": {
      "text/plain": [
       "array([33, 44, 55])"
      ]
     },
     "execution_count": 138,
     "metadata": {},
     "output_type": "execute_result"
    }
   ],
   "source": [
    "t[2:]"
   ]
  },
  {
   "cell_type": "code",
   "execution_count": null,
   "metadata": {},
   "outputs": [],
   "source": []
  },
  {
   "cell_type": "code",
   "execution_count": 21,
   "metadata": {},
   "outputs": [],
   "source": [
    "import torch"
   ]
  },
  {
   "cell_type": "code",
   "execution_count": 23,
   "metadata": {},
   "outputs": [],
   "source": [
    "t = torch.tensor([4])"
   ]
  },
  {
   "cell_type": "code",
   "execution_count": 24,
   "metadata": {},
   "outputs": [
    {
     "data": {
      "text/plain": [
       "tensor([4, 4, 4, 4])"
      ]
     },
     "execution_count": 24,
     "metadata": {},
     "output_type": "execute_result"
    }
   ],
   "source": [
    "t.repeat(4)"
   ]
  },
  {
   "cell_type": "code",
   "execution_count": 34,
   "metadata": {},
   "outputs": [],
   "source": [
    "t = torch.arange(10) "
   ]
  },
  {
   "cell_type": "code",
   "execution_count": 35,
   "metadata": {},
   "outputs": [
    {
     "data": {
      "text/plain": [
       "tensor([0, 1, 2, 3, 4, 5, 6, 7, 8, 9])"
      ]
     },
     "execution_count": 35,
     "metadata": {},
     "output_type": "execute_result"
    }
   ],
   "source": [
    "t"
   ]
  },
  {
   "cell_type": "code",
   "execution_count": 37,
   "metadata": {},
   "outputs": [
    {
     "data": {
      "text/plain": [
       "array([2, 3], dtype=int64)"
      ]
     },
     "execution_count": 37,
     "metadata": {},
     "output_type": "execute_result"
    }
   ],
   "source": [
    "signals_dim=2\n",
    "t[2:4].numpy()"
   ]
  },
  {
   "cell_type": "code",
   "execution_count": null,
   "metadata": {},
   "outputs": [],
   "source": []
  },
  {
   "cell_type": "code",
   "execution_count": null,
   "metadata": {},
   "outputs": [],
   "source": []
  },
  {
   "cell_type": "code",
   "execution_count": 50,
   "metadata": {},
   "outputs": [],
   "source": [
    "import torch"
   ]
  },
  {
   "cell_type": "code",
   "execution_count": 51,
   "metadata": {},
   "outputs": [],
   "source": [
    "signals_dim = 2\n",
    "\n",
    "prior_goal_std_min = 0.00001\n",
    "prior_goal_std_max = 0.2\n",
    "prior_balance_std_min = 0.00001\n",
    "prior_balance_std_max = 0.2\n",
    "prior_signal_std_min = 0.0001\n",
    "prior_signal_std_max = 0.5\n",
    "\n",
    "\n",
    "latent_min_std = torch.tensor([prior_goal_std_min, prior_goal_std_min,\n",
    "                                            prior_balance_std_min, prior_balance_std_min], dtype=torch.float32)\n",
    "latent_min_std = torch.cat(\n",
    "    [latent_min_std, torch.tensor([prior_signal_std_min]).repeat(2 * signals_dim)])\n",
    "\n",
    "latent_max_std = torch.tensor([prior_goal_std_max, prior_goal_std_max,\n",
    "                                    prior_balance_std_max, prior_balance_std_max], dtype=torch.float32)\n",
    "latent_max_std = torch.cat(\n",
    "    [latent_max_std, torch.tensor([prior_signal_std_max]).repeat(2 * signals_dim)])\n"
   ]
  },
  {
   "cell_type": "code",
   "execution_count": 53,
   "metadata": {},
   "outputs": [],
   "source": [
    "size = 10\n",
    "goal_radius = 0.5"
   ]
  },
  {
   "cell_type": "code",
   "execution_count": 55,
   "metadata": {},
   "outputs": [],
   "source": [
    "from task.gridworld_task_generator import GridWorldTaskGenerator\n",
    "task_generator = GridWorldTaskGenerator(size=size,\n",
    "                                            goal_radius=goal_radius,\n",
    "                                            prior_goal_std_min=prior_goal_std_min,\n",
    "                                            prior_goal_std_max=prior_goal_std_max,\n",
    "                                            prior_balance_std_min=prior_balance_std_min,\n",
    "                                            prior_balance_std_max=prior_balance_std_max,\n",
    "                                            signals_dim=signals_dim,\n",
    "                                            prior_signal_std_min=prior_signal_std_min,\n",
    "                                            prior_signal_std_max=prior_signal_std_max)"
   ]
  },
  {
   "cell_type": "code",
   "execution_count": 59,
   "metadata": {},
   "outputs": [
    {
     "data": {
      "text/plain": [
       "([{'size': 10,\n",
       "   'goal_x': -0.6364010572433472,\n",
       "   'goal_y': -0.6827036142349243,\n",
       "   'goal_radius': 0.5,\n",
       "   'x_balance_lvl': 0.04351254552602768,\n",
       "   'y_balance_lvl': 0.5418527126312256,\n",
       "   'mean_x_vec': array([-0.5786819 ,  0.07139079], dtype=float32),\n",
       "   'mean_y_vec': array([-0.994364 , -0.2786163], dtype=float32),\n",
       "   'signals_dim': 2}],\n",
       " None,\n",
       " [tensor([[-0.6949, -0.9201,  0.0573,  0.5093, -0.6927,  0.2611, -0.9758, -0.8102],\n",
       "          [ 0.1743,  0.1297,  0.0140,  0.1220,  0.1379,  0.4484,  0.0277,  0.3019]])],\n",
       " tensor([[-0.6364, -0.6827,  0.0435,  0.5419, -0.5787,  0.0714, -0.9944, -0.2786]]))"
      ]
     },
     "execution_count": 59,
     "metadata": {},
     "output_type": "execute_result"
    }
   ],
   "source": [
    "task_generator.sample_pair_tasks(1)"
   ]
  },
  {
   "cell_type": "code",
   "execution_count": 63,
   "metadata": {},
   "outputs": [
    {
     "name": "stdout",
     "output_type": "stream",
     "text": [
      "tensor([-0.2869])\n",
      "tensor([-0.0708])\n",
      "tensor([0.8184])\n",
      "tensor([0.6415])\n",
      "tensor([0.6315])\n",
      "tensor([0.2777])\n",
      "tensor([-0.1405])\n",
      "tensor([-0.1458])\n",
      "tensor([-0.4533])\n",
      "tensor([-0.0048])\n",
      "tensor([-0.1887])\n",
      "tensor([0.8353])\n",
      "tensor([-0.4639])\n",
      "tensor([-0.6934])\n",
      "tensor([-0.9700])\n",
      "tensor([0.0010])\n",
      "tensor([-0.3788])\n",
      "tensor([0.2903])\n",
      "tensor([0.7979])\n",
      "tensor([-0.0114])\n",
      "tensor([0.0120])\n",
      "tensor([0.0991])\n",
      "tensor([-0.4967])\n",
      "tensor([0.2318])\n",
      "tensor([-0.2951])\n",
      "tensor([-0.0973])\n",
      "tensor([-0.4276])\n",
      "tensor([0.2559])\n",
      "tensor([0.3691])\n",
      "tensor([-0.1065])\n",
      "tensor([0.7708])\n",
      "tensor([0.7182])\n",
      "tensor([0.1141])\n",
      "tensor([-0.0304])\n",
      "tensor([-0.2667])\n",
      "tensor([0.5156])\n",
      "tensor([-0.7460])\n",
      "tensor([0.7554])\n",
      "tensor([0.3266])\n",
      "tensor([0.8536])\n",
      "tensor([0.4102])\n",
      "tensor([0.8829])\n",
      "tensor([0.8357])\n",
      "tensor([0.4531])\n",
      "tensor([-0.9757])\n",
      "tensor([-0.5309])\n",
      "tensor([0.7497])\n",
      "tensor([-0.5989])\n",
      "tensor([0.9455])\n",
      "tensor([-0.9520])\n",
      "tensor([0.8857])\n",
      "tensor([0.8343])\n",
      "tensor([-0.1366])\n",
      "tensor([0.8302])\n",
      "tensor([-0.9544])\n",
      "tensor([-0.1393])\n",
      "tensor([-0.7927])\n",
      "tensor([0.7117])\n",
      "tensor([-0.4128])\n",
      "tensor([-0.4648])\n",
      "tensor([-0.9714])\n",
      "tensor([0.1462])\n",
      "tensor([-0.7299])\n",
      "tensor([-0.5426])\n",
      "tensor([-0.9058])\n",
      "tensor([0.6821])\n",
      "tensor([0.8591])\n",
      "tensor([0.7928])\n",
      "tensor([-0.8589])\n",
      "tensor([-0.7527])\n",
      "tensor([0.9177])\n",
      "tensor([-0.8363])\n",
      "tensor([0.7663])\n",
      "tensor([0.6288])\n",
      "tensor([0.9417])\n",
      "tensor([-0.4434])\n",
      "tensor([-0.4538])\n",
      "tensor([-0.2982])\n",
      "tensor([-0.7116])\n",
      "tensor([0.5716])\n",
      "tensor([0.2189])\n",
      "tensor([-0.0609])\n",
      "tensor([0.5887])\n",
      "tensor([0.7699])\n",
      "tensor([0.3678])\n",
      "tensor([-0.7821])\n",
      "tensor([-0.5921])\n",
      "tensor([-0.1489])\n",
      "tensor([-0.2206])\n",
      "tensor([-0.8177])\n",
      "tensor([0.0020])\n",
      "tensor([0.8156])\n",
      "tensor([-0.8044])\n",
      "tensor([-0.2869])\n",
      "tensor([0.1620])\n",
      "tensor([-0.5446])\n",
      "tensor([0.6903])\n",
      "tensor([-0.1022])\n",
      "tensor([0.1750])\n",
      "tensor([0.1922])\n"
     ]
    }
   ],
   "source": [
    "for _ in range(100):\n",
    "    t = (-1 - 1) * torch.rand(1) + 1\n",
    "    print(t)"
   ]
  },
  {
   "cell_type": "code",
   "execution_count": 64,
   "metadata": {},
   "outputs": [],
   "source": [
    "t = np.array([1,2,3,4,5])"
   ]
  },
  {
   "cell_type": "code",
   "execution_count": 65,
   "metadata": {},
   "outputs": [
    {
     "ename": "ValueError",
     "evalue": "The truth value of an array with more than one element is ambiguous. Use a.any() or a.all()",
     "output_type": "error",
     "traceback": [
      "\u001b[1;31m---------------------------------------------------------------------------\u001b[0m",
      "\u001b[1;31mValueError\u001b[0m                                Traceback (most recent call last)",
      "\u001b[1;32m<ipython-input-65-1a17ff00bb87>\u001b[0m in \u001b[0;36m<module>\u001b[1;34m\u001b[0m\n\u001b[1;32m----> 1\u001b[1;33m \u001b[1;32massert\u001b[0m \u001b[0mnp\u001b[0m\u001b[1;33m.\u001b[0m\u001b[0mall\u001b[0m\u001b[1;33m(\u001b[0m\u001b[1;36m0\u001b[0m \u001b[1;33m<=\u001b[0m \u001b[0mt\u001b[0m \u001b[1;33m<=\u001b[0m \u001b[1;36m10\u001b[0m\u001b[1;33m)\u001b[0m\u001b[1;33m,\u001b[0m \u001b[1;34m\"Fail\"\u001b[0m\u001b[1;33m\u001b[0m\u001b[1;33m\u001b[0m\u001b[0m\n\u001b[0m",
      "\u001b[1;31mValueError\u001b[0m: The truth value of an array with more than one element is ambiguous. Use a.any() or a.all()"
     ]
    }
   ],
   "source": [
    "assert np.all(0 <= t <= 10), \"Fail\""
   ]
  },
  {
   "cell_type": "code",
   "execution_count": 67,
   "metadata": {},
   "outputs": [
    {
     "ename": "ValueError",
     "evalue": "The truth value of an array with more than one element is ambiguous. Use a.any() or a.all()",
     "output_type": "error",
     "traceback": [
      "\u001b[1;31m---------------------------------------------------------------------------\u001b[0m",
      "\u001b[1;31mValueError\u001b[0m                                Traceback (most recent call last)",
      "\u001b[1;32m<ipython-input-67-8e491dc2a636>\u001b[0m in \u001b[0;36m<module>\u001b[1;34m\u001b[0m\n\u001b[1;32m----> 1\u001b[1;33m \u001b[1;32massert\u001b[0m \u001b[0mnp\u001b[0m\u001b[1;33m.\u001b[0m\u001b[0mall\u001b[0m\u001b[1;33m(\u001b[0m\u001b[1;36m100\u001b[0m\u001b[1;33m>\u001b[0m\u001b[0mt\u001b[0m\u001b[1;33m>\u001b[0m\u001b[1;36m10\u001b[0m\u001b[1;33m)\u001b[0m\u001b[1;33m\u001b[0m\u001b[1;33m\u001b[0m\u001b[0m\n\u001b[0m",
      "\u001b[1;31mValueError\u001b[0m: The truth value of an array with more than one element is ambiguous. Use a.any() or a.all()"
     ]
    }
   ],
   "source": [
    "assert np.all(100>t>10)"
   ]
  },
  {
   "cell_type": "code",
   "execution_count": 74,
   "metadata": {},
   "outputs": [
    {
     "name": "stdout",
     "output_type": "stream",
     "text": [
      "X 7.0710678118654755 Y 7.0710678118654755\n"
     ]
    }
   ],
   "source": [
    "size = 10\n",
    "theta = np.pi / 4\n",
    "x = size * np.cos(theta)\n",
    "y = size * np.sin(theta)\n",
    "\n",
    "print(\"X {} Y {}\".format(x, y))"
   ]
  },
  {
   "cell_type": "code",
   "execution_count": 45,
   "metadata": {},
   "outputs": [
    {
     "data": {
      "text/plain": [
       "tensor([0., 1., 2., 3., 4., 5., 6., 7., 8., 9.])"
      ]
     },
     "execution_count": 45,
     "metadata": {},
     "output_type": "execute_result"
    }
   ],
   "source": [
    "import torch\n",
    "t = torch.arange(10, dtype=torch.float32)\n",
    "t"
   ]
  },
  {
   "cell_type": "code",
   "execution_count": 46,
   "metadata": {},
   "outputs": [
    {
     "data": {
      "text/plain": [
       "tensor([2.])"
      ]
     },
     "execution_count": 46,
     "metadata": {},
     "output_type": "execute_result"
    }
   ],
   "source": [
    "t[2:3]"
   ]
  },
  {
   "cell_type": "code",
   "execution_count": 47,
   "metadata": {},
   "outputs": [],
   "source": [
    "t[0] = float('nan')"
   ]
  },
  {
   "cell_type": "code",
   "execution_count": 48,
   "metadata": {},
   "outputs": [
    {
     "data": {
      "text/plain": [
       "tensor([nan, 1., 2., 3., 4., 5., 6., 7., 8., 9.])"
      ]
     },
     "execution_count": 48,
     "metadata": {},
     "output_type": "execute_result"
    }
   ],
   "source": [
    "t"
   ]
  },
  {
   "cell_type": "code",
   "execution_count": 51,
   "metadata": {},
   "outputs": [
    {
     "data": {
      "text/plain": [
       "tensor(True)"
      ]
     },
     "execution_count": 51,
     "metadata": {},
     "output_type": "execute_result"
    }
   ],
   "source": [
    "torch.isnan(t).any()"
   ]
  },
  {
   "cell_type": "code",
   "execution_count": 54,
   "metadata": {},
   "outputs": [
    {
     "data": {
      "text/plain": [
       "False"
      ]
     },
     "execution_count": 54,
     "metadata": {},
     "output_type": "execute_result"
    }
   ],
   "source": [
    "t[0].item() == float('nan')"
   ]
  },
  {
   "cell_type": "code",
   "execution_count": 58,
   "metadata": {},
   "outputs": [
    {
     "data": {
      "text/plain": [
       "False"
      ]
     },
     "execution_count": 58,
     "metadata": {},
     "output_type": "execute_result"
    }
   ],
   "source": [
    "t[0].item() == t[0].item()"
   ]
  },
  {
   "cell_type": "code",
   "execution_count": 59,
   "metadata": {},
   "outputs": [
    {
     "data": {
      "text/plain": [
       "True"
      ]
     },
     "execution_count": 59,
     "metadata": {},
     "output_type": "execute_result"
    }
   ],
   "source": [
    "t[1].item() == t[1].item()"
   ]
  },
  {
   "cell_type": "code",
   "execution_count": 60,
   "metadata": {},
   "outputs": [
    {
     "ename": "ZeroDivisionError",
     "evalue": "division by zero",
     "output_type": "error",
     "traceback": [
      "\u001b[1;31m---------------------------------------------------------------------------\u001b[0m",
      "\u001b[1;31mZeroDivisionError\u001b[0m                         Traceback (most recent call last)",
      "\u001b[1;32m<ipython-input-60-580a5669e7f6>\u001b[0m in \u001b[0;36m<module>\u001b[1;34m\u001b[0m\n\u001b[1;32m----> 1\u001b[1;33m \u001b[1;36m0\u001b[0m \u001b[1;33m/\u001b[0m \u001b[1;36m0\u001b[0m\u001b[1;33m\u001b[0m\u001b[1;33m\u001b[0m\u001b[0m\n\u001b[0m",
      "\u001b[1;31mZeroDivisionError\u001b[0m: division by zero"
     ]
    }
   ],
   "source": [
    "0 / 0"
   ]
  },
  {
   "cell_type": "code",
   "execution_count": 61,
   "metadata": {},
   "outputs": [
    {
     "data": {
      "text/plain": [
       "tensor([False, False, False, False, False, False, False, False, False, False])"
      ]
     },
     "execution_count": 61,
     "metadata": {},
     "output_type": "execute_result"
    }
   ],
   "source": [
    "torch.isinf(t)"
   ]
  },
  {
   "cell_type": "code",
   "execution_count": 62,
   "metadata": {},
   "outputs": [
    {
     "data": {
      "text/plain": [
       "tensor([nan, 1., 2., 3., 4., 5., 6., 7., 8., 9.])"
      ]
     },
     "execution_count": 62,
     "metadata": {},
     "output_type": "execute_result"
    }
   ],
   "source": [
    "t.abs()"
   ]
  },
  {
   "cell_type": "code",
   "execution_count": null,
   "metadata": {},
   "outputs": [],
   "source": []
  },
  {
   "cell_type": "code",
   "execution_count": 87,
   "metadata": {},
   "outputs": [],
   "source": [
    "l = torch.nn.GRU(input_size=15,hidden_size=10, num_layers=1)"
   ]
  },
  {
   "cell_type": "code",
   "execution_count": 90,
   "metadata": {},
   "outputs": [],
   "source": [
    "from inference.inference_network import InferenceNetwork\n",
    "inference_net = InferenceNetwork(10, 4)"
   ]
  },
  {
   "cell_type": "code",
   "execution_count": 107,
   "metadata": {},
   "outputs": [
    {
     "name": "stdout",
     "output_type": "stream",
     "text": [
      "tensor(0.1766, grad_fn=<MaxBackward1>)\n",
      "tensor(0.1767, grad_fn=<MaxBackward1>)\n",
      "tensor(0.1716, grad_fn=<MaxBackward1>)\n",
      "tensor(0.1760, grad_fn=<MaxBackward1>)\n",
      "tensor(0.1559, grad_fn=<MaxBackward1>)\n",
      "tensor(0.1451, grad_fn=<MaxBackward1>)\n",
      "tensor(0.2459, grad_fn=<MaxBackward1>)\n",
      "tensor(0.2292, grad_fn=<MaxBackward1>)\n",
      "tensor(0.2158, grad_fn=<MaxBackward1>)\n",
      "tensor(0.2327, grad_fn=<MaxBackward1>)\n"
     ]
    }
   ],
   "source": [
    "for p in inference_net.named_parameters():\n",
    "    print(p[1].max())"
   ]
  },
  {
   "cell_type": "code",
   "execution_count": 99,
   "metadata": {},
   "outputs": [],
   "source": [
    "p.name"
   ]
  },
  {
   "cell_type": "code",
   "execution_count": 111,
   "metadata": {},
   "outputs": [],
   "source": [
    "o = torch.optim.Adam(inference_net.parameters())"
   ]
  },
  {
   "cell_type": "code",
   "execution_count": 117,
   "metadata": {},
   "outputs": [
    {
     "name": "stdout",
     "output_type": "stream",
     "text": [
      "0.001\n"
     ]
    }
   ],
   "source": [
    "for param_group in o.param_groups:\n",
    "    print(param_group['lr'])"
   ]
  },
  {
   "cell_type": "code",
   "execution_count": null,
   "metadata": {},
   "outputs": [],
   "source": []
  },
  {
   "cell_type": "code",
   "execution_count": 212,
   "metadata": {},
   "outputs": [],
   "source": []
  },
  {
   "cell_type": "code",
   "execution_count": 239,
   "metadata": {},
   "outputs": [],
   "source": [
    "import torch\n",
    "import torch.nn.functional as F\n",
    "def temp(z, mu_hat, logvar_hat, mu_prior, logvar_prior,\n",
    "                               n_samples, use_decay, decay_param, epoch, verbose):\n",
    "    mse_direct = F.mse_loss(mu_hat, z)\n",
    "    mse_var = torch.mean(torch.sum(logvar_hat.exp(), 1))\n",
    "    mse = mse_direct + mse_var\n",
    "\n",
    "    kdl_1 = torch.sum(torch.log(logvar_prior.exp()) - torch.log(v.exp()), 1)\n",
    "    kld_2 = (torch.sum(\n",
    "        -1 + (mu_hat - mu_prior).pow(2) * (1 / logvar_prior.exp()) + (logvar_hat.exp() * (1 / logvar_prior.exp())), 1))\n",
    "    kld = (1 / 2) * torch.mean(kdl_1)\n",
    "    \n",
    "    if use_decay:\n",
    "        kld = kld * (decay_param / n_samples)\n",
    "\n",
    "    if verbose and epoch is not None and epoch % 100 == 0:\n",
    "        print(\"Epoch {} MSE DIR {} MSE VAR {} KLD {} STEPS {}\".format(epoch, mse_direct.item(), mse_var.item(),\n",
    "                                                                      kld.item(), n_samples))\n",
    "        print(\"X {} Y {} \".format(z[1][0], z[1][1]))\n",
    "        print(\"HX {} HY {}\".format(mu_hat[1][0], mu_hat[1][1]))\n",
    "        print(\"\\n\")\n",
    "    return mse + kld, kld.item(), mse.item()\n",
    "\n",
    "vae = torch.load(\"nanvae\")\n",
    "optim = torch.load(\"optim\")\n",
    "new_t = torch.load(\"newtasks\")\n",
    "ctx = torch.load(\"nanctx\")\n",
    "mu_prior = torch.load(\"muprior\")\n",
    "logvar_prior = torch.load(\"logvar_prior\")\n",
    "prior = torch.load(\"prior\")\n",
    "\n",
    "with torch.autograd.detect_anomaly():\n",
    "    optim.zero_grad()\n",
    "    _, m, v = vae(ctx, prior)\n",
    "    loss, kdl, mse = temp(z=new_t,\n",
    "                        mu_hat=m,\n",
    "                        logvar_hat=v,\n",
    "                        mu_prior=mu_prior,\n",
    "                        logvar_prior=logvar_prior,\n",
    "                        n_samples=138,\n",
    "                        use_decay=True,\n",
    "                        decay_param=1,\n",
    "                        epoch=0,\n",
    "                        verbose=False\n",
    "                        )\n",
    "    loss.backward()"
   ]
  },
  {
   "cell_type": "code",
   "execution_count": null,
   "metadata": {},
   "outputs": [],
   "source": []
  },
  {
   "cell_type": "code",
   "execution_count": null,
   "metadata": {},
   "outputs": [],
   "source": []
  },
  {
   "cell_type": "code",
   "execution_count": 215,
   "metadata": {},
   "outputs": [
    {
     "data": {
      "text/plain": [
       "tensor([2.2486e-23, 3.3589e-23, 6.2611e-23, 3.0600e-23, 3.3403e-23, 2.6000e-23,\n",
       "        2.6007e-23, 5.5396e-23, 6.9912e-23, 2.8878e-23, 4.7563e-23, 2.8266e-23,\n",
       "        5.2915e-23, 3.6340e-23, 6.6136e-23, 4.4179e-23],\n",
       "       grad_fn=<ProdBackward1>)"
      ]
     },
     "execution_count": 215,
     "metadata": {},
     "output_type": "execute_result"
    }
   ],
   "source": [
    "(torch.prod(v.exp(), 1))"
   ]
  },
  {
   "cell_type": "code",
   "execution_count": 216,
   "metadata": {},
   "outputs": [
    {
     "data": {
      "text/plain": [
       "tensor([[-7.1276, -5.8649, -5.4963, -8.8936, -6.8340, -5.9661, -6.4017, -5.5649],\n",
       "        [-7.1050, -5.8293, -5.5046, -8.8330, -6.7072, -5.9352, -6.4000, -5.4335],\n",
       "        [-7.0200, -5.7106, -5.3935, -8.7965, -6.5734, -5.8689, -6.4052, -5.3569],\n",
       "        [-7.0878, -5.8335, -5.5103, -8.8543, -6.7462, -5.9725, -6.3914, -5.4451],\n",
       "        [-7.0880, -5.7929, -5.4945, -8.8540, -6.7481, -5.9343, -6.3693, -5.4722],\n",
       "        [-7.1561, -5.8187, -5.4999, -8.8546, -6.8089, -5.9680, -6.4175, -5.4802],\n",
       "        [-7.0982, -5.8922, -5.5485, -8.8609, -6.7201, -5.9985, -6.4344, -5.4509],\n",
       "        [-6.9944, -5.7912, -5.4792, -8.7699, -6.6096, -5.8923, -6.3127, -5.3982],\n",
       "        [-7.0128, -5.7085, -5.4569, -8.7160, -6.5849, -5.8700, -6.3304, -5.3352],\n",
       "        [-6.9526, -5.8977, -5.4963, -8.8196, -6.7855, -6.0742, -6.3430, -5.5300],\n",
       "        [-7.0187, -5.7413, -5.4241, -8.7658, -6.6592, -5.9525, -6.3982, -5.4401],\n",
       "        [-7.0521, -5.8194, -5.4872, -8.8548, -6.7774, -6.0040, -6.3899, -5.5356],\n",
       "        [-6.9981, -5.8259, -5.4840, -8.7641, -6.5387, -5.9360, -6.4183, -5.3282],\n",
       "        [-7.0733, -5.7749, -5.4286, -8.7807, -6.7306, -5.9732, -6.4477, -5.4600],\n",
       "        [-6.8814, -5.8370, -5.4380, -8.6502, -6.5937, -5.9375, -6.3143, -5.4184],\n",
       "        [-7.0838, -5.7579, -5.4422, -8.8228, -6.6628, -5.8857, -6.3930, -5.4256]],\n",
       "       grad_fn=<AddmmBackward>)"
      ]
     },
     "execution_count": 216,
     "metadata": {},
     "output_type": "execute_result"
    }
   ],
   "source": [
    "v"
   ]
  },
  {
   "cell_type": "code",
   "execution_count": 227,
   "metadata": {},
   "outputs": [
    {
     "data": {
      "text/plain": [
       "tensor([ 3.5572,  3.4936, -3.9741,  5.3638,  0.5195,  3.3203,  2.4379,  3.8837,\n",
       "         2.8604,  5.6160,  1.3428,  0.0861,  6.3079,  3.5100, -1.0913,  5.6975],\n",
       "       grad_fn=<LogBackward>)"
      ]
     },
     "execution_count": 227,
     "metadata": {},
     "output_type": "execute_result"
    }
   ],
   "source": [
    "torch.log(torch.prod(logvar_prior.exp(), 1) / (1e-10+torch.prod(v.exp(), 1)))"
   ]
  },
  {
   "cell_type": "code",
   "execution_count": 222,
   "metadata": {},
   "outputs": [
    {
     "data": {
      "text/plain": [
       "tensor([32.6805, 32.2156, 24.1252, 34.1790, 29.2470, 32.2984, 31.4158, 32.1054,\n",
       "        30.8493, 34.4891, 29.7170, 28.9806, 34.5754, 32.1533, 26.9531, 34.1455],\n",
       "       grad_fn=<LogBackward>)"
      ]
     },
     "execution_count": 222,
     "metadata": {},
     "output_type": "execute_result"
    }
   ],
   "source": [
    "(torch.log(torch.prod(logvar_prior.exp(), 1) / (torch.prod(v.exp(), 1))))"
   ]
  },
  {
   "cell_type": "code",
   "execution_count": null,
   "metadata": {},
   "outputs": [],
   "source": []
  },
  {
   "cell_type": "code",
   "execution_count": 229,
   "metadata": {},
   "outputs": [],
   "source": []
  },
  {
   "cell_type": "code",
   "execution_count": null,
   "metadata": {},
   "outputs": [],
   "source": []
  },
  {
   "cell_type": "code",
   "execution_count": 231,
   "metadata": {},
   "outputs": [
    {
     "data": {
      "text/plain": [
       "tensor(-2.8053)"
      ]
     },
     "execution_count": 231,
     "metadata": {},
     "output_type": "execute_result"
    }
   ],
   "source": [
    "torch.sum(torch.log(x) - torch.log(y)) "
   ]
  },
  {
   "cell_type": "code",
   "execution_count": 237,
   "metadata": {},
   "outputs": [
    {
     "data": {
      "text/plain": [
       "tensor([32.6805, 32.2156, 24.1252, 34.1790, 29.2470, 32.2984, 31.4158, 32.1054,\n",
       "        30.8493, 34.4891, 29.7170, 28.9806, 34.5754, 32.1533, 26.9531, 34.1455],\n",
       "       grad_fn=<LogBackward>)"
      ]
     },
     "execution_count": 237,
     "metadata": {},
     "output_type": "execute_result"
    }
   ],
   "source": [
    "torch.log(torch.prod(logvar_prior.exp(), 1) / (torch.prod(v.exp(), 1)))"
   ]
  },
  {
   "cell_type": "code",
   "execution_count": 241,
   "metadata": {},
   "outputs": [
    {
     "data": {
      "text/plain": [
       "tensor([32.6805, 32.2156, 24.1252, 34.1790, 29.2470, 32.2984, 31.4158, 32.1054,\n",
       "        30.8493, 34.4891, 29.7170, 28.9806, 34.5754, 32.1533, 26.9531, 34.1455],\n",
       "       grad_fn=<SumBackward1>)"
      ]
     },
     "execution_count": 241,
     "metadata": {},
     "output_type": "execute_result"
    }
   ],
   "source": [
    "torch.sum(logvar_prior - v, 1)"
   ]
  },
  {
   "cell_type": "code",
   "execution_count": 243,
   "metadata": {},
   "outputs": [
    {
     "data": {
      "text/plain": [
       "1000000.0"
      ]
     },
     "execution_count": 243,
     "metadata": {},
     "output_type": "execute_result"
    }
   ],
   "source": [
    "1e6"
   ]
  },
  {
   "cell_type": "code",
   "execution_count": 244,
   "metadata": {},
   "outputs": [
    {
     "data": {
      "text/plain": [
       "tensor([nan, 1., 2., 3., 4., 5., 6., 7., 8., 9.])"
      ]
     },
     "execution_count": 244,
     "metadata": {},
     "output_type": "execute_result"
    }
   ],
   "source": [
    "t"
   ]
  },
  {
   "cell_type": "code",
   "execution_count": 245,
   "metadata": {},
   "outputs": [],
   "source": [
    "t = torch.arange(10, dtype=torch.float32)"
   ]
  },
  {
   "cell_type": "code",
   "execution_count": 247,
   "metadata": {},
   "outputs": [
    {
     "data": {
      "text/plain": [
       "tensor([ 0.,  1.,  4.,  9., 16., 25., 36., 49., 64., 81.])"
      ]
     },
     "execution_count": 247,
     "metadata": {},
     "output_type": "execute_result"
    }
   ],
   "source": [
    "t.pow(2)"
   ]
  },
  {
   "cell_type": "code",
   "execution_count": 256,
   "metadata": {},
   "outputs": [
    {
     "data": {
      "text/plain": [
       "31250.0"
      ]
     },
     "execution_count": 256,
     "metadata": {},
     "output_type": "execute_result"
    }
   ],
   "source": [
    "1e8 / 200 / 16"
   ]
  },
  {
   "cell_type": "code",
   "execution_count": 257,
   "metadata": {},
   "outputs": [
    {
     "data": {
      "text/plain": [
       "112500000"
      ]
     },
     "execution_count": 257,
     "metadata": {},
     "output_type": "execute_result"
    }
   ],
   "source": [
    "150 * 15 * 50000"
   ]
  },
  {
   "cell_type": "code",
   "execution_count": 258,
   "metadata": {},
   "outputs": [
    {
     "data": {
      "text/plain": [
       "45000"
      ]
     },
     "execution_count": 258,
     "metadata": {},
     "output_type": "execute_result"
    }
   ],
   "source": [
    "20 * 15 * 150"
   ]
  },
  {
   "cell_type": "code",
   "execution_count": null,
   "metadata": {},
   "outputs": [],
   "source": [
    "def get_const_task_sequence(alpha, n_restarts, num_test_processes, std=0.00000001):\n",
    "    kernel = C(1.0, (1e-8, 1e8)) * RBF(1, (1e-8, 1e8))\n",
    "\n",
    "    gp_list = []\n",
    "    for i in range(num_test_processes):\n",
    "        gp_list.append([GaussianProcessRegressor(kernel=kernel,\n",
    "                                                 alpha=alpha ** 2,\n",
    "                                                 normalize_y=False,\n",
    "                                                 n_restarts_optimizer=n_restarts)\n",
    "                        for _ in range(num_test_processes)])\n",
    "\n",
    "    friction = -0.7\n",
    "    init_prior_test = [torch.tensor([[friction], [std]], dtype=torch.float32)\n",
    "                       for _ in range(num_test_processes)]\n",
    "    prior_seq = []\n",
    "    for idx in range(300):\n",
    "        prior_seq.append(torch.tensor([[friction], [std]], dtype=torch.float32))\n",
    "\n",
    "    return gp_list, prior_seq, init_prior_test"
   ]
  },
  {
   "cell_type": "code",
   "execution_count": 270,
   "metadata": {},
   "outputs": [
    {
     "name": "stdout",
     "output_type": "stream",
     "text": [
      "-1.0\n",
      "-0.9\n",
      "-0.8\n",
      "-0.7\n",
      "-0.6\n",
      "-0.5\n",
      "-0.4\n",
      "-0.30000000000000004\n",
      "-0.19999999999999996\n",
      "-0.09999999999999998\n",
      "0.0\n",
      "0.10000000000000009\n",
      "0.19999999999999996\n",
      "0.30000000000000004\n",
      "0.3999999999999999\n",
      "0.5\n",
      "0.6000000000000001\n",
      "0.7\n",
      "0.8\n",
      "0.8999999999999999\n",
      "1.0\n",
      "1\n",
      "1\n",
      "1\n",
      "1\n",
      "1\n",
      "1\n",
      "1\n",
      "1\n",
      "1\n",
      "1.0\n",
      "0.9\n",
      "0.8\n",
      "0.7\n",
      "0.6\n",
      "0.5\n",
      "0.4\n",
      "0.30000000000000004\n",
      "0.19999999999999996\n",
      "0.09999999999999998\n",
      "0.0\n",
      "-0.10000000000000009\n",
      "-0.19999999999999996\n",
      "-0.30000000000000004\n",
      "-0.3999999999999999\n",
      "-0.5\n",
      "-0.6000000000000001\n",
      "-0.7\n",
      "-0.8\n",
      "-0.8999999999999999\n"
     ]
    }
   ],
   "source": [
    "idx = 0\n",
    "\n",
    "while idx < 50:\n",
    "    if idx <= 20:\n",
    "        print(-1 + idx / 10)\n",
    "    elif idx >= 20 and idx < 30 :\n",
    "        print(1)\n",
    "    else:\n",
    "        print(1 - (idx-30) / 10)\n",
    "    idx += 1"
   ]
  },
  {
   "cell_type": "code",
   "execution_count": 261,
   "metadata": {},
   "outputs": [
    {
     "data": {
      "text/plain": [
       "0.775"
      ]
     },
     "execution_count": 261,
     "metadata": {},
     "output_type": "execute_result"
    }
   ],
   "source": []
  },
  {
   "cell_type": "code",
   "execution_count": 276,
   "metadata": {},
   "outputs": [
    {
     "data": {
      "text/plain": [
       "20000000.0"
      ]
     },
     "execution_count": 276,
     "metadata": {},
     "output_type": "execute_result"
    }
   ],
   "source": [
    "50000*150*16 - 1e8"
   ]
  },
  {
   "cell_type": "code",
   "execution_count": null,
   "metadata": {},
   "outputs": [],
   "source": []
  },
  {
   "cell_type": "code",
   "execution_count": null,
   "metadata": {},
   "outputs": [],
   "source": []
  }
 ],
 "metadata": {
  "kernelspec": {
   "display_name": "Python 3",
   "language": "python",
   "name": "python3"
  },
  "language_info": {
   "codemirror_mode": {
    "name": "ipython",
    "version": 3
   },
   "file_extension": ".py",
   "mimetype": "text/x-python",
   "name": "python",
   "nbconvert_exporter": "python",
   "pygments_lexer": "ipython3",
   "version": "3.7.6"
  }
 },
 "nbformat": 4,
 "nbformat_minor": 2
}
