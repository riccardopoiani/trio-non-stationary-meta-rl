{
 "cells": [
  {
   "cell_type": "code",
   "execution_count": 12,
   "metadata": {},
   "outputs": [],
   "source": [
    "import torch\n",
    "import numpy as np\n",
    "import pickle\n",
    "\n",
    "from sklearn.gaussian_process import GaussianProcessRegressor\n",
    "from sklearn.gaussian_process.kernels import RBF, Product, ConstantKernel as C\n",
    "\n",
    "import matplotlib.pyplot as plt\n",
    "import gym_sin\n",
    "from gym import spaces\n",
    "\n",
    "from utilities.arguments import get_args\n",
    "from learner.posterior_multi_task import PosteriorMTAgent\n",
    "from inference.inference_network import InferenceNetwork\n",
    "from ppo_a2c.envs import make_vec_envs_multi_task, get_vec_envs_multi_task\n",
    "from task.GuassianTaskGenerator import GaussianTaskGenerator\n",
    "from utilities.folder_management import handle_folder_creation\n"
   ]
  },
  {
   "cell_type": "code",
   "execution_count": 100,
   "metadata": {},
   "outputs": [],
   "source": [
    "def get_const_task_sequence(alpha, n_restarts, num_test_processes, std):\n",
    "    kernel = C(1.0, (1e-8, 1e8)) * RBF(1, (1e-8, 1e8))\n",
    "\n",
    "    gp_list = []\n",
    "    for i in range(num_test_processes):\n",
    "        gp_list.append([GaussianProcessRegressor(kernel=kernel,\n",
    "                                                 alpha=alpha ** 2,\n",
    "                                                 normalize_y=False,\n",
    "                                                 n_restarts_optimizer=n_restarts)\n",
    "                        for _ in range(num_test_processes)])\n",
    "    init_prior_test = [torch.tensor([[-10], [5]], dtype=torch.float32) for _ in range(num_test_processes)]\n",
    "\n",
    "    mean = -5\n",
    "\n",
    "    prior_seq = []\n",
    "    for idx in range(50):\n",
    "        prior_seq.append(torch.tensor([[mean], [std]], dtype=torch.float32))\n",
    "\n",
    "    return gp_list, prior_seq, init_prior_test"
   ]
  },
  {
   "cell_type": "code",
   "execution_count": 101,
   "metadata": {},
   "outputs": [],
   "source": [
    "num_test_processes = 1\n",
    "gp_list, _, _ = get_const_task_sequence(3, 1, num_test_processes, 5)"
   ]
  },
  {
   "cell_type": "code",
   "execution_count": 102,
   "metadata": {},
   "outputs": [
    {
     "data": {
      "text/plain": [
       "GaussianProcessRegressor(alpha=9, copy_X_train=True,\n",
       "                         kernel=1**2 * RBF(length_scale=1),\n",
       "                         n_restarts_optimizer=1, normalize_y=False,\n",
       "                         optimizer='fmin_l_bfgs_b', random_state=None)"
      ]
     },
     "execution_count": 102,
     "metadata": {},
     "output_type": "execute_result"
    }
   ],
   "source": [
    "x_train = np.arange(10)\n",
    "y_train = np.arange(10)\n",
    "gp_list[0][0].fit(np.atleast_2d(x_train).T, np.atleast_2d(y_train).T)"
   ]
  },
  {
   "cell_type": "code",
   "execution_count": 103,
   "metadata": {},
   "outputs": [],
   "source": [
    "x_points = np.atleast_2d(np.arange(50)).T\n",
    "pred, sigma = gp_list[0][0].predict(x_points, return_std=True)"
   ]
  },
  {
   "cell_type": "code",
   "execution_count": 104,
   "metadata": {},
   "outputs": [
    {
     "data": {
      "text/plain": [
       "[<matplotlib.lines.Line2D at 0x1a7328c16c8>]"
      ]
     },
     "execution_count": 104,
     "metadata": {},
     "output_type": "execute_result"
    },
    {
     "data": {
      "image/png": "[encoded data removed]",
      "text/plain": [
       "<Figure size 432x288 with 1 Axes>"
      ]
     },
     "metadata": {
      "needs_background": "light"
     },
     "output_type": "display_data"
    }
   ],
   "source": [
    "plt.plot(x_points, pred)\n",
    "plt.plot(x_points, np.arange(50))"
   ]
  },
  {
   "cell_type": "code",
   "execution_count": 105,
   "metadata": {},
   "outputs": [
    {
     "data": {
      "text/plain": [
       "[<matplotlib.lines.Line2D at 0x1a7329480c8>]"
      ]
     },
     "execution_count": 105,
     "metadata": {},
     "output_type": "execute_result"
    },
    {
     "data": {
      "image/png": "[encoded data removed]",
      "text/plain": [
       "<Figure size 432x288 with 1 Axes>"
      ]
     },
     "metadata": {
      "needs_background": "light"
     },
     "output_type": "display_data"
    }
   ],
   "source": [
    "plt.plot(x_points, sigma)"
   ]
  },
  {
   "cell_type": "code",
   "execution_count": 84,
   "metadata": {},
   "outputs": [
    {
     "data": {
      "text/plain": [
       "0.0010003569188179733"
      ]
     },
     "execution_count": 84,
     "metadata": {},
     "output_type": "execute_result"
    }
   ],
   "source": [
    "sigma[0]"
   ]
  },
  {
   "cell_type": "code",
   "execution_count": 107,
   "metadata": {},
   "outputs": [
    {
     "data": {
      "text/plain": [
       "[<matplotlib.lines.Line2D at 0x1a732a16c08>]"
      ]
     },
     "execution_count": 107,
     "metadata": {},
     "output_type": "execute_result"
    },
    {
     "data": {
      "image/png": "[encoded data removed]",
      "text/plain": [
       "<Figure size 432x288 with 1 Axes>"
      ]
     },
     "metadata": {
      "needs_background": "light"
     },
     "output_type": "display_data"
    }
   ],
   "source": [
    "v = []\n",
    "for idx in range(50):\n",
    "    if idx < 15:\n",
    "        v.append(-30)\n",
    "    elif idx < 30:\n",
    "        v.append(idx - 25 - 15)\n",
    "    else:\n",
    "        v.append(30 - 25 - 15)\n",
    "plt.plot(v)"
   ]
  },
  {
   "cell_type": "code",
   "execution_count": 112,
   "metadata": {},
   "outputs": [
    {
     "data": {
      "text/plain": [
       "0.001"
      ]
     },
     "execution_count": 112,
     "metadata": {},
     "output_type": "execute_result"
    }
   ],
   "source": [
    "1e-3"
   ]
  },
  {
   "cell_type": "code",
   "execution_count": null,
   "metadata": {},
   "outputs": [],
   "source": []
  }
 ],
 "metadata": {
  "kernelspec": {
   "display_name": "Python 3",
   "language": "python",
   "name": "python3"
  },
  "language_info": {
   "codemirror_mode": {
    "name": "ipython",
    "version": 3
   },
   "file_extension": ".py",
   "mimetype": "text/x-python",
   "name": "python",
   "nbconvert_exporter": "python",
   "pygments_lexer": "ipython3",
   "version": "3.7.6"
  }
 },
 "nbformat": 4,
 "nbformat_minor": 2
}
